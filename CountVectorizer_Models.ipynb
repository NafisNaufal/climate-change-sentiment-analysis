{
 "cells": [
  {
   "cell_type": "code",
   "execution_count": 41,
   "id": "cbaa0f61",
   "metadata": {},
   "outputs": [],
   "source": [
    "import pandas as pd\n",
    "from sklearn.naive_bayes import MultinomialNB\n",
    "from sklearn.model_selection import train_test_split\n",
    "from sklearn.metrics import accuracy_score"
   ]
  },
  {
   "cell_type": "code",
   "execution_count": 42,
   "id": "fbf5a9fd",
   "metadata": {},
   "outputs": [],
   "source": [
    "import pandas as pd\n",
    "import re\n",
    "import nltk\n",
    "from nltk.stem import PorterStemmer, WordNetLemmatizer\n",
    "from nltk.corpus import stopwords\n",
    "from sklearn.feature_extraction.text import CountVectorizer\n",
    "from sklearn.model_selection import train_test_split\n",
    "from sklearn.ensemble import RandomForestClassifier\n",
    "from sklearn.naive_bayes import MultinomialNB\n",
    "from sklearn.linear_model import LogisticRegression\n",
    "from sklearn.tree import DecisionTreeClassifier\n",
    "from sklearn.svm import SVC\n",
    "from sklearn.metrics import accuracy_score"
   ]
  },
  {
   "cell_type": "code",
   "execution_count": 43,
   "id": "6fe13203",
   "metadata": {},
   "outputs": [],
   "source": [
    "df = pd.read_csv(\n",
    "    \"https://raw.githubusercontent.com/anoop-vs/nlp-climate-change/refs/heads/main/main_data.csv\"\n",
    ")"
   ]
  },
  {
   "cell_type": "code",
   "execution_count": 44,
   "id": "74647925",
   "metadata": {},
   "outputs": [
    {
     "name": "stderr",
     "output_type": "stream",
     "text": [
      "[nltk_data] Downloading package stopwords to /Users/nafis/nltk_data...\n",
      "[nltk_data]   Package stopwords is already up-to-date!\n",
      "[nltk_data] Downloading package wordnet to /Users/nafis/nltk_data...\n",
      "[nltk_data]   Package wordnet is already up-to-date!\n",
      "[nltk_data] Downloading package omw-1.4 to /Users/nafis/nltk_data...\n",
      "[nltk_data]   Package omw-1.4 is already up-to-date!\n"
     ]
    },
    {
     "data": {
      "text/plain": [
       "True"
      ]
     },
     "execution_count": 44,
     "metadata": {},
     "output_type": "execute_result"
    }
   ],
   "source": [
    "nltk.download(\"stopwords\")\n",
    "nltk.download(\"wordnet\")\n",
    "nltk.download(\"omw-1.4\")"
   ]
  },
  {
   "cell_type": "code",
   "execution_count": 45,
   "id": "c2abb04f",
   "metadata": {},
   "outputs": [],
   "source": [
    "def preprocess(text):\n",
    "    text = re.sub(\"[^a-zA-Z]\", \" \", text)\n",
    "    text = text.lower()\n",
    "    words = text.split()\n",
    "    stopword_list = set(stopwords.words(\"english\"))\n",
    "    words = [w for w in words if w not in stopword_list]\n",
    "    stemmer = PorterStemmer()\n",
    "    words = [stemmer.stem(w) for w in words]\n",
    "    lemmatizer = WordNetLemmatizer()\n",
    "    words = [lemmatizer.lemmatize(w) for w in words]\n",
    "    text = \" \".join(words)\n",
    "    return text"
   ]
  },
  {
   "cell_type": "code",
   "execution_count": 46,
   "id": "28f92b69",
   "metadata": {},
   "outputs": [],
   "source": [
    "df[\"content\"] = df[\"content\"].apply(preprocess)"
   ]
  },
  {
   "cell_type": "code",
   "execution_count": 47,
   "id": "e7167b68",
   "metadata": {},
   "outputs": [],
   "source": [
    "from imblearn.over_sampling import RandomOverSampler"
   ]
  },
  {
   "cell_type": "code",
   "execution_count": 48,
   "id": "4b22e152",
   "metadata": {},
   "outputs": [],
   "source": [
    "oversampler = RandomOverSampler(\n",
    "    sampling_strategy={\"Negative\": 1842, \"Positive\": 1822, \"Neutral\": 1842}\n",
    ")"
   ]
  },
  {
   "cell_type": "code",
   "execution_count": 49,
   "id": "218c2030",
   "metadata": {},
   "outputs": [],
   "source": [
    "X = df.drop(\"label\", axis=1)\n",
    "y = df[\"label\"]"
   ]
  },
  {
   "cell_type": "code",
   "execution_count": 50,
   "id": "516e4d32",
   "metadata": {},
   "outputs": [],
   "source": [
    "X_resampled, y_resampled = oversampler.fit_resample(X, y)"
   ]
  },
  {
   "cell_type": "code",
   "execution_count": 51,
   "id": "175e8522",
   "metadata": {},
   "outputs": [],
   "source": [
    "df_resampled = pd.concat([X_resampled, y_resampled], axis=1)"
   ]
  },
  {
   "cell_type": "code",
   "execution_count": 52,
   "id": "7831ba02",
   "metadata": {},
   "outputs": [],
   "source": [
    "X = df_resampled[\"content\"]"
   ]
  },
  {
   "cell_type": "code",
   "execution_count": 53,
   "id": "54814f7d",
   "metadata": {},
   "outputs": [],
   "source": [
    "y = df_resampled[\"label\"]"
   ]
  },
  {
   "cell_type": "code",
   "execution_count": 54,
   "id": "69d3b28c",
   "metadata": {},
   "outputs": [],
   "source": [
    "X_train, X_test, y_train, y_test = train_test_split(\n",
    "    X, y, test_size=0.2, random_state=42\n",
    ")"
   ]
  },
  {
   "cell_type": "markdown",
   "id": "fd1b3099",
   "metadata": {},
   "source": [
    "COUNTVECTORIZER - LOGISTIC REGRESSION\n"
   ]
  },
  {
   "cell_type": "code",
   "execution_count": 55,
   "id": "3a690814",
   "metadata": {},
   "outputs": [],
   "source": [
    "# Convert the text data to numerical vectors using count Vectorizer\n",
    "vectorizer = CountVectorizer()\n",
    "\n",
    "X_train_cv = vectorizer.fit_transform(X_train)\n",
    "X_test_cv = vectorizer.transform(X_test)"
   ]
  },
  {
   "cell_type": "code",
   "execution_count": 56,
   "id": "1b181371",
   "metadata": {},
   "outputs": [
    {
     "name": "stdout",
     "output_type": "stream",
     "text": [
      "Accuracy: 0.7903811252268602\n"
     ]
    }
   ],
   "source": [
    "# Initialize a logistic regression model with default parameters\n",
    "lr_model = LogisticRegression(C=0.1, solver = 'lbfgs')\n",
    "\n",
    "# Fit the model on the training data\n",
    "lr_model.fit(X_train_cv, y_train)\n",
    "\n",
    "# Predict the target variable on the testing data\n",
    "y_pred = lr_model.predict(X_test_cv)\n",
    "\n",
    "# Calculate the accuracy score of the model on the testing data\n",
    "accuracy = accuracy_score(y_test, y_pred)\n",
    "\n",
    "# Print the accuracy score\n",
    "print('Accuracy:', accuracy)"
   ]
  },
  {
   "cell_type": "markdown",
   "id": "f7197392",
   "metadata": {},
   "source": [
    "### COUNTVECTORIZER - RANDOM FOREST\n"
   ]
  },
  {
   "cell_type": "code",
   "execution_count": 57,
   "id": "6eee387b",
   "metadata": {},
   "outputs": [
    {
     "name": "stdout",
     "output_type": "stream",
     "text": [
      "              precision    recall  f1-score   support\n",
      "\n",
      "    Negative       0.93      0.97      0.95       389\n",
      "     Neutral       0.89      0.85      0.87       370\n",
      "    Positive       0.87      0.87      0.87       343\n",
      "\n",
      "    accuracy                           0.90      1102\n",
      "   macro avg       0.90      0.90      0.90      1102\n",
      "weighted avg       0.90      0.90      0.90      1102\n",
      "\n"
     ]
    }
   ],
   "source": [
    "clf = RandomForestClassifier()\n",
    "clf.fit(X_train_cv, y_train)\n",
    "y_pred = clf.predict(X_test_cv)\n",
    "from sklearn.metrics import classification_report\n",
    "\n",
    "report = classification_report(y_test, y_pred)\n",
    "print(report)"
   ]
  },
  {
   "cell_type": "markdown",
   "id": "4058d135",
   "metadata": {},
   "source": [
    "### **COUNTVECTORIZER - SVM**\n"
   ]
  },
  {
   "cell_type": "code",
   "execution_count": 58,
   "id": "d550eb88",
   "metadata": {},
   "outputs": [
    {
     "name": "stdout",
     "output_type": "stream",
     "text": [
      "Accuracy: 0.8784029038112523\n"
     ]
    }
   ],
   "source": [
    "classifier = SVC(C=10, gamma=10, kernel=\"linear\")\n",
    "classifier.fit(X_train_cv, y_train)\n",
    "y_pred = classifier.predict(X_test_cv)\n",
    "accuracy = accuracy_score(y_test, y_pred)\n",
    "print(\"Accuracy:\", accuracy)"
   ]
  },
  {
   "cell_type": "code",
   "execution_count": 59,
   "id": "c0458ede",
   "metadata": {},
   "outputs": [
    {
     "name": "stdout",
     "output_type": "stream",
     "text": [
      "              precision    recall  f1-score   support\n",
      "\n",
      "    Negative       0.89      0.98      0.93       389\n",
      "     Neutral       0.88      0.82      0.85       370\n",
      "    Positive       0.86      0.83      0.84       343\n",
      "\n",
      "    accuracy                           0.88      1102\n",
      "   macro avg       0.88      0.88      0.88      1102\n",
      "weighted avg       0.88      0.88      0.88      1102\n",
      "\n"
     ]
    }
   ],
   "source": [
    "report = classification_report(y_test, y_pred)\n",
    "print(report)"
   ]
  },
  {
   "cell_type": "markdown",
   "id": "d7742cee",
   "metadata": {},
   "source": [
    "### COUNTVECTORIZER - DECISION TREE\n"
   ]
  },
  {
   "cell_type": "code",
   "execution_count": 60,
   "id": "07cf3563",
   "metadata": {},
   "outputs": [
    {
     "name": "stdout",
     "output_type": "stream",
     "text": [
      "Accuracy: 0.7976406533575318\n"
     ]
    },
    {
     "name": "stderr",
     "output_type": "stream",
     "text": [
      "/Users/nafis/code/python/climate change sentiment analysis/.venv311/lib/python3.11/site-packages/sklearn/tree/_classes.py:298: FutureWarning: `max_features='auto'` has been deprecated in 1.1 and will be removed in 1.3. To keep the past behaviour, explicitly set `max_features='sqrt'`.\n",
      "  warnings.warn(\n"
     ]
    }
   ],
   "source": [
    "dt_model = DecisionTreeClassifier(\n",
    "    max_depth=None, max_features=\"auto\", min_samples_leaf=1, min_samples_split=2\n",
    ")\n",
    "dt_model.fit(X_train_cv, y_train)\n",
    "y_pred = dt_model.predict(X_test_cv)\n",
    "accuracy = accuracy_score(y_test, y_pred)\n",
    "print(\"Accuracy:\", accuracy)"
   ]
  },
  {
   "cell_type": "code",
   "execution_count": 61,
   "id": "bcf6c48a",
   "metadata": {},
   "outputs": [
    {
     "name": "stdout",
     "output_type": "stream",
     "text": [
      "              precision    recall  f1-score   support\n",
      "\n",
      "    Negative       0.89      0.94      0.92       389\n",
      "     Neutral       0.74      0.74      0.74       370\n",
      "    Positive       0.75      0.70      0.72       343\n",
      "\n",
      "    accuracy                           0.80      1102\n",
      "   macro avg       0.79      0.79      0.79      1102\n",
      "weighted avg       0.79      0.80      0.80      1102\n",
      "\n"
     ]
    }
   ],
   "source": [
    "report = classification_report(y_test, y_pred)\n",
    "print(report)"
   ]
  },
  {
   "cell_type": "markdown",
   "id": "518e564d",
   "metadata": {},
   "source": [
    "### COUNTVECTORIZER - NAIVE BAYES\n"
   ]
  },
  {
   "cell_type": "code",
   "execution_count": 62,
   "id": "3c709d03",
   "metadata": {},
   "outputs": [],
   "source": [
    "clf = MultinomialNB()\n",
    "clf.fit(X_train_cv, y_train)\n",
    "y_pred = clf.predict(X_test_cv)"
   ]
  },
  {
   "cell_type": "code",
   "execution_count": 63,
   "id": "4ec96c15",
   "metadata": {},
   "outputs": [
    {
     "name": "stdout",
     "output_type": "stream",
     "text": [
      "              precision    recall  f1-score   support\n",
      "\n",
      "    Negative       0.77      0.95      0.85       389\n",
      "     Neutral       0.88      0.66      0.75       370\n",
      "    Positive       0.79      0.78      0.78       343\n",
      "\n",
      "    accuracy                           0.80      1102\n",
      "   macro avg       0.81      0.80      0.80      1102\n",
      "weighted avg       0.81      0.80      0.80      1102\n",
      "\n"
     ]
    }
   ],
   "source": [
    "from sklearn.metrics import classification_report\n",
    "\n",
    "report = classification_report(y_test, y_pred)\n",
    "print(report)"
   ]
  }
 ],
 "metadata": {
  "kernelspec": {
   "display_name": ".venv311",
   "language": "python",
   "name": "python3"
  },
  "language_info": {
   "codemirror_mode": {
    "name": "ipython",
    "version": 3
   },
   "file_extension": ".py",
   "mimetype": "text/x-python",
   "name": "python",
   "nbconvert_exporter": "python",
   "pygments_lexer": "ipython3",
   "version": "3.11.13"
  }
 },
 "nbformat": 4,
 "nbformat_minor": 5
}
