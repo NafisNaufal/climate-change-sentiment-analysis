{
 "cells": [
  {
   "cell_type": "markdown",
   "id": "7d881b3f",
   "metadata": {},
   "source": [
    "# CountVectorizer Models — split first (Kaggle)\n",
    "\n",
    "RandomOverSampler is applied only on the training set after train/test split. Data is loaded from Kaggle via kagglehub.\n"
   ]
  },
  {
   "cell_type": "code",
   "execution_count": 1,
   "id": "8cb7d88d",
   "metadata": {},
   "outputs": [],
   "source": [
    "import pandas as pd\n",
    "import numpy as np\n",
    "import re\n",
    "import nltk\n",
    "from nltk.stem import PorterStemmer, WordNetLemmatizer\n",
    "from nltk.corpus import stopwords\n",
    "from sklearn.model_selection import train_test_split\n",
    "from sklearn.feature_extraction.text import CountVectorizer\n",
    "from sklearn.linear_model import LogisticRegression\n",
    "from sklearn.ensemble import RandomForestClassifier\n",
    "from sklearn.tree import DecisionTreeClassifier\n",
    "from sklearn.svm import SVC\n",
    "from sklearn.naive_bayes import MultinomialNB\n",
    "from sklearn.metrics import classification_report\n",
    "from imblearn.over_sampling import RandomOverSampler"
   ]
  },
  {
   "cell_type": "code",
   "execution_count": 2,
   "id": "91a24226",
   "metadata": {},
   "outputs": [
    {
     "name": "stderr",
     "output_type": "stream",
     "text": [
      "/var/folders/sk/y2tr30gd0rb5nh0nxms786m00000gn/T/ipykernel_47531/495693995.py:16: DeprecationWarning: Use dataset_load() instead of load_dataset(). load_dataset() will be removed in a future version.\n",
      "  df = kagglehub.load_dataset(\n"
     ]
    },
    {
     "data": {
      "text/html": [
       "<div>\n",
       "<style scoped>\n",
       "    .dataframe tbody tr th:only-of-type {\n",
       "        vertical-align: middle;\n",
       "    }\n",
       "\n",
       "    .dataframe tbody tr th {\n",
       "        vertical-align: top;\n",
       "    }\n",
       "\n",
       "    .dataframe thead th {\n",
       "        text-align: right;\n",
       "    }\n",
       "</style>\n",
       "<table border=\"1\" class=\"dataframe\">\n",
       "  <thead>\n",
       "    <tr style=\"text-align: right;\">\n",
       "      <th></th>\n",
       "      <th>message</th>\n",
       "      <th>sentiment</th>\n",
       "    </tr>\n",
       "  </thead>\n",
       "  <tbody>\n",
       "    <tr>\n",
       "      <th>0</th>\n",
       "      <td>@tiniebeany climate change is an interesting h...</td>\n",
       "      <td>-1</td>\n",
       "    </tr>\n",
       "    <tr>\n",
       "      <th>1</th>\n",
       "      <td>RT @NatGeoChannel: Watch #BeforeTheFlood right...</td>\n",
       "      <td>1</td>\n",
       "    </tr>\n",
       "    <tr>\n",
       "      <th>2</th>\n",
       "      <td>Fabulous! Leonardo #DiCaprio's film on #climat...</td>\n",
       "      <td>1</td>\n",
       "    </tr>\n",
       "    <tr>\n",
       "      <th>3</th>\n",
       "      <td>RT @Mick_Fanning: Just watched this amazing do...</td>\n",
       "      <td>1</td>\n",
       "    </tr>\n",
       "    <tr>\n",
       "      <th>5</th>\n",
       "      <td>Unamshow awache kujinga na iko global warming ...</td>\n",
       "      <td>0</td>\n",
       "    </tr>\n",
       "  </tbody>\n",
       "</table>\n",
       "</div>"
      ],
      "text/plain": [
       "                                             message  sentiment\n",
       "0  @tiniebeany climate change is an interesting h...         -1\n",
       "1  RT @NatGeoChannel: Watch #BeforeTheFlood right...          1\n",
       "2  Fabulous! Leonardo #DiCaprio's film on #climat...          1\n",
       "3  RT @Mick_Fanning: Just watched this amazing do...          1\n",
       "5  Unamshow awache kujinga na iko global warming ...          0"
      ]
     },
     "execution_count": 2,
     "metadata": {},
     "output_type": "execute_result"
    }
   ],
   "source": [
    "# Install and import kagglehub\n",
    "try:\n",
    "    import kagglehub\n",
    "    from kagglehub import KaggleDatasetAdapter\n",
    "except Exception:\n",
    "    import sys, subprocess\n",
    "\n",
    "    subprocess.check_call(\n",
    "        [sys.executable, \"-m\", \"pip\", \"install\", \"kagglehub[pandas-datasets]\"]\n",
    "    )\n",
    "    import kagglehub\n",
    "    from kagglehub import KaggleDatasetAdapter\n",
    "\n",
    "# Load Kaggle dataset\n",
    "file_path = \"twitter_sentiment_data.csv\"\n",
    "df = kagglehub.load_dataset(\n",
    "    KaggleDatasetAdapter.PANDAS,\n",
    "    \"edqian/twitter-climate-change-sentiment-dataset\",\n",
    "    file_path,\n",
    ")\n",
    "\n",
    "# Select required columns by exact name\n",
    "df = df[[\"message\", \"sentiment\"]]\n",
    "\n",
    "# Drop sentiment '2' (supports both numeric 2 and string '2')\n",
    "if df[\"sentiment\"].dtype.kind in {\"i\", \"u\", \"f\"}:\n",
    "    df = df[df[\"sentiment\"] != 2]\n",
    "else:\n",
    "    df = df[df[\"sentiment\"].astype(str) != \"2\"]\n",
    "\n",
    "df.head()"
   ]
  },
  {
   "cell_type": "code",
   "execution_count": 3,
   "id": "8e7dc90f",
   "metadata": {},
   "outputs": [
    {
     "name": "stderr",
     "output_type": "stream",
     "text": [
      "[nltk_data] Downloading package stopwords to /Users/nafis/nltk_data...\n",
      "[nltk_data]   Package stopwords is already up-to-date!\n",
      "[nltk_data] Downloading package wordnet to /Users/nafis/nltk_data...\n",
      "[nltk_data]   Package wordnet is already up-to-date!\n",
      "[nltk_data] Downloading package omw-1.4 to /Users/nafis/nltk_data...\n",
      "[nltk_data]   Package omw-1.4 is already up-to-date!\n"
     ]
    },
    {
     "data": {
      "text/plain": [
       "True"
      ]
     },
     "execution_count": 3,
     "metadata": {},
     "output_type": "execute_result"
    }
   ],
   "source": [
    "# NLTK prerequisites\n",
    "nltk.download(\"stopwords\")\n",
    "nltk.download(\"wordnet\")\n",
    "nltk.download(\"omw-1.4\")"
   ]
  },
  {
   "cell_type": "code",
   "execution_count": 4,
   "id": "0c649291",
   "metadata": {},
   "outputs": [],
   "source": [
    "# Preprocess and split\n",
    "def preprocess(text):\n",
    "    text = re.sub(\"[^a-zA-Z]\", \" \", str(text))\n",
    "    text = text.lower()\n",
    "    words = text.split()\n",
    "    sw = set(stopwords.words(\"english\"))\n",
    "    words = [w for w in words if w not in sw]\n",
    "    stemmer = PorterStemmer()\n",
    "    words = [stemmer.stem(w) for w in words]\n",
    "    lemmatizer = WordNetLemmatizer()\n",
    "    words = [lemmatizer.lemmatize(w) for w in words]\n",
    "    return \" \".join(words)\n",
    "\n",
    "\n",
    "df[\"message\"] = df[\"message\"].apply(preprocess)\n",
    "X = df[\"message\"]\n",
    "y = df[\"sentiment\"]\n",
    "X_train, X_test, y_train, y_test = train_test_split(\n",
    "    X, y, test_size=0.2, random_state=42\n",
    ")"
   ]
  },
  {
   "cell_type": "code",
   "execution_count": 5,
   "id": "f1aac5f6",
   "metadata": {},
   "outputs": [],
   "source": [
    "# Vectorize (CountVectorizer)\n",
    "count_vectorizer = CountVectorizer()\n",
    "X_train_count = count_vectorizer.fit_transform(X_train)\n",
    "X_test_count = count_vectorizer.transform(X_test)"
   ]
  },
  {
   "cell_type": "code",
   "execution_count": 6,
   "id": "50d6a63c",
   "metadata": {},
   "outputs": [
    {
     "data": {
      "text/plain": [
       "((55170, 44806), (6934, 44806))"
      ]
     },
     "execution_count": 6,
     "metadata": {},
     "output_type": "execute_result"
    }
   ],
   "source": [
    "# Oversample training set only\n",
    "oversampler = RandomOverSampler(random_state=42)\n",
    "X_train_res, y_train_res = oversampler.fit_resample(X_train_count, y_train)\n",
    "X_train_res.shape, X_test_count.shape"
   ]
  },
  {
   "cell_type": "markdown",
   "id": "aac523ee",
   "metadata": {},
   "source": [
    "## Models\n"
   ]
  },
  {
   "cell_type": "code",
   "execution_count": null,
   "id": "316d8b6f",
   "metadata": {},
   "outputs": [
    {
     "name": "stdout",
     "output_type": "stream",
     "text": [
      "              precision    recall  f1-score   support\n",
      "\n",
      "          -1       0.62      0.61      0.62       824\n",
      "           0       0.55      0.59      0.57      1538\n",
      "           1       0.86      0.84      0.85      4572\n",
      "\n",
      "    accuracy                           0.76      6934\n",
      "   macro avg       0.68      0.68      0.68      6934\n",
      "weighted avg       0.76      0.76      0.76      6934\n",
      "\n"
     ]
    }
   ],
   "source": [
    "# Logistic Regression\n",
    "logreg = LogisticRegression(max_iter=500, random_state=42)\n",
    "logreg.fit(X_train_res, y_train_res)\n",
    "y_pred = logreg.predict(X_test_count)\n",
    "print(classification_report(y_test, y_pred))"
   ]
  },
  {
   "cell_type": "code",
   "execution_count": 8,
   "id": "71ea609b",
   "metadata": {},
   "outputs": [
    {
     "name": "stdout",
     "output_type": "stream",
     "text": [
      "              precision    recall  f1-score   support\n",
      "\n",
      "          -1       0.75      0.43      0.55       824\n",
      "           0       0.56      0.53      0.55      1538\n",
      "           1       0.81      0.89      0.85      4572\n",
      "\n",
      "    accuracy                           0.76      6934\n",
      "   macro avg       0.71      0.62      0.65      6934\n",
      "weighted avg       0.75      0.76      0.75      6934\n",
      "\n"
     ]
    }
   ],
   "source": [
    "# Random Forest\n",
    "rfc = RandomForestClassifier()\n",
    "rfc.fit(X_train_res, y_train_res)\n",
    "y_pred = rfc.predict(X_test_count)\n",
    "print(classification_report(y_test, y_pred))"
   ]
  },
  {
   "cell_type": "code",
   "execution_count": 9,
   "id": "3f83b62c",
   "metadata": {},
   "outputs": [
    {
     "name": "stdout",
     "output_type": "stream",
     "text": [
      "              precision    recall  f1-score   support\n",
      "\n",
      "          -1       0.58      0.55      0.57       824\n",
      "           0       0.54      0.53      0.53      1538\n",
      "           1       0.84      0.85      0.84      4572\n",
      "\n",
      "    accuracy                           0.74      6934\n",
      "   macro avg       0.65      0.64      0.65      6934\n",
      "weighted avg       0.74      0.74      0.74      6934\n",
      "\n"
     ]
    }
   ],
   "source": [
    "# Linear SVM\n",
    "svm = SVC(kernel=\"linear\")\n",
    "svm.fit(X_train_res, y_train_res)\n",
    "y_pred = svm.predict(X_test_count)\n",
    "print(classification_report(y_test, y_pred))"
   ]
  },
  {
   "cell_type": "code",
   "execution_count": 10,
   "id": "671d5569",
   "metadata": {},
   "outputs": [
    {
     "name": "stdout",
     "output_type": "stream",
     "text": [
      "              precision    recall  f1-score   support\n",
      "\n",
      "          -1       0.42      0.38      0.40       824\n",
      "           0       0.46      0.49      0.47      1538\n",
      "           1       0.79      0.78      0.79      4572\n",
      "\n",
      "    accuracy                           0.67      6934\n",
      "   macro avg       0.56      0.55      0.55      6934\n",
      "weighted avg       0.67      0.67      0.67      6934\n",
      "\n"
     ]
    }
   ],
   "source": [
    "# Decision Tree (avoid deprecated max_features='auto')\n",
    "dt = DecisionTreeClassifier(\n",
    "    max_depth=None, max_features=\"sqrt\", min_samples_leaf=1, min_samples_split=2\n",
    ")\n",
    "dt.fit(X_train_res, y_train_res)\n",
    "y_pred = dt.predict(X_test_count)\n",
    "print(classification_report(y_test, y_pred))"
   ]
  },
  {
   "cell_type": "code",
   "execution_count": 11,
   "id": "27640225",
   "metadata": {},
   "outputs": [
    {
     "name": "stdout",
     "output_type": "stream",
     "text": [
      "              precision    recall  f1-score   support\n",
      "\n",
      "          -1       0.44      0.73      0.55       824\n",
      "           0       0.55      0.44      0.49      1538\n",
      "           1       0.85      0.81      0.83      4572\n",
      "\n",
      "    accuracy                           0.72      6934\n",
      "   macro avg       0.61      0.66      0.62      6934\n",
      "weighted avg       0.74      0.72      0.72      6934\n",
      "\n"
     ]
    }
   ],
   "source": [
    "# Multinomial Naive Bayes (valid for non-negative sparse counts)\n",
    "nb = MultinomialNB()\n",
    "nb.fit(X_train_res, y_train_res)\n",
    "y_pred = nb.predict(X_test_count)\n",
    "print(classification_report(y_test, y_pred))"
   ]
  }
 ],
 "metadata": {
  "kernelspec": {
   "display_name": ".venv311",
   "language": "python",
   "name": "python3"
  },
  "language_info": {
   "codemirror_mode": {
    "name": "ipython",
    "version": 3
   },
   "file_extension": ".py",
   "mimetype": "text/x-python",
   "name": "python",
   "nbconvert_exporter": "python",
   "pygments_lexer": "ipython3",
   "version": "3.11.13"
  }
 },
 "nbformat": 4,
 "nbformat_minor": 5
}
