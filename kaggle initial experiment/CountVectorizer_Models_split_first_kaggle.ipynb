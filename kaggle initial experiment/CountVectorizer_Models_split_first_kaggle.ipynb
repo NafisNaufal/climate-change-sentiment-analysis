{
 "cells": [
  {
   "cell_type": "markdown",
   "id": "7d881b3f",
   "metadata": {},
   "source": [
    "# CountVectorizer Models — split first (Kaggle)\n",
    "\n",
    "RandomOverSampler is applied only on the training set after train/test split. Data is loaded from Kaggle via kagglehub.\n"
   ]
  },
  {
   "cell_type": "code",
   "execution_count": 1,
   "id": "8cb7d88d",
   "metadata": {},
   "outputs": [],
   "source": [
    "import pandas as pd\n",
    "import numpy as np\n",
    "import re\n",
    "import nltk\n",
    "from nltk.stem import PorterStemmer, WordNetLemmatizer\n",
    "from nltk.corpus import stopwords\n",
    "from sklearn.model_selection import train_test_split\n",
    "from sklearn.feature_extraction.text import CountVectorizer\n",
    "from sklearn.linear_model import LogisticRegression, Ridge\n",
    "from sklearn.ensemble import RandomForestClassifier\n",
    "from sklearn.naive_bayes import MultinomialNB\n",
    "from sklearn.metrics import classification_report\n",
    "from imblearn.over_sampling import RandomOverSampler"
   ]
  },
  {
   "cell_type": "code",
   "execution_count": 2,
   "id": "91a24226",
   "metadata": {},
   "outputs": [
    {
     "name": "stderr",
     "output_type": "stream",
     "text": [
      "/Library/Frameworks/Python.framework/Versions/3.13/lib/python3.13/site-packages/tqdm/auto.py:21: TqdmWarning: IProgress not found. Please update jupyter and ipywidgets. See https://ipywidgets.readthedocs.io/en/stable/user_install.html\n",
      "  from .autonotebook import tqdm as notebook_tqdm\n",
      "/var/folders/sk/y2tr30gd0rb5nh0nxms786m00000gn/T/ipykernel_39832/495693995.py:16: DeprecationWarning: Use dataset_load() instead of load_dataset(). load_dataset() will be removed in a future version.\n",
      "  df = kagglehub.load_dataset(\n"
     ]
    },
    {
     "data": {
      "text/html": [
       "<div>\n",
       "<style scoped>\n",
       "    .dataframe tbody tr th:only-of-type {\n",
       "        vertical-align: middle;\n",
       "    }\n",
       "\n",
       "    .dataframe tbody tr th {\n",
       "        vertical-align: top;\n",
       "    }\n",
       "\n",
       "    .dataframe thead th {\n",
       "        text-align: right;\n",
       "    }\n",
       "</style>\n",
       "<table border=\"1\" class=\"dataframe\">\n",
       "  <thead>\n",
       "    <tr style=\"text-align: right;\">\n",
       "      <th></th>\n",
       "      <th>message</th>\n",
       "      <th>sentiment</th>\n",
       "    </tr>\n",
       "  </thead>\n",
       "  <tbody>\n",
       "    <tr>\n",
       "      <th>0</th>\n",
       "      <td>@tiniebeany climate change is an interesting h...</td>\n",
       "      <td>-1</td>\n",
       "    </tr>\n",
       "    <tr>\n",
       "      <th>1</th>\n",
       "      <td>RT @NatGeoChannel: Watch #BeforeTheFlood right...</td>\n",
       "      <td>1</td>\n",
       "    </tr>\n",
       "    <tr>\n",
       "      <th>2</th>\n",
       "      <td>Fabulous! Leonardo #DiCaprio's film on #climat...</td>\n",
       "      <td>1</td>\n",
       "    </tr>\n",
       "    <tr>\n",
       "      <th>3</th>\n",
       "      <td>RT @Mick_Fanning: Just watched this amazing do...</td>\n",
       "      <td>1</td>\n",
       "    </tr>\n",
       "    <tr>\n",
       "      <th>5</th>\n",
       "      <td>Unamshow awache kujinga na iko global warming ...</td>\n",
       "      <td>0</td>\n",
       "    </tr>\n",
       "  </tbody>\n",
       "</table>\n",
       "</div>"
      ],
      "text/plain": [
       "                                             message  sentiment\n",
       "0  @tiniebeany climate change is an interesting h...         -1\n",
       "1  RT @NatGeoChannel: Watch #BeforeTheFlood right...          1\n",
       "2  Fabulous! Leonardo #DiCaprio's film on #climat...          1\n",
       "3  RT @Mick_Fanning: Just watched this amazing do...          1\n",
       "5  Unamshow awache kujinga na iko global warming ...          0"
      ]
     },
     "execution_count": 2,
     "metadata": {},
     "output_type": "execute_result"
    }
   ],
   "source": [
    "# Install and import kagglehub\n",
    "try:\n",
    "    import kagglehub\n",
    "    from kagglehub import KaggleDatasetAdapter\n",
    "except Exception:\n",
    "    import sys, subprocess\n",
    "\n",
    "    subprocess.check_call(\n",
    "        [sys.executable, \"-m\", \"pip\", \"install\", \"kagglehub[pandas-datasets]\"]\n",
    "    )\n",
    "    import kagglehub\n",
    "    from kagglehub import KaggleDatasetAdapter\n",
    "\n",
    "# Load Kaggle dataset\n",
    "file_path = \"twitter_sentiment_data.csv\"\n",
    "df = kagglehub.load_dataset(\n",
    "    KaggleDatasetAdapter.PANDAS,\n",
    "    \"edqian/twitter-climate-change-sentiment-dataset\",\n",
    "    file_path,\n",
    ")\n",
    "\n",
    "# Select required columns by exact name\n",
    "df = df[[\"message\", \"sentiment\"]]\n",
    "\n",
    "# Drop sentiment '2' (supports both numeric 2 and string '2')\n",
    "if df[\"sentiment\"].dtype.kind in {\"i\", \"u\", \"f\"}:\n",
    "    df = df[df[\"sentiment\"] != 2]\n",
    "else:\n",
    "    df = df[df[\"sentiment\"].astype(str) != \"2\"]\n",
    "\n",
    "df.head()"
   ]
  },
  {
   "cell_type": "code",
   "execution_count": 3,
   "id": "8e7dc90f",
   "metadata": {},
   "outputs": [
    {
     "name": "stderr",
     "output_type": "stream",
     "text": [
      "[nltk_data] Downloading package stopwords to /Users/nafis/nltk_data...\n",
      "[nltk_data]   Package stopwords is already up-to-date!\n",
      "[nltk_data] Downloading package wordnet to /Users/nafis/nltk_data...\n",
      "[nltk_data]   Package wordnet is already up-to-date!\n",
      "[nltk_data] Downloading package omw-1.4 to /Users/nafis/nltk_data...\n",
      "[nltk_data]   Package omw-1.4 is already up-to-date!\n"
     ]
    },
    {
     "data": {
      "text/plain": [
       "True"
      ]
     },
     "execution_count": 3,
     "metadata": {},
     "output_type": "execute_result"
    }
   ],
   "source": [
    "# NLTK prerequisites\n",
    "nltk.download(\"stopwords\")\n",
    "nltk.download(\"wordnet\")\n",
    "nltk.download(\"omw-1.4\")"
   ]
  },
  {
   "cell_type": "code",
   "execution_count": 4,
   "id": "0c649291",
   "metadata": {},
   "outputs": [],
   "source": [
    "# Preprocess and split\n",
    "def preprocess(text):\n",
    "    text = re.sub(\"[^a-zA-Z]\", \" \", str(text))\n",
    "    text = text.lower()\n",
    "    words = text.split()\n",
    "    sw = set(stopwords.words(\"english\"))\n",
    "    words = [w for w in words if w not in sw]\n",
    "    stemmer = PorterStemmer()\n",
    "    words = [stemmer.stem(w) for w in words]\n",
    "    lemmatizer = WordNetLemmatizer()\n",
    "    words = [lemmatizer.lemmatize(w) for w in words]\n",
    "    return \" \".join(words)\n",
    "\n",
    "\n",
    "df[\"message\"] = df[\"message\"].apply(preprocess)\n",
    "X = df[\"message\"]\n",
    "y = df[\"sentiment\"]\n",
    "X_train, X_test, y_train, y_test = train_test_split(\n",
    "    X, y, test_size=0.2, random_state=42\n",
    ")"
   ]
  },
  {
   "cell_type": "code",
   "execution_count": 5,
   "id": "f1aac5f6",
   "metadata": {},
   "outputs": [],
   "source": [
    "# Vectorize (CountVectorizer)\n",
    "count_vectorizer = CountVectorizer()\n",
    "X_train_count = count_vectorizer.fit_transform(X_train)\n",
    "X_test_count = count_vectorizer.transform(X_test)"
   ]
  },
  {
   "cell_type": "code",
   "execution_count": 6,
   "id": "50d6a63c",
   "metadata": {},
   "outputs": [
    {
     "data": {
      "text/plain": [
       "((55170, 44806), (6934, 44806))"
      ]
     },
     "execution_count": 6,
     "metadata": {},
     "output_type": "execute_result"
    }
   ],
   "source": [
    "# Oversample training set only\n",
    "oversampler = RandomOverSampler(random_state=42)\n",
    "X_train_res, y_train_res = oversampler.fit_resample(X_train_count, y_train)\n",
    "X_train_res.shape, X_test_count.shape"
   ]
  },
  {
   "cell_type": "markdown",
   "id": "aac523ee",
   "metadata": {},
   "source": [
    "## Models\n"
   ]
  },
  {
   "cell_type": "code",
   "execution_count": 7,
   "id": "316d8b6f",
   "metadata": {},
   "outputs": [
    {
     "name": "stdout",
     "output_type": "stream",
     "text": [
      "Logistic Regression:\n",
      "              precision    recall  f1-score   support\n",
      "\n",
      "          -1       0.60      0.60      0.60       824\n",
      "           0       0.55      0.59      0.57      1538\n",
      "           1       0.86      0.84      0.85      4572\n",
      "\n",
      "    accuracy                           0.75      6934\n",
      "   macro avg       0.67      0.68      0.67      6934\n",
      "weighted avg       0.76      0.75      0.76      6934\n",
      "\n"
     ]
    },
    {
     "name": "stderr",
     "output_type": "stream",
     "text": [
      "/Library/Frameworks/Python.framework/Versions/3.13/lib/python3.13/site-packages/sklearn/linear_model/_logistic.py:473: ConvergenceWarning: lbfgs failed to converge after 100 iteration(s) (status=1):\n",
      "STOP: TOTAL NO. OF ITERATIONS REACHED LIMIT\n",
      "\n",
      "Increase the number of iterations to improve the convergence (max_iter=100).\n",
      "You might also want to scale the data as shown in:\n",
      "    https://scikit-learn.org/stable/modules/preprocessing.html\n",
      "Please also refer to the documentation for alternative solver options:\n",
      "    https://scikit-learn.org/stable/modules/linear_model.html#logistic-regression\n",
      "  n_iter_i = _check_optimize_result(\n"
     ]
    }
   ],
   "source": [
    "# Logistic Regression\n",
    "logreg = LogisticRegression(random_state=42)\n",
    "logreg.fit(X_train_res, y_train_res)\n",
    "y_pred = logreg.predict(X_test_count)\n",
    "print(\"Logistic Regression:\")\n",
    "print(classification_report(y_test, y_pred))"
   ]
  },
  {
   "cell_type": "code",
   "execution_count": 8,
   "id": "71ea609b",
   "metadata": {},
   "outputs": [
    {
     "name": "stdout",
     "output_type": "stream",
     "text": [
      "Random Forest:\n",
      "              precision    recall  f1-score   support\n",
      "\n",
      "          -1       0.76      0.44      0.55       824\n",
      "           0       0.57      0.54      0.55      1538\n",
      "           1       0.81      0.89      0.85      4572\n",
      "\n",
      "    accuracy                           0.76      6934\n",
      "   macro avg       0.71      0.62      0.65      6934\n",
      "weighted avg       0.75      0.76      0.75      6934\n",
      "\n"
     ]
    }
   ],
   "source": [
    "# Random Forest\n",
    "rfc = RandomForestClassifier(random_state=42)\n",
    "rfc.fit(X_train_res, y_train_res)\n",
    "y_pred = rfc.predict(X_test_count)\n",
    "print(\"Random Forest:\")\n",
    "print(classification_report(y_test, y_pred))"
   ]
  },
  {
   "cell_type": "code",
   "execution_count": null,
   "id": "3f83b62c",
   "metadata": {},
   "outputs": [
    {
     "name": "stdout",
     "output_type": "stream",
     "text": [
      "Multinomial Naive Bayes:\n",
      "              precision    recall  f1-score   support\n",
      "\n",
      "          -1       0.44      0.73      0.55       824\n",
      "           0       0.55      0.44      0.49      1538\n",
      "           1       0.85      0.81      0.83      4572\n",
      "\n",
      "    accuracy                           0.72      6934\n",
      "   macro avg       0.61      0.66      0.62      6934\n",
      "weighted avg       0.74      0.72      0.72      6934\n",
      "\n"
     ]
    }
   ],
   "source": [
    "# Multinomial Naive Bayes\n",
    "nb = MultinomialNB()\n",
    "nb.fit(X_train_res, y_train_res)\n",
    "y_pred = nb.predict(X_test_count)\n",
    "print(\"Multinomial Naive Bayes:\")\n",
    "print(classification_report(y_test, y_pred))"
   ]
  },
  {
   "cell_type": "code",
   "execution_count": 12,
   "id": "3793f98a",
   "metadata": {},
   "outputs": [
    {
     "name": "stdout",
     "output_type": "stream",
     "text": [
      "CountVectorizer Models Performance:\n",
      "              Model  Accuracy  Macro F1  Weighted F1  Macro Precision  Macro Recall  Weighted Precision  Weighted Recall\n",
      "Logistic Regression      0.75      0.67         0.76             0.67          0.68                0.76             0.75\n",
      "      Random Forest      0.76      0.65         0.75             0.71          0.62                0.75             0.76\n",
      "     Multinomial NB      0.72      0.62         0.72             0.61          0.66                0.74             0.72\n",
      "   Ridge Regression      0.64      0.42         0.63             0.41          0.48                0.65             0.64\n",
      "\n",
      "Best CountVectorizer Model: Random Forest (Accuracy: 76%)\n"
     ]
    }
   ],
   "source": [
    "# Summary of Model Performance Results\n",
    "import pandas as pd\n",
    "\n",
    "# Results from CountVectorizer Models\n",
    "countvectorizer_results = {\n",
    "    'Model': ['Logistic Regression', 'Random Forest', 'Multinomial NB', 'Ridge Regression'],\n",
    "    'Accuracy': [0.75, 0.76, 0.72, 0.64],\n",
    "    'Macro F1': [0.67, 0.65, 0.62, 0.42],\n",
    "    'Weighted F1': [0.76, 0.75, 0.72, 0.63],\n",
    "    'Macro Precision': [0.67, 0.71, 0.61, 0.41],\n",
    "    'Macro Recall': [0.68, 0.62, 0.66, 0.48],\n",
    "    'Weighted Precision': [0.76, 0.75, 0.74, 0.65],\n",
    "    'Weighted Recall': [0.75, 0.76, 0.72, 0.64]\n",
    "}\n",
    "\n",
    "cv_df = pd.DataFrame(countvectorizer_results)\n",
    "print(\"CountVectorizer Models Performance:\")\n",
    "print(cv_df.to_string(index=False))\n",
    "print(\"\\nBest CountVectorizer Model: Random Forest (Accuracy: 76%)\")"
   ]
  },
  {
   "cell_type": "code",
   "execution_count": 13,
   "id": "6ea01be5",
   "metadata": {},
   "outputs": [
    {
     "name": "stdout",
     "output_type": "stream",
     "text": [
      "================================================================================\n",
      "BEST MODELS PERFORMANCE COMPARISON ACROSS ALL THREE APPROACHES\n",
      "================================================================================\n",
      "Feature Extraction Method    Best Model Accuracy Macro F1-Score Weighted F1-Score Macro Precision Macro Recall Weighted Precision Weighted Recall\n",
      "          CountVectorizer Random Forest     0.76           0.65              0.75            0.71         0.62               0.75            0.76\n",
      "                   TF-IDF Random Forest     0.76           0.65              0.74            0.72         0.61               0.75            0.76\n",
      "                 Word2Vec           TBD      TBD            TBD               TBD             TBD          TBD                TBD             TBD\n",
      "\n",
      "================================================================================\n",
      "DETAILED PERFORMANCE BY FEATURE EXTRACTION METHOD\n",
      "================================================================================\n",
      "\n",
      "1. CountVectorizer Models:\n",
      "----------------------------------------\n",
      "              Model  Accuracy  F1 (Macro)  F1 (Weighted)  Precision (Macro)  Recall (Macro)\n",
      "Logistic Regression      0.75        0.67           0.76               0.67            0.68\n",
      "      Random Forest      0.76        0.65           0.75               0.71            0.62\n",
      "     Multinomial NB      0.72        0.62           0.72               0.61            0.66\n",
      "   Ridge Regression      0.64        0.42           0.63               0.41            0.48\n",
      "\n",
      "2. TF-IDF Models:\n",
      "----------------------------------------\n",
      "              Model  Accuracy  F1 (Macro)  F1 (Weighted)  Precision (Macro)  Recall (Macro)\n",
      "Logistic Regression      0.75        0.67           0.75               0.66            0.68\n",
      "      Random Forest      0.76        0.65           0.74               0.72            0.61\n",
      "     Multinomial NB      0.72        0.63           0.72               0.62            0.67\n",
      "   Ridge Regression      0.63        0.42           0.62               0.41            0.49\n",
      "\n",
      "================================================================================\n",
      "KEY FINDINGS:\n",
      "================================================================================\n",
      "• Best Overall Accuracy: 76% (Random Forest with both CountVectorizer and TF-IDF)\n",
      "• Best F1-Score (Macro): 67% (Logistic Regression with both methods)\n",
      "• Best F1-Score (Weighted): 76% (Logistic Regression with CountVectorizer)\n",
      "• Most Consistent Performer: Random Forest (consistently high accuracy)\n",
      "• CountVectorizer vs TF-IDF: Very similar performance across all models\n",
      "• Ridge Regression: Poorest performer across all metrics\n",
      "================================================================================\n"
     ]
    }
   ],
   "source": [
    "# COMPREHENSIVE MODEL PERFORMANCE COMPARISON\n",
    "import pandas as pd\n",
    "\n",
    "print(\"=\"*80)\n",
    "print(\"BEST MODELS PERFORMANCE COMPARISON ACROSS ALL THREE APPROACHES\")\n",
    "print(\"=\"*80)\n",
    "\n",
    "# Create comprehensive comparison of best models from each approach\n",
    "comparison_data = {\n",
    "    'Feature Extraction Method': ['CountVectorizer', 'TF-IDF', 'Word2Vec'],\n",
    "    'Best Model': ['Random Forest', 'Random Forest', 'TBD'],\n",
    "    'Accuracy': [0.76, 0.76, 'TBD'],\n",
    "    'Macro F1-Score': [0.65, 0.65, 'TBD'],\n",
    "    'Weighted F1-Score': [0.75, 0.74, 'TBD'],\n",
    "    'Macro Precision': [0.71, 0.72, 'TBD'],\n",
    "    'Macro Recall': [0.62, 0.61, 'TBD'],\n",
    "    'Weighted Precision': [0.75, 0.75, 'TBD'],\n",
    "    'Weighted Recall': [0.76, 0.76, 'TBD']\n",
    "}\n",
    "\n",
    "comparison_df = pd.DataFrame(comparison_data)\n",
    "print(comparison_df.to_string(index=False))\n",
    "\n",
    "print(\"\\n\" + \"=\"*80)\n",
    "print(\"DETAILED PERFORMANCE BY FEATURE EXTRACTION METHOD\")\n",
    "print(\"=\"*80)\n",
    "\n",
    "print(\"\\n1. CountVectorizer Models:\")\n",
    "print(\"-\" * 40)\n",
    "cv_results = {\n",
    "    'Model': ['Logistic Regression', 'Random Forest', 'Multinomial NB', 'Ridge Regression'],\n",
    "    'Accuracy': [0.75, 0.76, 0.72, 0.64],\n",
    "    'F1 (Macro)': [0.67, 0.65, 0.62, 0.42],\n",
    "    'F1 (Weighted)': [0.76, 0.75, 0.72, 0.63],\n",
    "    'Precision (Macro)': [0.67, 0.71, 0.61, 0.41],\n",
    "    'Recall (Macro)': [0.68, 0.62, 0.66, 0.48]\n",
    "}\n",
    "cv_df = pd.DataFrame(cv_results)\n",
    "print(cv_df.to_string(index=False))\n",
    "\n",
    "print(\"\\n2. TF-IDF Models:\")\n",
    "print(\"-\" * 40)\n",
    "tfidf_results = {\n",
    "    'Model': ['Logistic Regression', 'Random Forest', 'Multinomial NB', 'Ridge Regression'],\n",
    "    'Accuracy': [0.75, 0.76, 0.72, 0.63],\n",
    "    'F1 (Macro)': [0.67, 0.65, 0.63, 0.42],\n",
    "    'F1 (Weighted)': [0.75, 0.74, 0.72, 0.62],\n",
    "    'Precision (Macro)': [0.66, 0.72, 0.62, 0.41],\n",
    "    'Recall (Macro)': [0.68, 0.61, 0.67, 0.49]\n",
    "}\n",
    "tfidf_df = pd.DataFrame(tfidf_results)\n",
    "print(tfidf_df.to_string(index=False))\n",
    "\n",
    "print(\"\\n\" + \"=\"*80)\n",
    "print(\"KEY FINDINGS:\")\n",
    "print(\"=\"*80)\n",
    "print(\"• Best Overall Accuracy: 76% (Random Forest with both CountVectorizer and TF-IDF)\")\n",
    "print(\"• Best F1-Score (Macro): 67% (Logistic Regression with both methods)\")\n",
    "print(\"• Best F1-Score (Weighted): 76% (Logistic Regression with CountVectorizer)\")\n",
    "print(\"• Most Consistent Performer: Random Forest (consistently high accuracy)\")\n",
    "print(\"• CountVectorizer vs TF-IDF: Very similar performance across all models\")\n",
    "print(\"• Ridge Regression: Poorest performer across all metrics\")\n",
    "print(\"=\"*80)"
   ]
  }
 ],
 "metadata": {
  "kernelspec": {
   "display_name": "Python 3",
   "language": "python",
   "name": "python3"
  },
  "language_info": {
   "codemirror_mode": {
    "name": "ipython",
    "version": 3
   },
   "file_extension": ".py",
   "mimetype": "text/x-python",
   "name": "python",
   "nbconvert_exporter": "python",
   "pygments_lexer": "ipython3",
   "version": "3.13.7"
  }
 },
 "nbformat": 4,
 "nbformat_minor": 5
}
