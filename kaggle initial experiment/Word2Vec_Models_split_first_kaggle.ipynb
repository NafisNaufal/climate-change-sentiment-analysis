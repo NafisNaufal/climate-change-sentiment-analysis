{
 "cells": [
  {
   "cell_type": "markdown",
   "id": "abfa1d3d",
   "metadata": {},
   "source": [
    "# Word2Vec Models — split first (Kaggle)\n",
    "\n",
    "Oversample only the training set and average per-document Word2Vec embeddings. Data is loaded from Kaggle via kagglehub.\n"
   ]
  },
  {
   "cell_type": "code",
   "execution_count": 2,
   "id": "57a61723",
   "metadata": {},
   "outputs": [],
   "source": [
    "import pandas as pd\n",
    "import numpy as np\n",
    "import re\n",
    "import nltk\n",
    "from nltk.stem import PorterStemmer, WordNetLemmatizer\n",
    "from nltk.corpus import stopwords\n",
    "from sklearn.model_selection import train_test_split\n",
    "from sklearn.linear_model import LogisticRegression\n",
    "from sklearn.ensemble import RandomForestClassifier\n",
    "from sklearn.tree import DecisionTreeClassifier\n",
    "from sklearn.svm import SVC\n",
    "from sklearn.metrics import classification_report\n",
    "from imblearn.over_sampling import RandomOverSampler\n",
    "from gensim.models import Word2Vec"
   ]
  },
  {
   "cell_type": "code",
   "execution_count": 3,
   "id": "15e7f5f2",
   "metadata": {},
   "outputs": [
    {
     "name": "stderr",
     "output_type": "stream",
     "text": [
      "/var/folders/sk/y2tr30gd0rb5nh0nxms786m00000gn/T/ipykernel_44568/495693995.py:16: DeprecationWarning: Use dataset_load() instead of load_dataset(). load_dataset() will be removed in a future version.\n",
      "  df = kagglehub.load_dataset(\n"
     ]
    },
    {
     "data": {
      "text/html": [
       "<div>\n",
       "<style scoped>\n",
       "    .dataframe tbody tr th:only-of-type {\n",
       "        vertical-align: middle;\n",
       "    }\n",
       "\n",
       "    .dataframe tbody tr th {\n",
       "        vertical-align: top;\n",
       "    }\n",
       "\n",
       "    .dataframe thead th {\n",
       "        text-align: right;\n",
       "    }\n",
       "</style>\n",
       "<table border=\"1\" class=\"dataframe\">\n",
       "  <thead>\n",
       "    <tr style=\"text-align: right;\">\n",
       "      <th></th>\n",
       "      <th>message</th>\n",
       "      <th>sentiment</th>\n",
       "    </tr>\n",
       "  </thead>\n",
       "  <tbody>\n",
       "    <tr>\n",
       "      <th>0</th>\n",
       "      <td>@tiniebeany climate change is an interesting h...</td>\n",
       "      <td>-1</td>\n",
       "    </tr>\n",
       "    <tr>\n",
       "      <th>1</th>\n",
       "      <td>RT @NatGeoChannel: Watch #BeforeTheFlood right...</td>\n",
       "      <td>1</td>\n",
       "    </tr>\n",
       "    <tr>\n",
       "      <th>2</th>\n",
       "      <td>Fabulous! Leonardo #DiCaprio's film on #climat...</td>\n",
       "      <td>1</td>\n",
       "    </tr>\n",
       "    <tr>\n",
       "      <th>3</th>\n",
       "      <td>RT @Mick_Fanning: Just watched this amazing do...</td>\n",
       "      <td>1</td>\n",
       "    </tr>\n",
       "    <tr>\n",
       "      <th>5</th>\n",
       "      <td>Unamshow awache kujinga na iko global warming ...</td>\n",
       "      <td>0</td>\n",
       "    </tr>\n",
       "  </tbody>\n",
       "</table>\n",
       "</div>"
      ],
      "text/plain": [
       "                                             message  sentiment\n",
       "0  @tiniebeany climate change is an interesting h...         -1\n",
       "1  RT @NatGeoChannel: Watch #BeforeTheFlood right...          1\n",
       "2  Fabulous! Leonardo #DiCaprio's film on #climat...          1\n",
       "3  RT @Mick_Fanning: Just watched this amazing do...          1\n",
       "5  Unamshow awache kujinga na iko global warming ...          0"
      ]
     },
     "execution_count": 3,
     "metadata": {},
     "output_type": "execute_result"
    }
   ],
   "source": [
    "# Install and import kagglehub\n",
    "try:\n",
    "    import kagglehub\n",
    "    from kagglehub import KaggleDatasetAdapter\n",
    "except Exception:\n",
    "    import sys, subprocess\n",
    "\n",
    "    subprocess.check_call(\n",
    "        [sys.executable, \"-m\", \"pip\", \"install\", \"kagglehub[pandas-datasets]\"]\n",
    "    )\n",
    "    import kagglehub\n",
    "    from kagglehub import KaggleDatasetAdapter\n",
    "\n",
    "# Load Kaggle dataset\n",
    "file_path = \"twitter_sentiment_data.csv\"\n",
    "df = kagglehub.load_dataset(\n",
    "    KaggleDatasetAdapter.PANDAS,\n",
    "    \"edqian/twitter-climate-change-sentiment-dataset\",\n",
    "    file_path,\n",
    ")\n",
    "\n",
    "# Select required columns by exact name\n",
    "df = df[[\"message\", \"sentiment\"]]\n",
    "\n",
    "# Drop sentiment '2' (supports both numeric 2 and string '2')\n",
    "if df[\"sentiment\"].dtype.kind in {\"i\", \"u\", \"f\"}:\n",
    "    df = df[df[\"sentiment\"] != 2]\n",
    "else:\n",
    "    df = df[df[\"sentiment\"].astype(str) != \"2\"]\n",
    "\n",
    "df.head()"
   ]
  },
  {
   "cell_type": "code",
   "execution_count": 4,
   "id": "e90777da",
   "metadata": {},
   "outputs": [
    {
     "name": "stderr",
     "output_type": "stream",
     "text": [
      "[nltk_data] Downloading package stopwords to /Users/nafis/nltk_data...\n",
      "[nltk_data]   Package stopwords is already up-to-date!\n",
      "[nltk_data] Downloading package wordnet to /Users/nafis/nltk_data...\n",
      "[nltk_data]   Package wordnet is already up-to-date!\n",
      "[nltk_data] Downloading package omw-1.4 to /Users/nafis/nltk_data...\n",
      "[nltk_data]   Package omw-1.4 is already up-to-date!\n"
     ]
    },
    {
     "data": {
      "text/plain": [
       "True"
      ]
     },
     "execution_count": 4,
     "metadata": {},
     "output_type": "execute_result"
    }
   ],
   "source": [
    "nltk.download(\"stopwords\")\n",
    "nltk.download(\"wordnet\")\n",
    "nltk.download(\"omw-1.4\")"
   ]
  },
  {
   "cell_type": "code",
   "execution_count": 5,
   "id": "4298a265",
   "metadata": {},
   "outputs": [],
   "source": [
    "# Preprocess and split\n",
    "def preprocess(text):\n",
    "    text = re.sub(\"[^a-zA-Z]\", \" \", str(text))\n",
    "    text = text.lower()\n",
    "    words = text.split()\n",
    "    sw = set(stopwords.words(\"english\"))\n",
    "    words = [w for w in words if w not in sw]\n",
    "    stemmer = PorterStemmer()\n",
    "    words = [stemmer.stem(w) for w in words]\n",
    "    lemmatizer = WordNetLemmatizer()\n",
    "    words = [lemmatizer.lemmatize(w) for w in words]\n",
    "    return \" \".join(words)\n",
    "\n",
    "\n",
    "df[\"message\"] = df[\"message\"].apply(preprocess)\n",
    "X = df[\"message\"]\n",
    "y = df[\"sentiment\"]\n",
    "X_train, X_test, y_train, y_test = train_test_split(\n",
    "    X, y, test_size=0.2, random_state=42\n",
    ")"
   ]
  },
  {
   "cell_type": "code",
   "execution_count": 6,
   "id": "72f87e70",
   "metadata": {},
   "outputs": [],
   "source": [
    "# Tokenize\n",
    "X_train_tokens = X_train.apply(str.split).tolist()\n",
    "X_test_tokens = X_test.apply(str.split).tolist()"
   ]
  },
  {
   "cell_type": "code",
   "execution_count": 7,
   "id": "dbee8594",
   "metadata": {},
   "outputs": [],
   "source": [
    "# Train Word2Vec only on training tokens, then build averaged vectors (OOV-safe)\n",
    "w2v_model = Word2Vec(X_train_tokens, vector_size=100, window=5, min_count=1, workers=4)\n",
    "vec_size = w2v_model.vector_size\n",
    "key_index = w2v_model.wv.key_to_index\n",
    "\n",
    "\n",
    "def doc_avg_vector(doc):\n",
    "    emb = [w2v_model.wv[w] for w in doc if w in key_index]\n",
    "    return np.mean(emb, axis=0) if len(emb) else np.zeros(vec_size)\n",
    "\n",
    "\n",
    "X_train_w2v = np.array([doc_avg_vector(doc) for doc in X_train_tokens])\n",
    "X_test_w2v = np.array([doc_avg_vector(doc) for doc in X_test_tokens])\n",
    "oversampler = RandomOverSampler(random_state=42)\n",
    "X_train_res, y_train_res = oversampler.fit_resample(X_train_w2v, y_train)"
   ]
  },
  {
   "cell_type": "markdown",
   "id": "fed7f4b8",
   "metadata": {},
   "source": [
    "## Models\n"
   ]
  },
  {
   "cell_type": "code",
   "execution_count": 8,
   "id": "23e43a5d",
   "metadata": {},
   "outputs": [
    {
     "name": "stdout",
     "output_type": "stream",
     "text": [
      "              precision    recall  f1-score   support\n",
      "\n",
      "          -1       0.26      0.42      0.32       824\n",
      "           0       0.45      0.38      0.41      1538\n",
      "           1       0.79      0.74      0.77      4572\n",
      "\n",
      "    accuracy                           0.62      6934\n",
      "   macro avg       0.50      0.51      0.50      6934\n",
      "weighted avg       0.65      0.62      0.63      6934\n",
      "\n"
     ]
    }
   ],
   "source": [
    "# Logistic Regression\n",
    "logreg = LogisticRegression(C=0.1, max_iter=500)\n",
    "logreg.fit(X_train_res, y_train_res)\n",
    "y_pred = logreg.predict(X_test_w2v)\n",
    "print(classification_report(y_test, y_pred))"
   ]
  },
  {
   "cell_type": "code",
   "execution_count": null,
   "id": "5fa40d35",
   "metadata": {},
   "outputs": [
    {
     "name": "stdout",
     "output_type": "stream",
     "text": [
      "              precision    recall  f1-score   support\n",
      "\n",
      "          -1       0.48      0.16      0.24       824\n",
      "           0       0.55      0.38      0.45      1538\n",
      "           1       0.75      0.92      0.83      4572\n",
      "\n",
      "    accuracy                           0.71      6934\n",
      "   macro avg       0.59      0.49      0.51      6934\n",
      "weighted avg       0.67      0.71      0.67      6934\n",
      "\n"
     ]
    }
   ],
   "source": [
    "# Random Forest\n",
    "rfc = RandomForestClassifier(\n",
    "    random_state=42, n_estimators=100\n",
    ")\n",
    "rfc.fit(X_train_res, y_train_res)\n",
    "y_pred = rfc.predict(X_test_w2v)\n",
    "print(classification_report(y_test, y_pred))"
   ]
  },
  {
   "cell_type": "code",
   "execution_count": 10,
   "id": "4fd049e4",
   "metadata": {},
   "outputs": [
    {
     "name": "stdout",
     "output_type": "stream",
     "text": [
      "              precision    recall  f1-score   support\n",
      "\n",
      "          -1       0.28      0.44      0.34       824\n",
      "           0       0.46      0.42      0.44      1538\n",
      "           1       0.80      0.74      0.77      4572\n",
      "\n",
      "    accuracy                           0.63      6934\n",
      "   macro avg       0.51      0.53      0.52      6934\n",
      "weighted avg       0.66      0.63      0.65      6934\n",
      "\n"
     ]
    }
   ],
   "source": [
    "# Linear SVM\n",
    "svm = SVC(kernel=\"linear\")\n",
    "svm.fit(X_train_res, y_train_res)\n",
    "y_pred = svm.predict(X_test_w2v)\n",
    "print(classification_report(y_test, y_pred))"
   ]
  },
  {
   "cell_type": "code",
   "execution_count": 11,
   "id": "b998bab6",
   "metadata": {},
   "outputs": [
    {
     "name": "stdout",
     "output_type": "stream",
     "text": [
      "              precision    recall  f1-score   support\n",
      "\n",
      "          -1       0.26      0.23      0.24       824\n",
      "           0       0.40      0.38      0.39      1538\n",
      "           1       0.74      0.77      0.76      4572\n",
      "\n",
      "    accuracy                           0.62      6934\n",
      "   macro avg       0.47      0.46      0.46      6934\n",
      "weighted avg       0.61      0.62      0.61      6934\n",
      "\n"
     ]
    }
   ],
   "source": [
    "# Decision Tree (avoid deprecated max_features='auto')\n",
    "dt = DecisionTreeClassifier(\n",
    "    max_depth=None, max_features=\"sqrt\", min_samples_leaf=1, min_samples_split=2\n",
    ")\n",
    "dt.fit(X_train_res, y_train_res)\n",
    "y_pred = dt.predict(X_test_w2v)\n",
    "print(classification_report(y_test, y_pred))"
   ]
  }
 ],
 "metadata": {
  "kernelspec": {
   "display_name": ".venv311",
   "language": "python",
   "name": "python3"
  },
  "language_info": {
   "codemirror_mode": {
    "name": "ipython",
    "version": 3
   },
   "file_extension": ".py",
   "mimetype": "text/x-python",
   "name": "python",
   "nbconvert_exporter": "python",
   "pygments_lexer": "ipython3",
   "version": "3.11.13"
  }
 },
 "nbformat": 4,
 "nbformat_minor": 5
}
