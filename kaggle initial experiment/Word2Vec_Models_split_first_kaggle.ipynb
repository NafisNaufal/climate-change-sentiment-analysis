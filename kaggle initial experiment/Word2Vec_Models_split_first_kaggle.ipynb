{
 "cells": [
  {
   "cell_type": "markdown",
   "id": "abfa1d3d",
   "metadata": {},
   "source": [
    "# Word2Vec Models — split first (Kaggle)\n",
    "\n",
    "Oversample only the training set and average per-document Word2Vec embeddings. Data is loaded from Kaggle via kagglehub.\n"
   ]
  },
  {
   "cell_type": "code",
   "execution_count": 10,
   "id": "57a61723",
   "metadata": {},
   "outputs": [],
   "source": [
    "import pandas as pd\n",
    "import numpy as np\n",
    "import re\n",
    "import nltk\n",
    "from nltk.stem import PorterStemmer, WordNetLemmatizer\n",
    "from nltk.corpus import stopwords\n",
    "from sklearn.model_selection import train_test_split\n",
    "from sklearn.linear_model import LogisticRegression, Ridge\n",
    "from sklearn.ensemble import RandomForestClassifier\n",
    "from sklearn.naive_bayes import MultinomialNB\n",
    "from sklearn.metrics import classification_report\n",
    "from imblearn.over_sampling import RandomOverSampler\n",
    "from gensim.models import Word2Vec"
   ]
  },
  {
   "cell_type": "code",
   "execution_count": 11,
   "id": "15e7f5f2",
   "metadata": {},
   "outputs": [
    {
     "name": "stderr",
     "output_type": "stream",
     "text": [
      "/var/folders/sk/y2tr30gd0rb5nh0nxms786m00000gn/T/ipykernel_39858/495693995.py:16: DeprecationWarning: Use dataset_load() instead of load_dataset(). load_dataset() will be removed in a future version.\n",
      "  df = kagglehub.load_dataset(\n"
     ]
    },
    {
     "data": {
      "text/html": [
       "<div>\n",
       "<style scoped>\n",
       "    .dataframe tbody tr th:only-of-type {\n",
       "        vertical-align: middle;\n",
       "    }\n",
       "\n",
       "    .dataframe tbody tr th {\n",
       "        vertical-align: top;\n",
       "    }\n",
       "\n",
       "    .dataframe thead th {\n",
       "        text-align: right;\n",
       "    }\n",
       "</style>\n",
       "<table border=\"1\" class=\"dataframe\">\n",
       "  <thead>\n",
       "    <tr style=\"text-align: right;\">\n",
       "      <th></th>\n",
       "      <th>message</th>\n",
       "      <th>sentiment</th>\n",
       "    </tr>\n",
       "  </thead>\n",
       "  <tbody>\n",
       "    <tr>\n",
       "      <th>0</th>\n",
       "      <td>@tiniebeany climate change is an interesting h...</td>\n",
       "      <td>-1</td>\n",
       "    </tr>\n",
       "    <tr>\n",
       "      <th>1</th>\n",
       "      <td>RT @NatGeoChannel: Watch #BeforeTheFlood right...</td>\n",
       "      <td>1</td>\n",
       "    </tr>\n",
       "    <tr>\n",
       "      <th>2</th>\n",
       "      <td>Fabulous! Leonardo #DiCaprio's film on #climat...</td>\n",
       "      <td>1</td>\n",
       "    </tr>\n",
       "    <tr>\n",
       "      <th>3</th>\n",
       "      <td>RT @Mick_Fanning: Just watched this amazing do...</td>\n",
       "      <td>1</td>\n",
       "    </tr>\n",
       "    <tr>\n",
       "      <th>5</th>\n",
       "      <td>Unamshow awache kujinga na iko global warming ...</td>\n",
       "      <td>0</td>\n",
       "    </tr>\n",
       "  </tbody>\n",
       "</table>\n",
       "</div>"
      ],
      "text/plain": [
       "                                             message  sentiment\n",
       "0  @tiniebeany climate change is an interesting h...         -1\n",
       "1  RT @NatGeoChannel: Watch #BeforeTheFlood right...          1\n",
       "2  Fabulous! Leonardo #DiCaprio's film on #climat...          1\n",
       "3  RT @Mick_Fanning: Just watched this amazing do...          1\n",
       "5  Unamshow awache kujinga na iko global warming ...          0"
      ]
     },
     "execution_count": 11,
     "metadata": {},
     "output_type": "execute_result"
    }
   ],
   "source": [
    "# Install and import kagglehub\n",
    "try:\n",
    "    import kagglehub\n",
    "    from kagglehub import KaggleDatasetAdapter\n",
    "except Exception:\n",
    "    import sys, subprocess\n",
    "\n",
    "    subprocess.check_call(\n",
    "        [sys.executable, \"-m\", \"pip\", \"install\", \"kagglehub[pandas-datasets]\"]\n",
    "    )\n",
    "    import kagglehub\n",
    "    from kagglehub import KaggleDatasetAdapter\n",
    "\n",
    "# Load Kaggle dataset\n",
    "file_path = \"twitter_sentiment_data.csv\"\n",
    "df = kagglehub.load_dataset(\n",
    "    KaggleDatasetAdapter.PANDAS,\n",
    "    \"edqian/twitter-climate-change-sentiment-dataset\",\n",
    "    file_path,\n",
    ")\n",
    "\n",
    "# Select required columns by exact name\n",
    "df = df[[\"message\", \"sentiment\"]]\n",
    "\n",
    "# Drop sentiment '2' (supports both numeric 2 and string '2')\n",
    "if df[\"sentiment\"].dtype.kind in {\"i\", \"u\", \"f\"}:\n",
    "    df = df[df[\"sentiment\"] != 2]\n",
    "else:\n",
    "    df = df[df[\"sentiment\"].astype(str) != \"2\"]\n",
    "\n",
    "df.head()"
   ]
  },
  {
   "cell_type": "code",
   "execution_count": 12,
   "id": "e90777da",
   "metadata": {},
   "outputs": [
    {
     "name": "stderr",
     "output_type": "stream",
     "text": [
      "[nltk_data] Downloading package stopwords to /Users/nafis/nltk_data...\n",
      "[nltk_data]   Package stopwords is already up-to-date!\n",
      "[nltk_data] Downloading package wordnet to /Users/nafis/nltk_data...\n",
      "[nltk_data]   Package wordnet is already up-to-date!\n",
      "[nltk_data] Downloading package omw-1.4 to /Users/nafis/nltk_data...\n",
      "[nltk_data]   Package omw-1.4 is already up-to-date!\n"
     ]
    },
    {
     "data": {
      "text/plain": [
       "True"
      ]
     },
     "execution_count": 12,
     "metadata": {},
     "output_type": "execute_result"
    }
   ],
   "source": [
    "nltk.download(\"stopwords\")\n",
    "nltk.download(\"wordnet\")\n",
    "nltk.download(\"omw-1.4\")"
   ]
  },
  {
   "cell_type": "code",
   "execution_count": 13,
   "id": "4298a265",
   "metadata": {},
   "outputs": [],
   "source": [
    "# Preprocess and split\n",
    "def preprocess(text):\n",
    "    text = re.sub(\"[^a-zA-Z]\", \" \", str(text))\n",
    "    text = text.lower()\n",
    "    words = text.split()\n",
    "    sw = set(stopwords.words(\"english\"))\n",
    "    words = [w for w in words if w not in sw]\n",
    "    stemmer = PorterStemmer()\n",
    "    words = [stemmer.stem(w) for w in words]\n",
    "    lemmatizer = WordNetLemmatizer()\n",
    "    words = [lemmatizer.lemmatize(w) for w in words]\n",
    "    return \" \".join(words)\n",
    "\n",
    "\n",
    "df[\"message\"] = df[\"message\"].apply(preprocess)\n",
    "X = df[\"message\"]\n",
    "y = df[\"sentiment\"]\n",
    "X_train, X_test, y_train, y_test = train_test_split(\n",
    "    X, y, test_size=0.2, random_state=42\n",
    ")"
   ]
  },
  {
   "cell_type": "code",
   "execution_count": 14,
   "id": "72f87e70",
   "metadata": {},
   "outputs": [],
   "source": [
    "# Tokenize\n",
    "X_train_tokens = X_train.apply(str.split).tolist()\n",
    "X_test_tokens = X_test.apply(str.split).tolist()"
   ]
  },
  {
   "cell_type": "code",
   "execution_count": 15,
   "id": "dbee8594",
   "metadata": {},
   "outputs": [],
   "source": [
    "# Train Word2Vec only on training tokens, then build averaged vectors (OOV-safe)\n",
    "w2v_model = Word2Vec(X_train_tokens, vector_size=100, window=5, min_count=1, workers=4)\n",
    "vec_size = w2v_model.vector_size\n",
    "key_index = w2v_model.wv.key_to_index\n",
    "\n",
    "\n",
    "def doc_avg_vector(doc):\n",
    "    emb = [w2v_model.wv[w] for w in doc if w in key_index]\n",
    "    return np.mean(emb, axis=0) if len(emb) else np.zeros(vec_size)\n",
    "\n",
    "\n",
    "X_train_w2v = np.array([doc_avg_vector(doc) for doc in X_train_tokens])\n",
    "X_test_w2v = np.array([doc_avg_vector(doc) for doc in X_test_tokens])\n",
    "oversampler = RandomOverSampler(random_state=42)\n",
    "X_train_res, y_train_res = oversampler.fit_resample(X_train_w2v, y_train)"
   ]
  },
  {
   "cell_type": "markdown",
   "id": "fed7f4b8",
   "metadata": {},
   "source": [
    "## Models\n"
   ]
  },
  {
   "cell_type": "code",
   "execution_count": 19,
   "id": "23e43a5d",
   "metadata": {},
   "outputs": [
    {
     "name": "stdout",
     "output_type": "stream",
     "text": [
      "Logistic Regression:\n",
      "              precision    recall  f1-score   support\n",
      "\n",
      "          -1       0.26      0.41      0.32       824\n",
      "           0       0.45      0.41      0.43      1538\n",
      "           1       0.79      0.74      0.77      4572\n",
      "\n",
      "    accuracy                           0.62      6934\n",
      "   macro avg       0.50      0.52      0.50      6934\n",
      "weighted avg       0.65      0.62      0.64      6934\n",
      "\n"
     ]
    },
    {
     "name": "stderr",
     "output_type": "stream",
     "text": [
      "/Users/nafis/code/python/climate change sentiment analysis/.venv311/lib/python3.11/site-packages/sklearn/linear_model/_logistic.py:444: ConvergenceWarning: lbfgs failed to converge (status=1):\n",
      "STOP: TOTAL NO. of ITERATIONS REACHED LIMIT.\n",
      "\n",
      "Increase the number of iterations (max_iter) or scale the data as shown in:\n",
      "    https://scikit-learn.org/stable/modules/preprocessing.html\n",
      "Please also refer to the documentation for alternative solver options:\n",
      "    https://scikit-learn.org/stable/modules/linear_model.html#logistic-regression\n",
      "  n_iter_i = _check_optimize_result(\n"
     ]
    }
   ],
   "source": [
    "# Logistic Regression\n",
    "logreg = LogisticRegression(random_state=42)\n",
    "logreg.fit(X_train_res, y_train_res)\n",
    "y_pred = logreg.predict(X_test_w2v)\n",
    "print(\"Logistic Regression:\")\n",
    "print(classification_report(y_test, y_pred))"
   ]
  },
  {
   "cell_type": "code",
   "execution_count": 17,
   "id": "5fa40d35",
   "metadata": {},
   "outputs": [
    {
     "name": "stdout",
     "output_type": "stream",
     "text": [
      "Random Forest:\n",
      "              precision    recall  f1-score   support\n",
      "\n",
      "          -1       0.51      0.19      0.27       824\n",
      "           0       0.55      0.38      0.45      1538\n",
      "           1       0.75      0.91      0.82      4572\n",
      "\n",
      "    accuracy                           0.71      6934\n",
      "   macro avg       0.60      0.49      0.52      6934\n",
      "weighted avg       0.68      0.71      0.68      6934\n",
      "\n"
     ]
    }
   ],
   "source": [
    "# Random Forest\n",
    "rfc = RandomForestClassifier(random_state=42)\n",
    "rfc.fit(X_train_res, y_train_res)\n",
    "y_pred = rfc.predict(X_test_w2v)\n",
    "print(\"Random Forest:\")\n",
    "print(classification_report(y_test, y_pred))"
   ]
  },
  {
   "cell_type": "code",
   "execution_count": 18,
   "id": "4fd049e4",
   "metadata": {},
   "outputs": [
    {
     "name": "stdout",
     "output_type": "stream",
     "text": [
      "Multinomial Naive Bayes:\n",
      "              precision    recall  f1-score   support\n",
      "\n",
      "          -1       0.20      0.39      0.27       824\n",
      "           0       0.32      0.16      0.21      1538\n",
      "           1       0.76      0.77      0.76      4572\n",
      "\n",
      "    accuracy                           0.59      6934\n",
      "   macro avg       0.43      0.44      0.41      6934\n",
      "weighted avg       0.59      0.59      0.58      6934\n",
      "\n"
     ]
    }
   ],
   "source": [
    "# Multinomial Naive Bayes\n",
    "# Note: Multinomial NB requires non-negative features\n",
    "# We need to shift the Word2Vec embeddings to be non-negative\n",
    "from sklearn.preprocessing import MinMaxScaler\n",
    "\n",
    "scaler = MinMaxScaler()\n",
    "X_train_scaled = scaler.fit_transform(X_train_res)\n",
    "X_test_scaled = scaler.transform(X_test_w2v)\n",
    "\n",
    "nb = MultinomialNB()\n",
    "nb.fit(X_train_scaled, y_train_res)\n",
    "y_pred = nb.predict(X_test_scaled)\n",
    "print(\"Multinomial Naive Bayes:\")\n",
    "print(classification_report(y_test, y_pred))"
   ]
  }
 ],
 "metadata": {
  "kernelspec": {
   "display_name": ".venv311",
   "language": "python",
   "name": "python3"
  },
  "language_info": {
   "codemirror_mode": {
    "name": "ipython",
    "version": 3
   },
   "file_extension": ".py",
   "mimetype": "text/x-python",
   "name": "python",
   "nbconvert_exporter": "python",
   "pygments_lexer": "ipython3",
   "version": "3.11.13"
  }
 },
 "nbformat": 4,
 "nbformat_minor": 5
}
