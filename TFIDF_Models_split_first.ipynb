{
 "cells": [
  {
   "cell_type": "markdown",
   "id": "675d58c0",
   "metadata": {},
   "source": [
    "# TF-IDF Models — split first, then oversample\n",
    "\n",
    "This notebook mirrors OG but applies RandomOverSampler only on the training set.\n"
   ]
  },
  {
   "cell_type": "code",
   "execution_count": 1,
   "id": "38b13d64",
   "metadata": {},
   "outputs": [],
   "source": [
    "import pandas as pd\n",
    "\n",
    "import numpy as np\n",
    "import re\n",
    "import nltk\n",
    "from nltk.stem import PorterStemmer, WordNetLemmatizer\n",
    "from nltk.corpus import stopwords\n",
    "from sklearn.model_selection import train_test_split\n",
    "from sklearn.feature_extraction.text import TfidfVectorizer\n",
    "from sklearn.linear_model import LogisticRegression\n",
    "from sklearn.ensemble import RandomForestClassifier\n",
    "from sklearn.tree import DecisionTreeClassifier\n",
    "from sklearn.svm import SVC\n",
    "from sklearn.naive_bayes import MultinomialNB\n",
    "from sklearn.metrics import classification_report\n",
    "from imblearn.over_sampling import RandomOverSampler"
   ]
  },
  {
   "cell_type": "code",
   "execution_count": 2,
   "id": "58194e36",
   "metadata": {},
   "outputs": [
    {
     "data": {
      "text/html": [
       "<div>\n",
       "<style scoped>\n",
       "    .dataframe tbody tr th:only-of-type {\n",
       "        vertical-align: middle;\n",
       "    }\n",
       "\n",
       "    .dataframe tbody tr th {\n",
       "        vertical-align: top;\n",
       "    }\n",
       "\n",
       "    .dataframe thead th {\n",
       "        text-align: right;\n",
       "    }\n",
       "</style>\n",
       "<table border=\"1\" class=\"dataframe\">\n",
       "  <thead>\n",
       "    <tr style=\"text-align: right;\">\n",
       "      <th></th>\n",
       "      <th>Unnamed: 0</th>\n",
       "      <th>content</th>\n",
       "      <th>label</th>\n",
       "    </tr>\n",
       "  </thead>\n",
       "  <tbody>\n",
       "    <tr>\n",
       "      <th>0</th>\n",
       "      <td>0</td>\n",
       "      <td>Researchers use deep learning to simulate chlo...</td>\n",
       "      <td>Positive</td>\n",
       "    </tr>\n",
       "    <tr>\n",
       "      <th>1</th>\n",
       "      <td>1</td>\n",
       "      <td>Why is our @Conservatives government so evil?\\...</td>\n",
       "      <td>Negative</td>\n",
       "    </tr>\n",
       "    <tr>\n",
       "      <th>2</th>\n",
       "      <td>2</td>\n",
       "      <td>Texas Oilfield Waste Company Contributed $53,7...</td>\n",
       "      <td>Negative</td>\n",
       "    </tr>\n",
       "    <tr>\n",
       "      <th>3</th>\n",
       "      <td>3</td>\n",
       "      <td>Epic California snowpack is now the deepest it...</td>\n",
       "      <td>Negative</td>\n",
       "    </tr>\n",
       "    <tr>\n",
       "      <th>4</th>\n",
       "      <td>4</td>\n",
       "      <td>If #climatechange is real and not a hoax why d...</td>\n",
       "      <td>Negative</td>\n",
       "    </tr>\n",
       "  </tbody>\n",
       "</table>\n",
       "</div>"
      ],
      "text/plain": [
       "   Unnamed: 0                                            content     label\n",
       "0           0  Researchers use deep learning to simulate chlo...  Positive\n",
       "1           1  Why is our @Conservatives government so evil?\\...  Negative\n",
       "2           2  Texas Oilfield Waste Company Contributed $53,7...  Negative\n",
       "3           3  Epic California snowpack is now the deepest it...  Negative\n",
       "4           4  If #climatechange is real and not a hoax why d...  Negative"
      ]
     },
     "execution_count": 2,
     "metadata": {},
     "output_type": "execute_result"
    }
   ],
   "source": [
    "df = pd.read_csv(\n",
    "    \"https://raw.githubusercontent.com/anoop-vs/nlp-climate-change/refs/heads/main/main_data.csv\"\n",
    ")\n",
    "df.head()"
   ]
  },
  {
   "cell_type": "code",
   "execution_count": 3,
   "id": "2b47d65d",
   "metadata": {},
   "outputs": [
    {
     "name": "stderr",
     "output_type": "stream",
     "text": [
      "[nltk_data] Downloading package stopwords to /Users/nafis/nltk_data...\n",
      "[nltk_data]   Package stopwords is already up-to-date!\n",
      "[nltk_data] Downloading package wordnet to /Users/nafis/nltk_data...\n",
      "[nltk_data]   Package wordnet is already up-to-date!\n",
      "[nltk_data] Downloading package omw-1.4 to /Users/nafis/nltk_data...\n",
      "[nltk_data]   Package omw-1.4 is already up-to-date!\n"
     ]
    },
    {
     "data": {
      "text/plain": [
       "True"
      ]
     },
     "execution_count": 3,
     "metadata": {},
     "output_type": "execute_result"
    }
   ],
   "source": [
    "nltk.download(\"stopwords\")\n",
    "nltk.download(\"wordnet\")\n",
    "nltk.download(\"omw-1.4\")"
   ]
  },
  {
   "cell_type": "code",
   "execution_count": 4,
   "id": "d84fe98f",
   "metadata": {},
   "outputs": [],
   "source": [
    "def preprocess(text):\n",
    "    text = re.sub(\"[^a-zA-Z]\", \" \", text)\n",
    "    text = text.lower()\n",
    "    words = text.split()\n",
    "    sw = set(stopwords.words(\"english\"))\n",
    "    words = [w for w in words if w not in sw]\n",
    "    stemmer = PorterStemmer()\n",
    "    words = [stemmer.stem(w) for w in words]\n",
    "    lemmatizer = WordNetLemmatizer()\n",
    "    words = [lemmatizer.lemmatize(w) for w in words]\n",
    "    return \" \".join(words)\n",
    "\n",
    "\n",
    "df[\"content\"] = df[\"content\"].apply(preprocess)\n",
    "X = df[\"content\"]\n",
    "y = df[\"label\"]\n",
    "X_train, X_test, y_train, y_test = train_test_split(\n",
    "    X, y, test_size=0.2, random_state=42\n",
    ")"
   ]
  },
  {
   "cell_type": "code",
   "execution_count": 5,
   "id": "7ea0c335",
   "metadata": {},
   "outputs": [],
   "source": [
    "tfidf = TfidfVectorizer()\n",
    "X_train_tfidf = tfidf.fit_transform(X_train)\n",
    "X_test_tfidf = tfidf.transform(X_test)"
   ]
  },
  {
   "cell_type": "code",
   "execution_count": 6,
   "id": "040055dd",
   "metadata": {},
   "outputs": [
    {
     "data": {
      "text/plain": [
       "((4416, 12100), (882, 12100))"
      ]
     },
     "execution_count": 6,
     "metadata": {},
     "output_type": "execute_result"
    }
   ],
   "source": [
    "oversampler = RandomOverSampler(random_state=42)\n",
    "X_train_res, y_train_res = oversampler.fit_resample(X_train_tfidf, y_train)\n",
    "X_train_res.shape, X_test_tfidf.shape"
   ]
  },
  {
   "cell_type": "markdown",
   "id": "3b19f426",
   "metadata": {},
   "source": [
    "## Models\n"
   ]
  },
  {
   "cell_type": "code",
   "execution_count": 7,
   "id": "0d25ba9f",
   "metadata": {},
   "outputs": [
    {
     "name": "stdout",
     "output_type": "stream",
     "text": [
      "              precision    recall  f1-score   support\n",
      "\n",
      "    Negative       0.79      0.77      0.78       154\n",
      "     Neutral       0.86      0.87      0.86       378\n",
      "    Positive       0.86      0.86      0.86       350\n",
      "\n",
      "    accuracy                           0.85       882\n",
      "   macro avg       0.84      0.83      0.83       882\n",
      "weighted avg       0.85      0.85      0.85       882\n",
      "\n"
     ]
    }
   ],
   "source": [
    "# Logistic Regression\n",
    "logreg = LogisticRegression(C=1000, solver=\"liblinear\")\n",
    "logreg.fit(X_train_res, y_train_res)\n",
    "y_pred = logreg.predict(X_test_tfidf)\n",
    "print(classification_report(y_test, y_pred))"
   ]
  },
  {
   "cell_type": "code",
   "execution_count": 8,
   "id": "82406e55",
   "metadata": {},
   "outputs": [
    {
     "name": "stdout",
     "output_type": "stream",
     "text": [
      "              precision    recall  f1-score   support\n",
      "\n",
      "    Negative       0.82      0.63      0.71       154\n",
      "     Neutral       0.78      0.84      0.81       378\n",
      "    Positive       0.81      0.83      0.82       350\n",
      "\n",
      "    accuracy                           0.80       882\n",
      "   macro avg       0.81      0.77      0.78       882\n",
      "weighted avg       0.80      0.80      0.80       882\n",
      "\n"
     ]
    }
   ],
   "source": [
    "# Random Forest\n",
    "rfc = RandomForestClassifier()\n",
    "rfc.fit(X_train_res, y_train_res)\n",
    "y_pred = rfc.predict(X_test_tfidf)\n",
    "print(classification_report(y_test, y_pred))"
   ]
  },
  {
   "cell_type": "code",
   "execution_count": 9,
   "id": "d7fbcf35",
   "metadata": {},
   "outputs": [
    {
     "name": "stdout",
     "output_type": "stream",
     "text": [
      "              precision    recall  f1-score   support\n",
      "\n",
      "    Negative       0.69      0.70      0.70       154\n",
      "     Neutral       0.79      0.79      0.79       378\n",
      "    Positive       0.80      0.79      0.79       350\n",
      "\n",
      "    accuracy                           0.77       882\n",
      "   macro avg       0.76      0.76      0.76       882\n",
      "weighted avg       0.77      0.77      0.77       882\n",
      "\n"
     ]
    }
   ],
   "source": [
    "# Linear SVM\n",
    "svm = SVC(kernel=\"linear\")\n",
    "svm.fit(X_train_res, y_train_res)\n",
    "y_pred = svm.predict(X_test_tfidf)\n",
    "print(classification_report(y_test, y_pred))"
   ]
  },
  {
   "cell_type": "code",
   "execution_count": 10,
   "id": "e3dba97b",
   "metadata": {},
   "outputs": [
    {
     "name": "stdout",
     "output_type": "stream",
     "text": [
      "              precision    recall  f1-score   support\n",
      "\n",
      "    Negative       0.63      0.49      0.55       154\n",
      "     Neutral       0.69      0.68      0.69       378\n",
      "    Positive       0.65      0.72      0.68       350\n",
      "\n",
      "    accuracy                           0.66       882\n",
      "   macro avg       0.65      0.63      0.64       882\n",
      "weighted avg       0.66      0.66      0.66       882\n",
      "\n"
     ]
    },
    {
     "name": "stderr",
     "output_type": "stream",
     "text": [
      "/Users/nafis/code/python/climate change sentiment analysis/.venv311/lib/python3.11/site-packages/sklearn/tree/_classes.py:298: FutureWarning: `max_features='auto'` has been deprecated in 1.1 and will be removed in 1.3. To keep the past behaviour, explicitly set `max_features='sqrt'`.\n",
      "  warnings.warn(\n"
     ]
    }
   ],
   "source": [
    "# Decision Tree (OG-style)\n",
    "dt = DecisionTreeClassifier(\n",
    "    max_depth=None, max_features=\"auto\", min_samples_leaf=1, min_samples_split=2\n",
    ")\n",
    "dt.fit(X_train_res, y_train_res)\n",
    "y_pred = dt.predict(X_test_tfidf)\n",
    "print(classification_report(y_test, y_pred))"
   ]
  },
  {
   "cell_type": "code",
   "execution_count": 11,
   "id": "7ef87792",
   "metadata": {},
   "outputs": [
    {
     "name": "stdout",
     "output_type": "stream",
     "text": [
      "              precision    recall  f1-score   support\n",
      "\n",
      "    Negative       0.48      0.71      0.58       154\n",
      "     Neutral       0.82      0.69      0.75       378\n",
      "    Positive       0.78      0.75      0.77       350\n",
      "\n",
      "    accuracy                           0.72       882\n",
      "   macro avg       0.69      0.72      0.70       882\n",
      "weighted avg       0.74      0.72      0.72       882\n",
      "\n"
     ]
    }
   ],
   "source": [
    "# Multinomial Naive Bayes\n",
    "nb = MultinomialNB()\n",
    "nb.fit(X_train_res, y_train_res)\n",
    "y_pred = nb.predict(X_test_tfidf)\n",
    "print(classification_report(y_test, y_pred))"
   ]
  }
 ],
 "metadata": {
  "kernelspec": {
   "display_name": ".venv311",
   "language": "python",
   "name": "python3"
  },
  "language_info": {
   "codemirror_mode": {
    "name": "ipython",
    "version": 3
   },
   "file_extension": ".py",
   "mimetype": "text/x-python",
   "name": "python",
   "nbconvert_exporter": "python",
   "pygments_lexer": "ipython3",
   "version": "3.11.13"
  }
 },
 "nbformat": 4,
 "nbformat_minor": 5
}
