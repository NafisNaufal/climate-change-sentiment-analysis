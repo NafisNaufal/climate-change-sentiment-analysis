{
 "cells": [
  {
   "cell_type": "markdown",
   "id": "f220ceca",
   "metadata": {},
   "source": [
    "# Word2Vec Models — split first, then oversample\n",
    "\n",
    "This notebook mirrors OG but oversamples only the training set and averages per-document Word2Vec embeddings.\n"
   ]
  },
  {
   "cell_type": "code",
   "execution_count": 9,
   "id": "fdaf5e4b",
   "metadata": {},
   "outputs": [],
   "source": [
    "import pandas as pd\n",
    "import numpy as np\n",
    "import re\n",
    "import nltk\n",
    "from nltk.stem import PorterStemmer, WordNetLemmatizer\n",
    "from nltk.corpus import stopwords\n",
    "from sklearn.model_selection import train_test_split\n",
    "from sklearn.linear_model import LogisticRegression\n",
    "from sklearn.ensemble import RandomForestClassifier\n",
    "from sklearn.tree import DecisionTreeClassifier\n",
    "from sklearn.svm import SVC\n",
    "from sklearn.metrics import classification_report\n",
    "from imblearn.over_sampling import RandomOverSampler\n",
    "from gensim.models import Word2Vec"
   ]
  },
  {
   "cell_type": "code",
   "execution_count": 10,
   "id": "70a9667a",
   "metadata": {},
   "outputs": [
    {
     "data": {
      "text/html": [
       "<div>\n",
       "<style scoped>\n",
       "    .dataframe tbody tr th:only-of-type {\n",
       "        vertical-align: middle;\n",
       "    }\n",
       "\n",
       "    .dataframe tbody tr th {\n",
       "        vertical-align: top;\n",
       "    }\n",
       "\n",
       "    .dataframe thead th {\n",
       "        text-align: right;\n",
       "    }\n",
       "</style>\n",
       "<table border=\"1\" class=\"dataframe\">\n",
       "  <thead>\n",
       "    <tr style=\"text-align: right;\">\n",
       "      <th></th>\n",
       "      <th>Unnamed: 0</th>\n",
       "      <th>content</th>\n",
       "      <th>label</th>\n",
       "    </tr>\n",
       "  </thead>\n",
       "  <tbody>\n",
       "    <tr>\n",
       "      <th>0</th>\n",
       "      <td>0</td>\n",
       "      <td>Researchers use deep learning to simulate chlo...</td>\n",
       "      <td>Positive</td>\n",
       "    </tr>\n",
       "    <tr>\n",
       "      <th>1</th>\n",
       "      <td>1</td>\n",
       "      <td>Why is our @Conservatives government so evil?\\...</td>\n",
       "      <td>Negative</td>\n",
       "    </tr>\n",
       "    <tr>\n",
       "      <th>2</th>\n",
       "      <td>2</td>\n",
       "      <td>Texas Oilfield Waste Company Contributed $53,7...</td>\n",
       "      <td>Negative</td>\n",
       "    </tr>\n",
       "    <tr>\n",
       "      <th>3</th>\n",
       "      <td>3</td>\n",
       "      <td>Epic California snowpack is now the deepest it...</td>\n",
       "      <td>Negative</td>\n",
       "    </tr>\n",
       "    <tr>\n",
       "      <th>4</th>\n",
       "      <td>4</td>\n",
       "      <td>If #climatechange is real and not a hoax why d...</td>\n",
       "      <td>Negative</td>\n",
       "    </tr>\n",
       "  </tbody>\n",
       "</table>\n",
       "</div>"
      ],
      "text/plain": [
       "   Unnamed: 0                                            content     label\n",
       "0           0  Researchers use deep learning to simulate chlo...  Positive\n",
       "1           1  Why is our @Conservatives government so evil?\\...  Negative\n",
       "2           2  Texas Oilfield Waste Company Contributed $53,7...  Negative\n",
       "3           3  Epic California snowpack is now the deepest it...  Negative\n",
       "4           4  If #climatechange is real and not a hoax why d...  Negative"
      ]
     },
     "execution_count": 10,
     "metadata": {},
     "output_type": "execute_result"
    }
   ],
   "source": [
    "df = pd.read_csv(\n",
    "    \"https://raw.githubusercontent.com/anoop-vs/nlp-climate-change/refs/heads/main/main_data.csv\"\n",
    ")\n",
    "df.head()"
   ]
  },
  {
   "cell_type": "code",
   "execution_count": 11,
   "id": "16bc0ddb",
   "metadata": {},
   "outputs": [
    {
     "name": "stderr",
     "output_type": "stream",
     "text": [
      "[nltk_data] Downloading package stopwords to /Users/nafis/nltk_data...\n",
      "[nltk_data]   Package stopwords is already up-to-date!\n",
      "[nltk_data] Downloading package wordnet to /Users/nafis/nltk_data...\n",
      "[nltk_data]   Package wordnet is already up-to-date!\n",
      "[nltk_data] Downloading package omw-1.4 to /Users/nafis/nltk_data...\n",
      "[nltk_data]   Package omw-1.4 is already up-to-date!\n"
     ]
    },
    {
     "data": {
      "text/plain": [
       "True"
      ]
     },
     "execution_count": 11,
     "metadata": {},
     "output_type": "execute_result"
    }
   ],
   "source": [
    "nltk.download(\"stopwords\")\n",
    "nltk.download(\"wordnet\")\n",
    "nltk.download(\"omw-1.4\")"
   ]
  },
  {
   "cell_type": "code",
   "execution_count": 12,
   "id": "cbaaf9f1",
   "metadata": {},
   "outputs": [],
   "source": [
    "def preprocess(text):\n",
    "    text = re.sub(\"[^a-zA-Z]\", \" \", text)\n",
    "    text = text.lower()\n",
    "    words = text.split()\n",
    "    sw = set(stopwords.words(\"english\"))\n",
    "    words = [w for w in words if w not in sw]\n",
    "    stemmer = PorterStemmer()\n",
    "    words = [stemmer.stem(w) for w in words]\n",
    "    lemmatizer = WordNetLemmatizer()\n",
    "    words = [lemmatizer.lemmatize(w) for w in words]\n",
    "    return \" \".join(words)\n",
    "\n",
    "\n",
    "df[\"content\"] = df[\"content\"].apply(preprocess)\n",
    "X = df[\"content\"]\n",
    "y = df[\"label\"]\n",
    "X_train, X_test, y_train, y_test = train_test_split(\n",
    "    X, y, test_size=0.2, random_state=42\n",
    ")"
   ]
  },
  {
   "cell_type": "code",
   "execution_count": 13,
   "id": "a43eb882",
   "metadata": {},
   "outputs": [],
   "source": [
    "# Tokenize\n",
    "X_train_tokens = X_train.apply(str.split).tolist()\n",
    "X_test_tokens = X_test.apply(str.split).tolist()"
   ]
  },
  {
   "cell_type": "code",
   "execution_count": 14,
   "id": "c89a82ca",
   "metadata": {},
   "outputs": [],
   "source": [
    "# Oversample training set only (use averaged vectors)\n",
    "# Train a W2V model on the training tokens to avoid leakage; then build per-doc vectors, then oversample.\n",
    "w2v_model = Word2Vec(X_train_tokens, vector_size=100, window=5, min_count=1, workers=4)\n",
    "\n",
    "# Helper to compute an averaged embedding for a tokenized document, skipping OOV tokens\n",
    "vec_size = w2v_model.vector_size\n",
    "key_index = w2v_model.wv.key_to_index\n",
    "\n",
    "\n",
    "def doc_avg_vector(doc):\n",
    "    emb = [w2v_model.wv[w] for w in doc if w in key_index]\n",
    "    return np.mean(emb, axis=0) if len(emb) else np.zeros(vec_size)\n",
    "\n",
    "\n",
    "X_train_w2v = np.array([doc_avg_vector(doc) for doc in X_train_tokens])\n",
    "X_test_w2v = np.array([doc_avg_vector(doc) for doc in X_test_tokens])\n",
    "\n",
    "oversampler = RandomOverSampler(random_state=42)\n",
    "X_train_res, y_train_res = oversampler.fit_resample(X_train_w2v, y_train)"
   ]
  },
  {
   "cell_type": "markdown",
   "id": "d75c8f7f",
   "metadata": {},
   "source": [
    "## Models\n"
   ]
  },
  {
   "cell_type": "code",
   "execution_count": 15,
   "id": "0ce843fc",
   "metadata": {},
   "outputs": [
    {
     "name": "stdout",
     "output_type": "stream",
     "text": [
      "              precision    recall  f1-score   support\n",
      "\n",
      "    Negative       0.25      0.35      0.29       154\n",
      "     Neutral       0.50      0.29      0.37       378\n",
      "    Positive       0.44      0.56      0.49       350\n",
      "\n",
      "    accuracy                           0.41       882\n",
      "   macro avg       0.40      0.40      0.38       882\n",
      "weighted avg       0.43      0.41      0.40       882\n",
      "\n"
     ]
    }
   ],
   "source": [
    "# Logistic Regression\n",
    "logreg = LogisticRegression(C=0.1)\n",
    "logreg.fit(X_train_res, y_train_res)\n",
    "y_pred = logreg.predict(X_test_w2v)\n",
    "print(classification_report(y_test, y_pred))"
   ]
  },
  {
   "cell_type": "code",
   "execution_count": 16,
   "id": "510a7a0b",
   "metadata": {},
   "outputs": [
    {
     "name": "stdout",
     "output_type": "stream",
     "text": [
      "              precision    recall  f1-score   support\n",
      "\n",
      "    Negative       0.36      0.23      0.28       154\n",
      "     Neutral       0.50      0.48      0.49       378\n",
      "    Positive       0.48      0.58      0.52       350\n",
      "\n",
      "    accuracy                           0.47       882\n",
      "   macro avg       0.45      0.43      0.43       882\n",
      "weighted avg       0.47      0.47      0.47       882\n",
      "\n"
     ]
    }
   ],
   "source": [
    "# Random Forest\n",
    "rfc = RandomForestClassifier()\n",
    "rfc.fit(X_train_res, y_train_res)\n",
    "y_pred = rfc.predict(X_test_w2v)\n",
    "print(classification_report(y_test, y_pred))"
   ]
  },
  {
   "cell_type": "code",
   "execution_count": 17,
   "id": "e433e11e",
   "metadata": {},
   "outputs": [
    {
     "name": "stdout",
     "output_type": "stream",
     "text": [
      "              precision    recall  f1-score   support\n",
      "\n",
      "    Negative       0.35      0.25      0.29       154\n",
      "     Neutral       0.50      0.41      0.45       378\n",
      "    Positive       0.45      0.60      0.52       350\n",
      "\n",
      "    accuracy                           0.46       882\n",
      "   macro avg       0.44      0.42      0.42       882\n",
      "weighted avg       0.46      0.46      0.45       882\n",
      "\n"
     ]
    }
   ],
   "source": [
    "# Linear SVM\n",
    "svm = SVC(kernel=\"linear\")\n",
    "svm.fit(X_train_res, y_train_res)\n",
    "y_pred = svm.predict(X_test_w2v)\n",
    "print(classification_report(y_test, y_pred))"
   ]
  },
  {
   "cell_type": "code",
   "execution_count": 18,
   "id": "34ed0f1e",
   "metadata": {},
   "outputs": [
    {
     "name": "stdout",
     "output_type": "stream",
     "text": [
      "              precision    recall  f1-score   support\n",
      "\n",
      "    Negative       0.23      0.19      0.21       154\n",
      "     Neutral       0.46      0.47      0.46       378\n",
      "    Positive       0.43      0.45      0.44       350\n",
      "\n",
      "    accuracy                           0.41       882\n",
      "   macro avg       0.37      0.37      0.37       882\n",
      "weighted avg       0.41      0.41      0.41       882\n",
      "\n"
     ]
    },
    {
     "name": "stderr",
     "output_type": "stream",
     "text": [
      "/Users/nafis/code/python/climate change sentiment analysis/.venv311/lib/python3.11/site-packages/sklearn/tree/_classes.py:298: FutureWarning: `max_features='auto'` has been deprecated in 1.1 and will be removed in 1.3. To keep the past behaviour, explicitly set `max_features='sqrt'`.\n",
      "  warnings.warn(\n"
     ]
    }
   ],
   "source": [
    "# Decision Tree (OG-style)\n",
    "dt = DecisionTreeClassifier(\n",
    "    max_depth=None, max_features=\"auto\", min_samples_leaf=1, min_samples_split=2\n",
    ")\n",
    "dt.fit(X_train_res, y_train_res)\n",
    "y_pred = dt.predict(X_test_w2v)\n",
    "print(classification_report(y_test, y_pred))"
   ]
  }
 ],
 "metadata": {
  "kernelspec": {
   "display_name": ".venv311",
   "language": "python",
   "name": "python3"
  },
  "language_info": {
   "codemirror_mode": {
    "name": "ipython",
    "version": 3
   },
   "file_extension": ".py",
   "mimetype": "text/x-python",
   "name": "python",
   "nbconvert_exporter": "python",
   "pygments_lexer": "ipython3",
   "version": "3.11.13"
  }
 },
 "nbformat": 4,
 "nbformat_minor": 5
}
