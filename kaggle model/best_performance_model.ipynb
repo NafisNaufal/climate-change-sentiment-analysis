{
 "cells": [
  {
   "cell_type": "markdown",
   "id": "b4cfea28",
   "metadata": {
    "papermill": {
     "duration": 0.122433,
     "end_time": "2022-04-19T20:09:55.476622",
     "exception": false,
     "start_time": "2022-04-19T20:09:55.354189",
     "status": "completed"
    },
    "tags": []
   },
   "source": [
    "# Twitter Climate Change Sentiment Analysis\n",
    "\n",
    "- Author: Roelle Kim\n",
    "- Date: 2022-04-05\n"
   ]
  },
  {
   "cell_type": "markdown",
   "id": "0a56c8c2",
   "metadata": {
    "papermill": {
     "duration": 0.119434,
     "end_time": "2022-04-19T20:09:55.716776",
     "exception": false,
     "start_time": "2022-04-19T20:09:55.597342",
     "status": "completed"
    },
    "tags": []
   },
   "source": [
    "# Used Dataset\n",
    "\n",
    "\"Twitter Climate Change Sentiment\" at https://www.kaggle.com/datasets/edqian/twitter-climate-change-sentiment-dataset.\n"
   ]
  },
  {
   "cell_type": "markdown",
   "id": "99065d1a",
   "metadata": {
    "papermill": {
     "duration": 0.121467,
     "end_time": "2022-04-19T20:09:55.958794",
     "exception": false,
     "start_time": "2022-04-19T20:09:55.837327",
     "status": "completed"
    },
    "tags": []
   },
   "source": [
    "# Objective\n",
    "\n",
    "The goal for the model is to distinguish tweets about climate change into one of the three labels:\n",
    "\n",
    "- 2: news - factual news about the climate change\n",
    "- 1: pro - support the belief that climate change is caused by the man-kinds.\n",
    "- 0: neutral\n",
    "- -1: anti - refuse the belief that climate change is caused by the man-kinds\n"
   ]
  },
  {
   "cell_type": "markdown",
   "id": "6b38ce29",
   "metadata": {
    "execution": {
     "iopub.execute_input": "2022-04-06T04:37:08.545792Z",
     "iopub.status.busy": "2022-04-06T04:37:08.545067Z",
     "iopub.status.idle": "2022-04-06T04:37:08.5497Z",
     "shell.execute_reply": "2022-04-06T04:37:08.548881Z",
     "shell.execute_reply.started": "2022-04-06T04:37:08.545745Z"
    },
    "papermill": {
     "duration": 0.120236,
     "end_time": "2022-04-19T20:09:56.199834",
     "exception": false,
     "start_time": "2022-04-19T20:09:56.079598",
     "status": "completed"
    },
    "tags": []
   },
   "source": [
    "# EDA\n"
   ]
  },
  {
   "cell_type": "markdown",
   "id": "7dc0da1a",
   "metadata": {
    "papermill": {
     "duration": 0.120039,
     "end_time": "2022-04-19T20:09:56.440396",
     "exception": false,
     "start_time": "2022-04-19T20:09:56.320357",
     "status": "completed"
    },
    "tags": []
   },
   "source": [
    "## Load Packages and Data\n",
    "\n",
    "Before analyzing data, we need to import required packages and the dataset.\n"
   ]
  },
  {
   "cell_type": "code",
   "execution_count": 240,
   "id": "c3a35218",
   "metadata": {
    "execution": {
     "iopub.execute_input": "2022-04-19T20:09:56.690858Z",
     "iopub.status.busy": "2022-04-19T20:09:56.690110Z",
     "iopub.status.idle": "2022-04-19T20:10:12.123144Z",
     "shell.execute_reply": "2022-04-19T20:10:12.122217Z",
     "shell.execute_reply.started": "2022-04-07T21:54:00.654404Z"
    },
    "papermill": {
     "duration": 15.56086,
     "end_time": "2022-04-19T20:10:12.123358",
     "exception": false,
     "start_time": "2022-04-19T20:09:56.562498",
     "status": "completed"
    },
    "tags": []
   },
   "outputs": [],
   "source": [
    "# pip install pydataset"
   ]
  },
  {
   "cell_type": "code",
   "execution_count": 241,
   "id": "9c2168bd",
   "metadata": {
    "execution": {
     "iopub.execute_input": "2022-04-19T20:10:12.402864Z",
     "iopub.status.busy": "2022-04-19T20:10:12.401915Z",
     "iopub.status.idle": "2022-04-19T20:10:16.029995Z",
     "shell.execute_reply": "2022-04-19T20:10:16.029252Z",
     "shell.execute_reply.started": "2022-04-07T21:54:15.101895Z"
    },
    "papermill": {
     "duration": 3.772295,
     "end_time": "2022-04-19T20:10:16.030155",
     "exception": false,
     "start_time": "2022-04-19T20:10:12.257860",
     "status": "completed"
    },
    "tags": []
   },
   "outputs": [],
   "source": [
    "# import packages\n",
    "import pandas as pd\n",
    "import numpy as np\n",
    "from os import makedirs\n",
    "from os import path\n",
    "import math\n",
    "from scipy.sparse import csr_matrix\n",
    "\n",
    "import matplotlib.pyplot as plt\n",
    "import seaborn as sns\n",
    "\n",
    "import nltk.downloader\n",
    "from nltk.tokenize import RegexpTokenizer\n",
    "from nltk.corpus import stopwords\n",
    "from nltk.stem import PorterStemmer\n",
    "from sklearn.feature_extraction.text import CountVectorizer\n",
    "from collections import Counter\n",
    "from nltk.util import ngrams\n",
    "\n",
    "from sklearn.model_selection import train_test_split\n",
    "from sklearn.linear_model import LogisticRegression, RidgeClassifier\n",
    "from sklearn import metrics\n",
    "from pydataset import data\n",
    "from sklearn.ensemble import RandomForestClassifier\n",
    "from sklearn.naive_bayes import MultinomialNB\n",
    "from imblearn.over_sampling import RandomOverSampler\n",
    "\n",
    "import pickle\n",
    "import json\n",
    "\n",
    "import kagglehub\n",
    "from kagglehub import KaggleDatasetAdapter"
   ]
  },
  {
   "cell_type": "code",
   "execution_count": 242,
   "id": "ce5bfb72",
   "metadata": {
    "execution": {
     "iopub.execute_input": "2022-04-19T20:10:16.305485Z",
     "iopub.status.busy": "2022-04-19T20:10:16.304852Z",
     "iopub.status.idle": "2022-04-19T20:10:16.539646Z",
     "shell.execute_reply": "2022-04-19T20:10:16.539090Z",
     "shell.execute_reply.started": "2022-04-07T04:46:53.311024Z"
    },
    "papermill": {
     "duration": 0.374827,
     "end_time": "2022-04-19T20:10:16.539775",
     "exception": false,
     "start_time": "2022-04-19T20:10:16.164948",
     "status": "completed"
    },
    "tags": []
   },
   "outputs": [
    {
     "name": "stderr",
     "output_type": "stream",
     "text": [
      "/var/folders/sk/y2tr30gd0rb5nh0nxms786m00000gn/T/ipykernel_58910/2489314432.py:3: DeprecationWarning: Use dataset_load() instead of load_dataset(). load_dataset() will be removed in a future version.\n",
      "  df = kagglehub.load_dataset(\n"
     ]
    }
   ],
   "source": [
    "file_path = \"twitter_sentiment_data.csv\"\n",
    "\n",
    "df = kagglehub.load_dataset(\n",
    "    KaggleDatasetAdapter.PANDAS,\n",
    "    \"edqian/twitter-climate-change-sentiment-dataset\",\n",
    "    file_path,\n",
    ")"
   ]
  },
  {
   "cell_type": "code",
   "execution_count": 243,
   "id": "27f91708",
   "metadata": {},
   "outputs": [],
   "source": [
    "# drop rows where sentiment is 2 (news)\n",
    "df = df[df[\"sentiment\"] != 2]\n",
    "df.reset_index(drop=True, inplace=True)"
   ]
  },
  {
   "cell_type": "code",
   "execution_count": 244,
   "id": "1af7fdf8",
   "metadata": {
    "execution": {
     "iopub.execute_input": "2022-04-19T20:10:16.713810Z",
     "iopub.status.busy": "2022-04-19T20:10:16.713315Z",
     "iopub.status.idle": "2022-04-19T20:10:16.719387Z",
     "shell.execute_reply": "2022-04-19T20:10:16.719863Z",
     "shell.execute_reply.started": "2022-04-07T04:46:53.437579Z"
    },
    "papermill": {
     "duration": 0.095001,
     "end_time": "2022-04-19T20:10:16.719991",
     "exception": false,
     "start_time": "2022-04-19T20:10:16.624990",
     "status": "completed"
    },
    "tags": []
   },
   "outputs": [],
   "source": [
    "# set up label dataframe for future refrences\n",
    "\n",
    "label = [\n",
    "    -1,\n",
    "    0,\n",
    "    1,\n",
    "    #  2\n",
    "]\n",
    "labelN = [\n",
    "    \"Anti\",\n",
    "    \"Neutral\",\n",
    "    \"Pro\",\n",
    "    #   \"News\"\n",
    "]\n",
    "labelDesc = [\n",
    "    \"the tweet does not believe in man-made climate change\",\n",
    "    \"the tweet neither supports nor refutes the belief of man-made climate change\",\n",
    "    \"the tweet supports the belief of man-made climate change\",\n",
    "    # , \"the tweet links to factual news about climate change\"\n",
    "]\n",
    "\n",
    "labelDf = pd.DataFrame(\n",
    "    list(zip(label, labelN, labelDesc)), columns=[\"label\", \"name\", \"description\"]\n",
    ")"
   ]
  },
  {
   "cell_type": "markdown",
   "id": "324de36d",
   "metadata": {
    "papermill": {
     "duration": 0.08696,
     "end_time": "2022-04-19T20:10:16.893417",
     "exception": false,
     "start_time": "2022-04-19T20:10:16.806457",
     "status": "completed"
    },
    "tags": []
   },
   "source": [
    "## Data Dictionary\n"
   ]
  },
  {
   "cell_type": "code",
   "execution_count": 245,
   "id": "5762c8a1",
   "metadata": {
    "execution": {
     "iopub.execute_input": "2022-04-19T20:10:17.074999Z",
     "iopub.status.busy": "2022-04-19T20:10:17.074378Z",
     "iopub.status.idle": "2022-04-19T20:10:17.090007Z",
     "shell.execute_reply": "2022-04-19T20:10:17.090517Z",
     "shell.execute_reply.started": "2022-04-07T04:46:53.447127Z"
    },
    "papermill": {
     "duration": 0.111178,
     "end_time": "2022-04-19T20:10:17.090678",
     "exception": false,
     "start_time": "2022-04-19T20:10:16.979500",
     "status": "completed"
    },
    "tags": []
   },
   "outputs": [
    {
     "data": {
      "text/html": [
       "<div>\n",
       "<style scoped>\n",
       "    .dataframe tbody tr th:only-of-type {\n",
       "        vertical-align: middle;\n",
       "    }\n",
       "\n",
       "    .dataframe tbody tr th {\n",
       "        vertical-align: top;\n",
       "    }\n",
       "\n",
       "    .dataframe thead th {\n",
       "        text-align: right;\n",
       "    }\n",
       "</style>\n",
       "<table border=\"1\" class=\"dataframe\">\n",
       "  <thead>\n",
       "    <tr style=\"text-align: right;\">\n",
       "      <th></th>\n",
       "      <th>sentiment</th>\n",
       "      <th>message</th>\n",
       "      <th>tweetid</th>\n",
       "    </tr>\n",
       "  </thead>\n",
       "  <tbody>\n",
       "    <tr>\n",
       "      <th>0</th>\n",
       "      <td>-1</td>\n",
       "      <td>@tiniebeany climate change is an interesting hustle as it was global warming but the p...</td>\n",
       "      <td>792927353886371840</td>\n",
       "    </tr>\n",
       "    <tr>\n",
       "      <th>1</th>\n",
       "      <td>1</td>\n",
       "      <td>RT @NatGeoChannel: Watch #BeforeTheFlood right here, as @LeoDiCaprio travels the world...</td>\n",
       "      <td>793124211518832641</td>\n",
       "    </tr>\n",
       "    <tr>\n",
       "      <th>2</th>\n",
       "      <td>1</td>\n",
       "      <td>Fabulous! Leonardo #DiCaprio's film on #climate change is brilliant!!! Do watch. https...</td>\n",
       "      <td>793124402388832256</td>\n",
       "    </tr>\n",
       "    <tr>\n",
       "      <th>3</th>\n",
       "      <td>1</td>\n",
       "      <td>RT @Mick_Fanning: Just watched this amazing documentary by leonardodicaprio on climate...</td>\n",
       "      <td>793124635873275904</td>\n",
       "    </tr>\n",
       "    <tr>\n",
       "      <th>4</th>\n",
       "      <td>0</td>\n",
       "      <td>Unamshow awache kujinga na iko global warming https://t.co/mhIflU7M1X</td>\n",
       "      <td>793125429418815489</td>\n",
       "    </tr>\n",
       "  </tbody>\n",
       "</table>\n",
       "</div>"
      ],
      "text/plain": [
       "   sentiment  \\\n",
       "0         -1   \n",
       "1          1   \n",
       "2          1   \n",
       "3          1   \n",
       "4          0   \n",
       "\n",
       "                                                                                     message  \\\n",
       "0  @tiniebeany climate change is an interesting hustle as it was global warming but the p...   \n",
       "1  RT @NatGeoChannel: Watch #BeforeTheFlood right here, as @LeoDiCaprio travels the world...   \n",
       "2  Fabulous! Leonardo #DiCaprio's film on #climate change is brilliant!!! Do watch. https...   \n",
       "3  RT @Mick_Fanning: Just watched this amazing documentary by leonardodicaprio on climate...   \n",
       "4                      Unamshow awache kujinga na iko global warming https://t.co/mhIflU7M1X   \n",
       "\n",
       "              tweetid  \n",
       "0  792927353886371840  \n",
       "1  793124211518832641  \n",
       "2  793124402388832256  \n",
       "3  793124635873275904  \n",
       "4  793125429418815489  "
      ]
     },
     "execution_count": 245,
     "metadata": {},
     "output_type": "execute_result"
    }
   ],
   "source": [
    "df.head()"
   ]
  },
  {
   "cell_type": "markdown",
   "id": "d2b55547",
   "metadata": {
    "papermill": {
     "duration": 0.087652,
     "end_time": "2022-04-19T20:10:17.266276",
     "exception": false,
     "start_time": "2022-04-19T20:10:17.178624",
     "status": "completed"
    },
    "tags": []
   },
   "source": [
    "The data has a very simple structure with only 2 features. Each row is associated with a unique tweetid, and it shows a tweet pertaining to man-made climate change. The message column shows the content of the tweet and the sentiment column shows the sentiment label that was determined by 3 reviewers.\n"
   ]
  },
  {
   "cell_type": "code",
   "execution_count": 246,
   "id": "70fe4b38",
   "metadata": {
    "execution": {
     "iopub.execute_input": "2022-04-19T20:10:17.453719Z",
     "iopub.status.busy": "2022-04-19T20:10:17.453141Z",
     "iopub.status.idle": "2022-04-19T20:10:17.473505Z",
     "shell.execute_reply": "2022-04-19T20:10:17.474099Z",
     "shell.execute_reply.started": "2022-04-07T04:46:53.464254Z"
    },
    "papermill": {
     "duration": 0.122169,
     "end_time": "2022-04-19T20:10:17.474287",
     "exception": false,
     "start_time": "2022-04-19T20:10:17.352118",
     "status": "completed"
    },
    "tags": []
   },
   "outputs": [
    {
     "name": "stdout",
     "output_type": "stream",
     "text": [
      "<class 'pandas.core.frame.DataFrame'>\n",
      "RangeIndex: 34667 entries, 0 to 34666\n",
      "Data columns (total 3 columns):\n",
      " #   Column     Non-Null Count  Dtype \n",
      "---  ------     --------------  ----- \n",
      " 0   sentiment  34667 non-null  int64 \n",
      " 1   message    34667 non-null  object\n",
      " 2   tweetid    34667 non-null  int64 \n",
      "dtypes: int64(2), object(1)\n",
      "memory usage: 812.6+ KB\n"
     ]
    }
   ],
   "source": [
    "df.info()"
   ]
  },
  {
   "cell_type": "markdown",
   "id": "cadb6b50",
   "metadata": {
    "papermill": {
     "duration": 0.091542,
     "end_time": "2022-04-19T20:10:17.656605",
     "exception": false,
     "start_time": "2022-04-19T20:10:17.565063",
     "status": "completed"
    },
    "tags": []
   },
   "source": [
    "There are total of 43949 entries with no null counts.\n"
   ]
  },
  {
   "cell_type": "markdown",
   "id": "54a4dd9c",
   "metadata": {
    "papermill": {
     "duration": 0.087423,
     "end_time": "2022-04-19T20:10:17.834005",
     "exception": false,
     "start_time": "2022-04-19T20:10:17.746582",
     "status": "completed"
    },
    "tags": []
   },
   "source": [
    "## Distribution of Sentiments\n"
   ]
  },
  {
   "cell_type": "code",
   "execution_count": 247,
   "id": "1154597a",
   "metadata": {
    "execution": {
     "iopub.execute_input": "2022-04-19T20:10:18.008323Z",
     "iopub.status.busy": "2022-04-19T20:10:18.007817Z",
     "iopub.status.idle": "2022-04-19T20:10:18.200622Z",
     "shell.execute_reply": "2022-04-19T20:10:18.201245Z",
     "shell.execute_reply.started": "2022-04-07T04:46:53.489431Z"
    },
    "papermill": {
     "duration": 0.281899,
     "end_time": "2022-04-19T20:10:18.201421",
     "exception": false,
     "start_time": "2022-04-19T20:10:17.919522",
     "status": "completed"
    },
    "tags": []
   },
   "outputs": [
    {
     "data": {
      "image/png": "[encoded data removed]",
      "text/plain": [
       "<Figure size 700x700 with 1 Axes>"
      ]
     },
     "metadata": {},
     "output_type": "display_data"
    }
   ],
   "source": [
    "plt.figure(figsize=(7, 7))\n",
    "plt.pie(\n",
    "    df.sentiment.value_counts().values,\n",
    "    labels=df.sentiment.value_counts().index,\n",
    "    autopct=\"%2.1f%%\",\n",
    "    textprops={\"fontsize\": 15},\n",
    ")\n",
    "plt.title(\"Sentiment Distribution of the Tweet Dataset\", fontsize=20)\n",
    "plt.tight_layout()\n",
    "plt.show()"
   ]
  },
  {
   "cell_type": "markdown",
   "id": "68d4cbaf",
   "metadata": {
    "papermill": {
     "duration": 0.088075,
     "end_time": "2022-04-19T20:10:18.388835",
     "exception": false,
     "start_time": "2022-04-19T20:10:18.300760",
     "status": "completed"
    },
    "tags": []
   },
   "source": [
    "The pie chart shows the distribution of the data. Majority of tweets are labelled as \"1\" meaning the positive attitude toward the belief that the climate change is caused by the man-kinds, followed by \"2\"(news), \"0\"(neutral), and \"-1\"(anti).\n"
   ]
  },
  {
   "cell_type": "code",
   "execution_count": 248,
   "id": "2102398b",
   "metadata": {
    "execution": {
     "iopub.execute_input": "2022-04-19T20:10:18.574812Z",
     "iopub.status.busy": "2022-04-19T20:10:18.574209Z",
     "iopub.status.idle": "2022-04-19T20:10:18.576932Z",
     "shell.execute_reply": "2022-04-19T20:10:18.577449Z",
     "shell.execute_reply.started": "2022-04-07T04:46:53.686107Z"
    },
    "papermill": {
     "duration": 0.09873,
     "end_time": "2022-04-19T20:10:18.577590",
     "exception": false,
     "start_time": "2022-04-19T20:10:18.478860",
     "status": "completed"
    },
    "tags": []
   },
   "outputs": [
    {
     "data": {
      "text/plain": [
       "sentiment\n",
       " 1    22962\n",
       " 0     7715\n",
       "-1     3990\n",
       "Name: count, dtype: int64"
      ]
     },
     "execution_count": 248,
     "metadata": {},
     "output_type": "execute_result"
    }
   ],
   "source": [
    "df.sentiment.value_counts()"
   ]
  },
  {
   "cell_type": "markdown",
   "id": "9c6a3c8f",
   "metadata": {
    "papermill": {
     "duration": 0.089232,
     "end_time": "2022-04-19T20:10:18.756976",
     "exception": false,
     "start_time": "2022-04-19T20:10:18.667744",
     "status": "completed"
    },
    "tags": []
   },
   "source": [
    "These are the exact numbers of each sentiment label.\n"
   ]
  },
  {
   "cell_type": "markdown",
   "id": "f11de2f8",
   "metadata": {
    "papermill": {
     "duration": 0.086829,
     "end_time": "2022-04-19T20:10:18.933234",
     "exception": false,
     "start_time": "2022-04-19T20:10:18.846405",
     "status": "completed"
    },
    "tags": []
   },
   "source": [
    "# Data Preparation for Sentiment Analysis\n",
    "\n",
    "Tweet texts will be transformed and vectorized to be fed into models.\n"
   ]
  },
  {
   "cell_type": "code",
   "execution_count": 249,
   "id": "111102e9",
   "metadata": {
    "execution": {
     "iopub.execute_input": "2022-04-19T20:10:19.112075Z",
     "iopub.status.busy": "2022-04-19T20:10:19.111580Z",
     "iopub.status.idle": "2022-04-19T20:10:19.114813Z",
     "shell.execute_reply": "2022-04-19T20:10:19.115338Z",
     "shell.execute_reply.started": "2022-04-07T04:46:53.697552Z"
    },
    "papermill": {
     "duration": 0.09434,
     "end_time": "2022-04-19T20:10:19.115470",
     "exception": false,
     "start_time": "2022-04-19T20:10:19.021130",
     "status": "completed"
    },
    "tags": []
   },
   "outputs": [
    {
     "name": "stdout",
     "output_type": "stream",
     "text": [
      "Dataset size after removing duplicates: 31962\n",
      "dfTweets size: 31962\n"
     ]
    }
   ],
   "source": [
    "# Remove duplicates from the dataframe first, then extract messages\n",
    "df = df.drop_duplicates(subset=[\"message\"])\n",
    "df.reset_index(drop=True, inplace=True)\n",
    "\n",
    "# Now separate the messages column for transformation.\n",
    "dfTweets = df[\"message\"]\n",
    "\n",
    "print(f\"Dataset size after removing duplicates: {len(df)}\")\n",
    "print(f\"dfTweets size: {len(dfTweets)}\")"
   ]
  },
  {
   "cell_type": "code",
   "execution_count": 250,
   "id": "0cee3f80",
   "metadata": {},
   "outputs": [],
   "source": [
    "df = df.drop_duplicates(subset=[\"message\"])\n",
    "df.reset_index(drop=True, inplace=True)"
   ]
  },
  {
   "cell_type": "code",
   "execution_count": 251,
   "id": "51129882",
   "metadata": {},
   "outputs": [
    {
     "data": {
      "text/plain": [
       "0        @tiniebeany climate change is an interesting hustle as it was global warming but the p...\n",
       "1        RT @NatGeoChannel: Watch #BeforeTheFlood right here, as @LeoDiCaprio travels the world...\n",
       "2        Fabulous! Leonardo #DiCaprio's film on #climate change is brilliant!!! Do watch. https...\n",
       "3        RT @Mick_Fanning: Just watched this amazing documentary by leonardodicaprio on climate...\n",
       "4                            Unamshow awache kujinga na iko global warming https://t.co/mhIflU7M1X\n",
       "                                                   ...                                            \n",
       "31957         #AikBaatSuniThi \\nGlobal warming has negative effect on the melting down of glaciers\n",
       "31958    Dear @realDonaldTrump,\\nYeah right. Human Mediated Climate Change is a Chinese urban l...\n",
       "31959          What will your respective parties do to prevent climate change globally? #ZPNDebate\n",
       "31960    RT @taehbeingextra: i still can$q$t believe this gif of taehyung saved the human race,...\n",
       "31961    @Likeabat77 @zachhaller \\n\\nThe wealthy + fossil fuel Industry know climate change is ...\n",
       "Name: message, Length: 31962, dtype: object"
      ]
     },
     "execution_count": 251,
     "metadata": {},
     "output_type": "execute_result"
    }
   ],
   "source": [
    "dfTweets"
   ]
  },
  {
   "cell_type": "markdown",
   "id": "08fd29bf",
   "metadata": {
    "papermill": {
     "duration": 0.088632,
     "end_time": "2022-04-19T20:10:19.293558",
     "exception": false,
     "start_time": "2022-04-19T20:10:19.204926",
     "status": "completed"
    },
    "tags": []
   },
   "source": [
    "## Tokenization\n",
    "\n",
    "All the tweets are first split into arrays of words.\n"
   ]
  },
  {
   "cell_type": "code",
   "execution_count": 252,
   "id": "22b60db3",
   "metadata": {
    "execution": {
     "iopub.execute_input": "2022-04-19T20:10:19.480581Z",
     "iopub.status.busy": "2022-04-19T20:10:19.479153Z",
     "iopub.status.idle": "2022-04-19T20:10:19.481175Z",
     "shell.execute_reply": "2022-04-19T20:10:19.481562Z",
     "shell.execute_reply.started": "2022-04-07T04:46:53.710182Z"
    },
    "papermill": {
     "duration": 0.098753,
     "end_time": "2022-04-19T20:10:19.481708",
     "exception": false,
     "start_time": "2022-04-19T20:10:19.382955",
     "status": "completed"
    },
    "tags": []
   },
   "outputs": [],
   "source": [
    "def createTokenizedArray(sentences):\n",
    "    \"\"\"\n",
    "    Create lower case array of words with no punctuation.\n",
    "    :param sentences: array or series of texts\n",
    "    :return: lower case array of words with no punctuation.\n",
    "    \"\"\"\n",
    "    # Initialize tokenizer and empty array to store modified sentences.\n",
    "    tokenizer = RegexpTokenizer(r\"\\w+\")\n",
    "    tokenizedArray = []\n",
    "    for i in range(0, len(sentences)):\n",
    "        # Convert sentence to lower case.\n",
    "        sentence = sentences[i].lower()\n",
    "\n",
    "        # Split sentence into array of words with no punctuation.\n",
    "        words = tokenizer.tokenize(sentence)\n",
    "\n",
    "        # Append word array to list.\n",
    "        tokenizedArray.append(words)\n",
    "\n",
    "    # print(tokenizedArray)\n",
    "    return tokenizedArray  # send modified contents back to calling function."
   ]
  },
  {
   "cell_type": "code",
   "execution_count": 253,
   "id": "05da65bb",
   "metadata": {
    "execution": {
     "iopub.execute_input": "2022-04-19T20:10:19.662223Z",
     "iopub.status.busy": "2022-04-19T20:10:19.661661Z",
     "iopub.status.idle": "2022-04-19T20:10:20.692309Z",
     "shell.execute_reply": "2022-04-19T20:10:20.692802Z",
     "shell.execute_reply.started": "2022-04-07T04:46:53.721484Z"
    },
    "papermill": {
     "duration": 1.123134,
     "end_time": "2022-04-19T20:10:20.692967",
     "exception": false,
     "start_time": "2022-04-19T20:10:19.569833",
     "status": "completed"
    },
    "tags": []
   },
   "outputs": [
    {
     "data": {
      "text/plain": [
       "0    [tiniebeany, climate, change, is, an, interesting, hustle, as, it, was, global, warmin...\n",
       "1    [rt, natgeochannel, watch, beforetheflood, right, here, as, leodicaprio, travels, the,...\n",
       "2    [fabulous, leonardo, dicaprio, s, film, on, climate, change, is, brilliant, do, watch,...\n",
       "3    [rt, mick_fanning, just, watched, this, amazing, documentary, by, leonardodicaprio, on...\n",
       "4              [unamshow, awache, kujinga, na, iko, global, warming, https, t, co, mhiflu7m1x]\n",
       "dtype: object"
      ]
     },
     "execution_count": 253,
     "metadata": {},
     "output_type": "execute_result"
    }
   ],
   "source": [
    "tokenizedLi = createTokenizedArray(dfTweets)\n",
    "\n",
    "pd.Series(tokenizedLi[:5])"
   ]
  },
  {
   "cell_type": "markdown",
   "id": "0f4d6d02",
   "metadata": {
    "papermill": {
     "duration": 0.087282,
     "end_time": "2022-04-19T20:10:20.869185",
     "exception": false,
     "start_time": "2022-04-19T20:10:20.781903",
     "status": "completed"
    },
    "tags": []
   },
   "source": [
    "Each array contains words of individual tweet.\n"
   ]
  },
  {
   "cell_type": "markdown",
   "id": "3f4e0774",
   "metadata": {
    "papermill": {
     "duration": 0.087248,
     "end_time": "2022-04-19T20:10:21.043751",
     "exception": false,
     "start_time": "2022-04-19T20:10:20.956503",
     "status": "completed"
    },
    "tags": []
   },
   "source": [
    "## Stop Word Removal\n",
    "\n",
    "Stop words are the words that do not add any significant values to the query search, such as \"the\", \"a\", and \"an\". They are safe to be removed from the tokenized list.\n"
   ]
  },
  {
   "cell_type": "code",
   "execution_count": 254,
   "id": "f5396c0c",
   "metadata": {
    "execution": {
     "iopub.execute_input": "2022-04-19T20:10:21.223463Z",
     "iopub.status.busy": "2022-04-19T20:10:21.222823Z",
     "iopub.status.idle": "2022-04-19T20:10:21.331759Z",
     "shell.execute_reply": "2022-04-19T20:10:21.332195Z",
     "shell.execute_reply.started": "2022-04-07T04:46:54.454156Z"
    },
    "papermill": {
     "duration": 0.200946,
     "end_time": "2022-04-19T20:10:21.332345",
     "exception": false,
     "start_time": "2022-04-19T20:10:21.131399",
     "status": "completed"
    },
    "tags": []
   },
   "outputs": [
    {
     "name": "stderr",
     "output_type": "stream",
     "text": [
      "[nltk_data] Downloading package stopwords to /Users/nafis/nltk_data...\n",
      "[nltk_data]   Package stopwords is already up-to-date!\n"
     ]
    }
   ],
   "source": [
    "# To get stop words.\n",
    "nltk.download(\"stopwords\")\n",
    "\n",
    "\n",
    "def removeStopWords(tokenList):\n",
    "    \"\"\"\n",
    "    Create array of words with no punctuation or stop words.\n",
    "    :param tokenList: tokenized list\n",
    "    :return: array of words with no punctuation or stop words.\n",
    "    \"\"\"\n",
    "    stopWords = set(stopwords.words(\"english\"))\n",
    "    shorterSentences = []  # Declare empty array of sentences.\n",
    "\n",
    "    for sentence in tokenList:\n",
    "        shorterSentence = []  # Declare empty array of words in single sentence.\n",
    "        for word in sentence:\n",
    "            if word not in stopWords:\n",
    "                # Remove leading and trailing spaces.\n",
    "                word = word.strip()\n",
    "\n",
    "                # Ignore single character words and digits.\n",
    "                if len(word) > 1 and word.isdigit() == False:\n",
    "                    # Add remaining words to list.\n",
    "                    shorterSentence.append(word)\n",
    "        shorterSentences.append(shorterSentence)\n",
    "    return shorterSentences"
   ]
  },
  {
   "cell_type": "code",
   "execution_count": 255,
   "id": "f16b6170",
   "metadata": {
    "execution": {
     "iopub.execute_input": "2022-04-19T20:10:21.514291Z",
     "iopub.status.busy": "2022-04-19T20:10:21.513457Z",
     "iopub.status.idle": "2022-04-19T20:10:22.067184Z",
     "shell.execute_reply": "2022-04-19T20:10:22.067656Z",
     "shell.execute_reply.started": "2022-04-07T04:46:54.466299Z"
    },
    "papermill": {
     "duration": 0.646745,
     "end_time": "2022-04-19T20:10:22.067837",
     "exception": false,
     "start_time": "2022-04-19T20:10:21.421092",
     "status": "completed"
    },
    "tags": []
   },
   "outputs": [
    {
     "name": "stdout",
     "output_type": "stream",
     "text": [
      "Sample sentence BEFORE removing stop words:\n",
      "['tiniebeany', 'climate', 'change', 'is', 'an', 'interesting', 'hustle', 'as', 'it', 'was', 'global', 'warming', 'but', 'the', 'planet', 'stopped', 'warming', 'for', '15', 'yes', 'while', 'the', 'suv', 'boom']\n",
      "\n",
      "\n",
      "Sample sentence AFTER removing stop words:\n",
      "['tiniebeany', 'climate', 'change', 'interesting', 'hustle', 'global', 'warming', 'planet', 'stopped', 'warming', 'yes', 'suv', 'boom']\n"
     ]
    }
   ],
   "source": [
    "tokenizedNoStopLi = removeStopWords(tokenizedLi)\n",
    "\n",
    "print(f\"Sample sentence BEFORE removing stop words:\\n{tokenizedLi[0]}\")\n",
    "print(f\"\\n\\nSample sentence AFTER removing stop words:\\n{tokenizedNoStopLi[0]}\")"
   ]
  },
  {
   "cell_type": "markdown",
   "id": "6c580d55",
   "metadata": {
    "papermill": {
     "duration": 0.088647,
     "end_time": "2022-04-19T20:10:22.246265",
     "exception": false,
     "start_time": "2022-04-19T20:10:22.157618",
     "status": "completed"
    },
    "tags": []
   },
   "source": [
    "You can see the second set of the array now no longer contains some insignificant words such as \"is\", \"an\", \"as\" and \"it\".\n"
   ]
  },
  {
   "cell_type": "markdown",
   "id": "ae26b2b9",
   "metadata": {
    "papermill": {
     "duration": 0.088559,
     "end_time": "2022-04-19T20:10:22.424950",
     "exception": false,
     "start_time": "2022-04-19T20:10:22.336391",
     "status": "completed"
    },
    "tags": []
   },
   "source": [
    "## Stemming\n",
    "\n",
    "English words are often time variations of a root word. Stemming rebuilds sentences by removing suffixes from words. It potentially improves the sentiment algorithm by accepting different words as one word as long as they were originated from the same stem.\n"
   ]
  },
  {
   "cell_type": "code",
   "execution_count": 256,
   "id": "c8d4eb17",
   "metadata": {
    "execution": {
     "iopub.execute_input": "2022-04-19T20:10:22.605742Z",
     "iopub.status.busy": "2022-04-19T20:10:22.605253Z",
     "iopub.status.idle": "2022-04-19T20:10:22.611926Z",
     "shell.execute_reply": "2022-04-19T20:10:22.612447Z",
     "shell.execute_reply.started": "2022-04-07T04:46:55.062102Z"
    },
    "papermill": {
     "duration": 0.09773,
     "end_time": "2022-04-19T20:10:22.612573",
     "exception": false,
     "start_time": "2022-04-19T20:10:22.514843",
     "status": "completed"
    },
    "tags": []
   },
   "outputs": [],
   "source": [
    "def stemWords(sentenceArrays):\n",
    "    \"\"\"\n",
    "    Removes suffixes and rebuilds the sentences.\n",
    "    :param sentenceArrays: stentences list\n",
    "    :return: array of sentences without suffixes\n",
    "    \"\"\"\n",
    "    ps = PorterStemmer()\n",
    "    stemmedSentences = []\n",
    "    for sentenceArray in sentenceArrays:\n",
    "        stemmedArray = []  # Declare empty array of words.\n",
    "        for word in sentenceArray:\n",
    "            stemmedArray.append(ps.stem(word))  # Add stemmed word.\n",
    "\n",
    "        # Convert array back to sentence of stemmed words.\n",
    "        delimeter = \" \"\n",
    "        sentence = delimeter.join(stemmedArray)\n",
    "\n",
    "        # Append stemmed sentence to list of sentences.\n",
    "        stemmedSentences.append(sentence)\n",
    "    return stemmedSentences"
   ]
  },
  {
   "cell_type": "code",
   "execution_count": 257,
   "id": "5a4e4593",
   "metadata": {
    "execution": {
     "iopub.execute_input": "2022-04-19T20:10:22.795526Z",
     "iopub.status.busy": "2022-04-19T20:10:22.794929Z",
     "iopub.status.idle": "2022-04-19T20:10:38.356606Z",
     "shell.execute_reply": "2022-04-19T20:10:38.357010Z",
     "shell.execute_reply.started": "2022-04-07T04:46:55.069344Z"
    },
    "papermill": {
     "duration": 15.655635,
     "end_time": "2022-04-19T20:10:38.357209",
     "exception": false,
     "start_time": "2022-04-19T20:10:22.701574",
     "status": "completed"
    },
    "tags": []
   },
   "outputs": [
    {
     "name": "stdout",
     "output_type": "stream",
     "text": [
      "Sample sentence BEFORE stemming:\n",
      "[['tiniebeany', 'climate', 'change', 'interesting', 'hustle', 'global', 'warming', 'planet', 'stopped', 'warming', 'yes', 'suv', 'boom'], ['rt', 'natgeochannel', 'watch', 'beforetheflood', 'right', 'leodicaprio', 'travels', 'world', 'tackle', 'climate', 'change', 'https', 'co', 'lkdehj3tnn', 'httã'], ['fabulous', 'leonardo', 'dicaprio', 'film', 'climate', 'change', 'brilliant', 'watch', 'https', 'co', '7rv6brmxjw', 'via', 'youtube'], ['rt', 'mick_fanning', 'watched', 'amazing', 'documentary', 'leonardodicaprio', 'climate', 'change', 'think', 'thisã', 'https', 'co', 'knste8k8im'], ['unamshow', 'awache', 'kujinga', 'na', 'iko', 'global', 'warming', 'https', 'co', 'mhiflu7m1x']]\n",
      "\n",
      "Sample sentence AFTER stemming:\n",
      "['tiniebeani climat chang interest hustl global warm planet stop warm ye suv boom', 'rt natgeochannel watch beforetheflood right leodicaprio travel world tackl climat chang http co lkdehj3tnn httã', 'fabul leonardo dicaprio film climat chang brilliant watch http co 7rv6brmxjw via youtub', 'rt mick_fan watch amaz documentari leonardodicaprio climat chang think thisã http co knste8k8im', 'unamshow awach kujinga na iko global warm http co mhiflu7m1x']\n"
     ]
    }
   ],
   "source": [
    "stemmedLi = stemWords(tokenizedNoStopLi)\n",
    "\n",
    "print(f\"Sample sentence BEFORE stemming:\\n{tokenizedNoStopLi[:5]}\")\n",
    "print(f\"\\nSample sentence AFTER stemming:\\n{stemmedLi[:5]}\")"
   ]
  },
  {
   "cell_type": "markdown",
   "id": "a687cd9d",
   "metadata": {
    "papermill": {
     "duration": 0.095382,
     "end_time": "2022-04-19T20:10:38.547983",
     "exception": false,
     "start_time": "2022-04-19T20:10:38.452601",
     "status": "completed"
    },
    "tags": []
   },
   "source": [
    "You can see the sentence after stemming has lost some suffixes. \"Change\" became \"chang\", \"interesting\" became \"interest\" and \"warming\" became \"warm\". The array of words has also been converted back to one full sentence.\n"
   ]
  },
  {
   "cell_type": "markdown",
   "id": "55439608",
   "metadata": {
    "papermill": {
     "duration": 0.090637,
     "end_time": "2022-04-19T20:10:38.732873",
     "exception": false,
     "start_time": "2022-04-19T20:10:38.642236",
     "status": "completed"
    },
    "tags": []
   },
   "source": [
    "## Vectorization\n",
    "\n",
    "Now the stemmed sentences will be vectorized. It essentially transforms all the existing words into numbers so they can be fed to various big data algorithms.\n"
   ]
  },
  {
   "cell_type": "code",
   "execution_count": 258,
   "id": "12e79645",
   "metadata": {
    "execution": {
     "iopub.execute_input": "2022-04-19T20:10:38.921240Z",
     "iopub.status.busy": "2022-04-19T20:10:38.920472Z",
     "iopub.status.idle": "2022-04-19T20:10:38.922961Z",
     "shell.execute_reply": "2022-04-19T20:10:38.922507Z",
     "shell.execute_reply.started": "2022-04-07T04:47:11.168388Z"
    },
    "papermill": {
     "duration": 0.09943,
     "end_time": "2022-04-19T20:10:38.923098",
     "exception": false,
     "start_time": "2022-04-19T20:10:38.823668",
     "status": "completed"
    },
    "tags": []
   },
   "outputs": [],
   "source": [
    "def vectorizeList(stemmedList, ngramRangeStart, ngramRangeEnd):\n",
    "    \"\"\"\n",
    "    Creates a matrix of word vectors.\n",
    "    :param stemmedList: stemmed sentence list\n",
    "    :return: matrix of word vectors and vocabulary dictionary\n",
    "    \"\"\"\n",
    "    cv = CountVectorizer(binary=True, ngram_range=(ngramRangeStart, ngramRangeEnd))\n",
    "    cv.fit(stemmedList)\n",
    "    X = cv.transform(stemmedList)\n",
    "\n",
    "    return X, cv.vocabulary_"
   ]
  },
  {
   "cell_type": "code",
   "execution_count": 259,
   "id": "079f9d44",
   "metadata": {
    "execution": {
     "iopub.execute_input": "2022-04-19T20:10:39.110208Z",
     "iopub.status.busy": "2022-04-19T20:10:39.109644Z",
     "iopub.status.idle": "2022-04-19T20:10:41.828005Z",
     "shell.execute_reply": "2022-04-19T20:10:41.827495Z",
     "shell.execute_reply.started": "2022-04-07T04:47:11.175684Z"
    },
    "papermill": {
     "duration": 2.813808,
     "end_time": "2022-04-19T20:10:41.828149",
     "exception": false,
     "start_time": "2022-04-19T20:10:39.014341",
     "status": "completed"
    },
    "tags": []
   },
   "outputs": [],
   "source": [
    "vectorizedTweets, vectorDictionary = vectorizeList(stemmedLi, 1, 1)"
   ]
  },
  {
   "cell_type": "markdown",
   "id": "c27f967f",
   "metadata": {
    "papermill": {
     "duration": 0.089871,
     "end_time": "2022-04-19T20:10:42.008475",
     "exception": false,
     "start_time": "2022-04-19T20:10:41.918604",
     "status": "completed"
    },
    "tags": []
   },
   "source": [
    "Let's look into 2 different sample sentences to understand better what vectorization does\n"
   ]
  },
  {
   "cell_type": "code",
   "execution_count": 260,
   "id": "08cf21cf",
   "metadata": {
    "execution": {
     "iopub.execute_input": "2022-04-19T20:10:42.194984Z",
     "iopub.status.busy": "2022-04-19T20:10:42.194371Z",
     "iopub.status.idle": "2022-04-19T20:10:42.197781Z",
     "shell.execute_reply": "2022-04-19T20:10:42.198308Z",
     "shell.execute_reply.started": "2022-04-07T04:47:13.127615Z"
    },
    "papermill": {
     "duration": 0.099051,
     "end_time": "2022-04-19T20:10:42.198656",
     "exception": false,
     "start_time": "2022-04-19T20:10:42.099605",
     "status": "completed"
    },
    "tags": []
   },
   "outputs": [
    {
     "name": "stdout",
     "output_type": "stream",
     "text": [
      "Sample sentence #1:\n",
      "tiniebeani climat chang interest hustl global warm planet stop warm ye suv boom\n",
      "Sample sentence #2:\n",
      "rt natgeochannel watch beforetheflood right leodicaprio travel world tackl climat chang http co lkdehj3tnn httã\n"
     ]
    }
   ],
   "source": [
    "print(f\"Sample sentence #1:\\n{stemmedLi[0]}\")\n",
    "print(f\"Sample sentence #2:\\n{stemmedLi[1]}\")"
   ]
  },
  {
   "cell_type": "markdown",
   "id": "defff9e9",
   "metadata": {
    "papermill": {
     "duration": 0.089387,
     "end_time": "2022-04-19T20:10:42.380276",
     "exception": false,
     "start_time": "2022-04-19T20:10:42.290889",
     "status": "completed"
    },
    "tags": []
   },
   "source": [
    "Notice these 2 sentences have a couple of words in common - \"climat\", \"chang\"\n"
   ]
  },
  {
   "cell_type": "code",
   "execution_count": 261,
   "id": "21834773",
   "metadata": {
    "execution": {
     "iopub.execute_input": "2022-04-19T20:10:42.563135Z",
     "iopub.status.busy": "2022-04-19T20:10:42.562618Z",
     "iopub.status.idle": "2022-04-19T20:10:42.571082Z",
     "shell.execute_reply": "2022-04-19T20:10:42.571591Z",
     "shell.execute_reply.started": "2022-04-07T04:47:13.136046Z"
    },
    "papermill": {
     "duration": 0.101549,
     "end_time": "2022-04-19T20:10:42.571748",
     "exception": false,
     "start_time": "2022-04-19T20:10:42.470199",
     "status": "completed"
    },
    "tags": []
   },
   "outputs": [
    {
     "name": "stdout",
     "output_type": "stream",
     "text": [
      "\n",
      "#1 after vectorization:\n",
      "<Compressed Sparse Row sparse matrix of dtype 'int64'\n",
      "\twith 12 stored elements and shape (1, 54331)>\n",
      "  Coords\tValues\n",
      "  (0, 8170)\t1\n",
      "  (0, 10062)\t1\n",
      "  (0, 10801)\t1\n",
      "  (0, 19704)\t1\n",
      "  (0, 22345)\t1\n",
      "  (0, 23653)\t1\n",
      "  (0, 36745)\t1\n",
      "  (0, 44393)\t1\n",
      "  (0, 44948)\t1\n",
      "  (0, 46697)\t1\n",
      "  (0, 50288)\t1\n",
      "  (0, 52533)\t1\n",
      "#2 after vectorization:\n",
      "<Compressed Sparse Row sparse matrix of dtype 'int64'\n",
      "\twith 15 stored elements and shape (1, 54331)>\n",
      "  Coords\tValues\n",
      "  (0, 7109)\t1\n",
      "  (0, 10062)\t1\n",
      "  (0, 10801)\t1\n",
      "  (0, 11188)\t1\n",
      "  (0, 22189)\t1\n",
      "  (0, 22197)\t1\n",
      "  (0, 28183)\t1\n",
      "  (0, 28688)\t1\n",
      "  (0, 32626)\t1\n",
      "  (0, 40094)\t1\n",
      "  (0, 40752)\t1\n",
      "  (0, 45292)\t1\n",
      "  (0, 47234)\t1\n",
      "  (0, 50354)\t1\n",
      "  (0, 51349)\t1\n"
     ]
    }
   ],
   "source": [
    "print(f\"\\n#1 after vectorization:\\n{vectorizedTweets[0]}\")\n",
    "print(f\"#2 after vectorization:\\n{vectorizedTweets[1]}\")"
   ]
  },
  {
   "cell_type": "markdown",
   "id": "0187c46e",
   "metadata": {
    "papermill": {
     "duration": 0.089181,
     "end_time": "2022-04-19T20:10:42.754284",
     "exception": false,
     "start_time": "2022-04-19T20:10:42.665103",
     "status": "completed"
    },
    "tags": []
   },
   "source": [
    "The prints above show the results of 2 sample sentences after being ve. Each vector signifies a unique word in all tweets. For example, we already know they have 2 words in common; therefore, we can see 2 sets of vectors appearing in both sentences - **(0, 12943)** and **(0, 13774)** - which are representations of \"climat\" and \"chang\" respectively.\n"
   ]
  },
  {
   "cell_type": "code",
   "execution_count": 262,
   "id": "282cc9f7",
   "metadata": {
    "execution": {
     "iopub.execute_input": "2022-04-19T20:10:42.937557Z",
     "iopub.status.busy": "2022-04-19T20:10:42.936883Z",
     "iopub.status.idle": "2022-04-19T20:10:42.942353Z",
     "shell.execute_reply": "2022-04-19T20:10:42.942741Z",
     "shell.execute_reply.started": "2022-04-07T04:47:13.150902Z"
    },
    "papermill": {
     "duration": 0.097991,
     "end_time": "2022-04-19T20:10:42.942891",
     "exception": false,
     "start_time": "2022-04-19T20:10:42.844900",
     "status": "completed"
    },
    "tags": []
   },
   "outputs": [
    {
     "data": {
      "text/plain": [
       "(31962, 54331)"
      ]
     },
     "execution_count": 262,
     "metadata": {},
     "output_type": "execute_result"
    }
   ],
   "source": [
    "vectorizedTweets.shape"
   ]
  },
  {
   "cell_type": "code",
   "execution_count": null,
   "id": "a6243a6f",
   "metadata": {},
   "outputs": [],
   "source": []
  },
  {
   "cell_type": "markdown",
   "id": "f0f4811c",
   "metadata": {
    "papermill": {
     "duration": 0.089542,
     "end_time": "2022-04-19T20:10:43.123820",
     "exception": false,
     "start_time": "2022-04-19T20:10:43.034278",
     "status": "completed"
    },
    "tags": []
   },
   "source": [
    "Based on the column size of our vectorized data, we can see there were 67195 unique words (no stop words, stemmed) in 43943 tweets in the dataset.\n"
   ]
  },
  {
   "cell_type": "markdown",
   "id": "68f2763f",
   "metadata": {
    "papermill": {
     "duration": 0.100477,
     "end_time": "2022-04-19T20:10:48.962124",
     "exception": false,
     "start_time": "2022-04-19T20:10:48.861647",
     "status": "completed"
    },
    "tags": []
   },
   "source": [
    "## Unigram & Bigram Vectorization\n",
    "\n",
    "The analysis focuses on unigram (single words) and unigram+bigram (1-2 word combinations) to find the most meaningful patterns for sentiment analysis while maintaining computational efficiency.\n"
   ]
  },
  {
   "cell_type": "markdown",
   "id": "eb48b7d5",
   "metadata": {
    "papermill": {
     "duration": 0.108717,
     "end_time": "2022-04-19T20:10:54.440213",
     "exception": false,
     "start_time": "2022-04-19T20:10:54.331496",
     "status": "completed"
    },
    "tags": []
   },
   "source": [
    "# Model Development\n",
    "\n",
    "Various models will be built to predict the sentiment of tweets pertaining to climate change.\n"
   ]
  },
  {
   "cell_type": "code",
   "execution_count": 263,
   "id": "27cb1528",
   "metadata": {
    "execution": {
     "iopub.execute_input": "2022-04-19T20:10:54.667484Z",
     "iopub.status.busy": "2022-04-19T20:10:54.660859Z",
     "iopub.status.idle": "2022-04-19T20:10:54.669081Z",
     "shell.execute_reply": "2022-04-19T20:10:54.669476Z",
     "shell.execute_reply.started": "2022-04-07T05:37:26.603414Z"
    },
    "papermill": {
     "duration": 0.121105,
     "end_time": "2022-04-19T20:10:54.669639",
     "exception": false,
     "start_time": "2022-04-19T20:10:54.548534",
     "status": "completed"
    },
    "tags": []
   },
   "outputs": [],
   "source": [
    "def evaluateModel(model, X_test, y_test, title):\n",
    "    \"\"\"\n",
    "    print out classification scores\n",
    "    :param model: used model\n",
    "    :param X_test:\n",
    "    :param y_test:\n",
    "    :param title: title of the model\n",
    "    \"\"\"\n",
    "    print(\"\\n*** \" + title + \" ***\")\n",
    "    predictions = model.predict(X_test)\n",
    "    accuracy = metrics.accuracy_score(y_test, predictions)\n",
    "    recall = metrics.recall_score(y_test, predictions, average=\"weighted\")\n",
    "    precision = metrics.precision_score(y_test, predictions, average=\"weighted\")\n",
    "    f1 = metrics.f1_score(y_test, predictions, average=\"weighted\")\n",
    "\n",
    "    clsScoreDict = {\n",
    "        \"accuracy\": accuracy,\n",
    "        \"recall\": recall,\n",
    "        \"precision\": precision,\n",
    "        \"f1\": f1,\n",
    "    }\n",
    "\n",
    "    print(\"Accuracy:  \" + str(accuracy))\n",
    "    print(\"Precision: \" + str(precision))\n",
    "    print(\"Recall:    \" + str(recall))\n",
    "    print(\"F1:        \" + str(f1))\n",
    "    print(\"\\n\\n\")\n",
    "\n",
    "    return clsScoreDict"
   ]
  },
  {
   "cell_type": "code",
   "execution_count": 264,
   "id": "e402ced2",
   "metadata": {
    "execution": {
     "iopub.execute_input": "2022-04-19T20:10:54.904570Z",
     "iopub.status.busy": "2022-04-19T20:10:54.903872Z",
     "iopub.status.idle": "2022-04-19T20:10:54.905678Z",
     "shell.execute_reply": "2022-04-19T20:10:54.906192Z",
     "shell.execute_reply.started": "2022-04-07T05:37:35.848965Z"
    },
    "papermill": {
     "duration": 0.124212,
     "end_time": "2022-04-19T20:10:54.906355",
     "exception": false,
     "start_time": "2022-04-19T20:10:54.782143",
     "status": "completed"
    },
    "tags": []
   },
   "outputs": [],
   "source": [
    "def modelAndPredict(X, target, model):\n",
    "    \"\"\"\n",
    "    Build model and predict scores.\n",
    "\n",
    "    :param X: X contains the stemmed and vectorized sentences.\n",
    "    :param target: the sentiment rating\n",
    "    :param model: selected model\n",
    "    :return: X_test, y_test, and y_predicted values.\n",
    "    \"\"\"\n",
    "\n",
    "    modelType = model.__class__.__name__\n",
    "    \n",
    "    # Create training set with 80% of data and test set with 20% of data.\n",
    "    X_train, X_test, y_train, y_test = train_test_split(X, target, train_size=0.8, random_state=42)\n",
    "    \n",
    "    print(f\"Test set shape: X_test={X_test.shape}, y_test={len(y_test)}\")\n",
    "\n",
    "    # Apply oversampling to handle class imbalance.\n",
    "    X_train_res, y_train_res = oversampleTrainingData(X_train, y_train)\n",
    "\n",
    "    # Build the model with the resampled training data.\n",
    "    clfModel = model.fit(X_train_res, y_train_res)\n",
    "    clsScoreDict = evaluateModel(clfModel, X_test, y_test, modelType)\n",
    "\n",
    "    # Predict target values.\n",
    "    y_prediction = model.predict(X_test)\n",
    "\n",
    "    return X_test, y_test, y_prediction, clsScoreDict\n"
   ]
  },
  {
   "cell_type": "markdown",
   "id": "1a0951d6",
   "metadata": {},
   "source": [
    "### Oversampling Function\n",
    "\n",
    "The `oversampleTrainingData` function handles class imbalance by using SMOTE (Synthetic Minority Oversampling Technique) via `RandomOverSampler`. This creates synthetic samples for minority classes to balance the training dataset, which can improve model performance on imbalanced datasets.\n"
   ]
  },
  {
   "cell_type": "code",
   "execution_count": 265,
   "id": "466b66c6",
   "metadata": {},
   "outputs": [],
   "source": [
    "def oversampleTrainingData(X_train, y_train, random_state=42):\n",
    "    \"\"\"\n",
    "    Apply oversampling to training data to handle class imbalance.\n",
    "    \n",
    "    :param X_train: Training features\n",
    "    :param y_train: Training target labels\n",
    "    :param random_state: Random state for reproducibility\n",
    "    :return: Resampled training features and labels\n",
    "    \"\"\"\n",
    "    oversampler = RandomOverSampler(random_state=random_state)\n",
    "    X_train_res, y_train_res = oversampler.fit_resample(X_train, y_train)\n",
    "    \n",
    "    print(f\"Original training set shape: X_train={X_train.shape}, y_train={len(y_train)}\")\n",
    "    print(f\"Resampled training set shape: X_train_res={X_train_res.shape}, y_train_res={len(y_train_res)}\")\n",
    "    \n",
    "    return X_train_res, y_train_res"
   ]
  },
  {
   "cell_type": "code",
   "execution_count": 266,
   "id": "e35dfb55",
   "metadata": {
    "execution": {
     "iopub.execute_input": "2022-04-19T20:10:55.136570Z",
     "iopub.status.busy": "2022-04-19T20:10:55.135985Z",
     "iopub.status.idle": "2022-04-19T20:10:55.138928Z",
     "shell.execute_reply": "2022-04-19T20:10:55.139392Z",
     "shell.execute_reply.started": "2022-04-07T04:47:18.836088Z"
    },
    "papermill": {
     "duration": 0.122044,
     "end_time": "2022-04-19T20:10:55.139543",
     "exception": false,
     "start_time": "2022-04-19T20:10:55.017499",
     "status": "completed"
    },
    "tags": []
   },
   "outputs": [],
   "source": [
    "def showFormattedConfusionMatrix(y_test, y_predicted):\n",
    "    \"\"\"\n",
    "    Draw the confusion matrix.\n",
    "    :param y_test\n",
    "    :param y_predicted\n",
    "    :return:\n",
    "    \"\"\"\n",
    "    # print a simple confusion matrix\n",
    "    cm = metrics.confusion_matrix(y_test.values, y_predicted)\n",
    "    print(cm)\n",
    "\n",
    "    # Show confusion matrix with colored background.\n",
    "    Index = [\n",
    "        \"Actual -1\",\n",
    "        \"Actual 0\",\n",
    "        \"Actual 1\",\n",
    "        #  'Actual 2',\n",
    "    ]\n",
    "    Cols = [\n",
    "        \"Pred -1\",\n",
    "        \"Pred 0\",\n",
    "        \"Pred 1\",\n",
    "        # 'Pred 2'\n",
    "    ]\n",
    "    df = pd.DataFrame(cm, index=Index, columns=Cols)\n",
    "    plt.figure(figsize=(4, 4))\n",
    "\n",
    "    ax = sns.heatmap(df, cmap=\"Blues\", annot=True, fmt=\"g\")\n",
    "    bottom, top = ax.get_ylim()\n",
    "    ax.set(title=\"Climate Change Sentiment\")\n",
    "    ax.set_ylim(bottom + 0.5, top - 0.5)\n",
    "    ax.set_xticklabels(ax.get_xticklabels(), rotation=30, horizontalalignment=\"right\")\n",
    "    ax.set_yticklabels(ax.get_yticklabels(), rotation=0, horizontalalignment=\"right\")"
   ]
  },
  {
   "cell_type": "code",
   "execution_count": 267,
   "id": "15e926bd",
   "metadata": {},
   "outputs": [],
   "source": [
    "# unigram & bi-gram vectorization\n",
    "NGRAM_RANGE_START = 1\n",
    "NGRAM_RANGE_END = 2\n",
    "\n",
    "vectorizedTweets12, vectorDictionary12 = vectorizeList(\n",
    "    stemmedLi, NGRAM_RANGE_START, NGRAM_RANGE_END\n",
    ")"
   ]
  },
  {
   "cell_type": "markdown",
   "id": "e2658b5e",
   "metadata": {
    "papermill": {
     "duration": 0.111475,
     "end_time": "2022-04-19T20:11:09.650717",
     "exception": false,
     "start_time": "2022-04-19T20:11:09.539242",
     "status": "completed"
    },
    "tags": []
   },
   "source": [
    "## 1. Logistic Regression\n"
   ]
  },
  {
   "cell_type": "code",
   "execution_count": 268,
   "id": "eea55ee5",
   "metadata": {
    "execution": {
     "iopub.execute_input": "2022-04-19T20:11:09.875146Z",
     "iopub.status.busy": "2022-04-19T20:11:09.874430Z",
     "iopub.status.idle": "2022-04-19T20:11:09.877282Z",
     "shell.execute_reply": "2022-04-19T20:11:09.877663Z",
     "shell.execute_reply.started": "2022-04-07T04:47:32.28648Z"
    },
    "papermill": {
     "duration": 0.116517,
     "end_time": "2022-04-19T20:11:09.877835",
     "exception": false,
     "start_time": "2022-04-19T20:11:09.761318",
     "status": "completed"
    },
    "tags": []
   },
   "outputs": [],
   "source": [
    "model = LogisticRegression(\n",
    "    random_state=42,\n",
    ")"
   ]
  },
  {
   "cell_type": "code",
   "execution_count": 269,
   "id": "f5efc44b",
   "metadata": {
    "execution": {
     "iopub.execute_input": "2022-04-19T20:11:10.104274Z",
     "iopub.status.busy": "2022-04-19T20:11:10.103633Z",
     "iopub.status.idle": "2022-04-19T20:11:18.820246Z",
     "shell.execute_reply": "2022-04-19T20:11:18.819596Z",
     "shell.execute_reply.started": "2022-04-07T04:47:32.293661Z"
    },
    "papermill": {
     "duration": 8.831145,
     "end_time": "2022-04-19T20:11:18.820421",
     "exception": false,
     "start_time": "2022-04-19T20:11:09.989276",
     "status": "completed"
    },
    "tags": []
   },
   "outputs": [
    {
     "name": "stdout",
     "output_type": "stream",
     "text": [
      "Test set shape: X_test=(6393, 54331), y_test=6393\n",
      "Original training set shape: X_train=(25569, 54331), y_train=25569\n",
      "Resampled training set shape: X_train_res=(49362, 54331), y_train_res=49362\n",
      "\n",
      "*** LogisticRegression ***\n",
      "Accuracy:  0.7541060534960112\n",
      "Precision: 0.7576762339585478\n",
      "Recall:    0.7541060534960112\n",
      "F1:        0.7557060473063105\n",
      "\n",
      "\n",
      "\n",
      "[[ 488  148  130]\n",
      " [ 114  876  490]\n",
      " [ 140  550 3457]]\n",
      "\n",
      "*** LogisticRegression ***\n",
      "Accuracy:  0.7541060534960112\n",
      "Precision: 0.7576762339585478\n",
      "Recall:    0.7541060534960112\n",
      "F1:        0.7557060473063105\n",
      "\n",
      "\n",
      "\n",
      "[[ 488  148  130]\n",
      " [ 114  876  490]\n",
      " [ 140  550 3457]]\n"
     ]
    },
    {
     "name": "stderr",
     "output_type": "stream",
     "text": [
      "/Library/Frameworks/Python.framework/Versions/3.13/lib/python3.13/site-packages/sklearn/linear_model/_logistic.py:473: ConvergenceWarning: lbfgs failed to converge after 100 iteration(s) (status=1):\n",
      "STOP: TOTAL NO. OF ITERATIONS REACHED LIMIT\n",
      "\n",
      "Increase the number of iterations to improve the convergence (max_iter=100).\n",
      "You might also want to scale the data as shown in:\n",
      "    https://scikit-learn.org/stable/modules/preprocessing.html\n",
      "Please also refer to the documentation for alternative solver options:\n",
      "    https://scikit-learn.org/stable/modules/linear_model.html#logistic-regression\n",
      "  n_iter_i = _check_optimize_result(\n"
     ]
    },
    {
     "data": {
      "image/png": "[encoded data removed]",
      "text/plain": [
       "<Figure size 400x400 with 2 Axes>"
      ]
     },
     "metadata": {},
     "output_type": "display_data"
    }
   ],
   "source": [
    "X_test, y_test, y_predicted, lrScoreDict = modelAndPredict(\n",
    "    vectorizedTweets, df[\"sentiment\"], model\n",
    ")\n",
    "showFormattedConfusionMatrix(y_test, y_predicted)"
   ]
  },
  {
   "cell_type": "markdown",
   "id": "8aea33bd",
   "metadata": {},
   "source": [
    "### Unigram & Bigram Combined Logistic Regression\n"
   ]
  },
  {
   "cell_type": "code",
   "execution_count": 270,
   "id": "d3b264c3",
   "metadata": {},
   "outputs": [
    {
     "name": "stdout",
     "output_type": "stream",
     "text": [
      "Test set shape: X_test=(6393, 263499), y_test=6393\n",
      "Original training set shape: X_train=(25569, 263499), y_train=25569\n",
      "Resampled training set shape: X_train_res=(49362, 263499), y_train_res=49362\n",
      "\n",
      "*** LogisticRegression ***\n",
      "Accuracy:  0.7786641639292977\n",
      "Precision: 0.7730517116593588\n",
      "Recall:    0.7786641639292977\n",
      "F1:        0.7748631453090075\n",
      "\n",
      "\n",
      "\n",
      "[[ 473  136  157]\n",
      " [  92  846  542]\n",
      " [  91  397 3659]]\n",
      "\n",
      "*** LogisticRegression ***\n",
      "Accuracy:  0.7786641639292977\n",
      "Precision: 0.7730517116593588\n",
      "Recall:    0.7786641639292977\n",
      "F1:        0.7748631453090075\n",
      "\n",
      "\n",
      "\n",
      "[[ 473  136  157]\n",
      " [  92  846  542]\n",
      " [  91  397 3659]]\n"
     ]
    },
    {
     "name": "stderr",
     "output_type": "stream",
     "text": [
      "/Library/Frameworks/Python.framework/Versions/3.13/lib/python3.13/site-packages/sklearn/linear_model/_logistic.py:473: ConvergenceWarning: lbfgs failed to converge after 100 iteration(s) (status=1):\n",
      "STOP: TOTAL NO. OF ITERATIONS REACHED LIMIT\n",
      "\n",
      "Increase the number of iterations to improve the convergence (max_iter=100).\n",
      "You might also want to scale the data as shown in:\n",
      "    https://scikit-learn.org/stable/modules/preprocessing.html\n",
      "Please also refer to the documentation for alternative solver options:\n",
      "    https://scikit-learn.org/stable/modules/linear_model.html#logistic-regression\n",
      "  n_iter_i = _check_optimize_result(\n"
     ]
    },
    {
     "data": {
      "image/png": "[encoded data removed]",
      "text/plain": [
       "<Figure size 400x400 with 2 Axes>"
      ]
     },
     "metadata": {},
     "output_type": "display_data"
    }
   ],
   "source": [
    "X_test, y_test, y_predicted, lrScoreDict12 = modelAndPredict(\n",
    "    vectorizedTweets12, df[\"sentiment\"], model\n",
    ")\n",
    "showFormattedConfusionMatrix(y_test, y_predicted)"
   ]
  },
  {
   "cell_type": "markdown",
   "id": "b35ca2a2",
   "metadata": {
    "papermill": {
     "duration": 0.118034,
     "end_time": "2022-04-19T20:12:38.295674",
     "exception": false,
     "start_time": "2022-04-19T20:12:38.177640",
     "status": "completed"
    },
    "tags": []
   },
   "source": [
    "### N-gram Comparisons\n",
    "\n",
    "We have built different vectorized sentences using different ranges of N-grams (1, 2, 3, 1-2 combined, and 2 to 3). Each of them was fed to a logistic regression model and evaluated based on classification scores such as accuracy, precision, recall and F1. In this section, we will compare all the scores and see what N-gram has worked the best.\n"
   ]
  },
  {
   "cell_type": "code",
   "execution_count": 271,
   "id": "8204184b",
   "metadata": {
    "execution": {
     "iopub.execute_input": "2022-04-19T20:12:38.540878Z",
     "iopub.status.busy": "2022-04-19T20:12:38.540257Z",
     "iopub.status.idle": "2022-04-19T20:12:38.551839Z",
     "shell.execute_reply": "2022-04-19T20:12:38.552305Z",
     "shell.execute_reply.started": "2022-04-07T04:49:47.590644Z"
    },
    "papermill": {
     "duration": 0.139776,
     "end_time": "2022-04-19T20:12:38.552461",
     "exception": false,
     "start_time": "2022-04-19T20:12:38.412685",
     "status": "completed"
    },
    "tags": []
   },
   "outputs": [
    {
     "data": {
      "text/html": [
       "<div>\n",
       "<style scoped>\n",
       "    .dataframe tbody tr th:only-of-type {\n",
       "        vertical-align: middle;\n",
       "    }\n",
       "\n",
       "    .dataframe tbody tr th {\n",
       "        vertical-align: top;\n",
       "    }\n",
       "\n",
       "    .dataframe thead th {\n",
       "        text-align: right;\n",
       "    }\n",
       "</style>\n",
       "<table border=\"1\" class=\"dataframe\">\n",
       "  <thead>\n",
       "    <tr style=\"text-align: right;\">\n",
       "      <th></th>\n",
       "      <th>accuracy</th>\n",
       "      <th>recall</th>\n",
       "      <th>precision</th>\n",
       "      <th>f1</th>\n",
       "    </tr>\n",
       "  </thead>\n",
       "  <tbody>\n",
       "    <tr>\n",
       "      <th>Unigram</th>\n",
       "      <td>0.754106</td>\n",
       "      <td>0.754106</td>\n",
       "      <td>0.757676</td>\n",
       "      <td>0.755706</td>\n",
       "    </tr>\n",
       "    <tr>\n",
       "      <th>Unigram &amp; Bi-gram</th>\n",
       "      <td>0.778664</td>\n",
       "      <td>0.778664</td>\n",
       "      <td>0.773052</td>\n",
       "      <td>0.774863</td>\n",
       "    </tr>\n",
       "  </tbody>\n",
       "</table>\n",
       "</div>"
      ],
      "text/plain": [
       "                   accuracy    recall  precision        f1\n",
       "Unigram            0.754106  0.754106   0.757676  0.755706\n",
       "Unigram & Bi-gram  0.778664  0.778664   0.773052  0.774863"
      ]
     },
     "execution_count": 271,
     "metadata": {},
     "output_type": "execute_result"
    }
   ],
   "source": [
    "lsScoreDf = pd.DataFrame(lrScoreDict, index=[\"Unigram\"])\n",
    "lsScoreDf12 = pd.DataFrame(lrScoreDict12, index=[\"Unigram & Bi-gram\"])\n",
    "\n",
    "lsScoreComparisonDf = pd.concat([lsScoreDf, lsScoreDf12])\n",
    "lsScoreComparisonDf"
   ]
  },
  {
   "cell_type": "markdown",
   "id": "eebeb33e",
   "metadata": {
    "papermill": {
     "duration": 0.121542,
     "end_time": "2022-04-19T20:12:38.794408",
     "exception": false,
     "start_time": "2022-04-19T20:12:38.672866",
     "status": "completed"
    },
    "tags": []
   },
   "source": [
    "Logistic regression has worked the best when no N-gram was used to vectorize the sentences. Let's see if we can improve the model even further using different classification models.\n"
   ]
  },
  {
   "cell_type": "markdown",
   "id": "46b34175",
   "metadata": {
    "papermill": {
     "duration": 0.119874,
     "end_time": "2022-04-19T20:12:43.208972",
     "exception": false,
     "start_time": "2022-04-19T20:12:43.089098",
     "status": "completed"
    },
    "tags": []
   },
   "source": [
    "## 2. Random Forest Classifier\n"
   ]
  },
  {
   "cell_type": "code",
   "execution_count": 272,
   "id": "5df50083",
   "metadata": {
    "execution": {
     "iopub.execute_input": "2022-04-19T20:12:43.452450Z",
     "iopub.status.busy": "2022-04-19T20:12:43.451624Z",
     "iopub.status.idle": "2022-04-19T20:12:43.454922Z",
     "shell.execute_reply": "2022-04-19T20:12:43.455388Z",
     "shell.execute_reply.started": "2022-04-07T04:53:54.612278Z"
    },
    "papermill": {
     "duration": 0.126323,
     "end_time": "2022-04-19T20:12:43.455549",
     "exception": false,
     "start_time": "2022-04-19T20:12:43.329226",
     "status": "completed"
    },
    "tags": []
   },
   "outputs": [],
   "source": [
    "model = RandomForestClassifier(random_state=42)"
   ]
  },
  {
   "cell_type": "code",
   "execution_count": 273,
   "id": "2e423951",
   "metadata": {
    "execution": {
     "iopub.execute_input": "2022-04-19T20:12:43.700976Z",
     "iopub.status.busy": "2022-04-19T20:12:43.700257Z",
     "iopub.status.idle": "2022-04-19T20:16:01.573517Z",
     "shell.execute_reply": "2022-04-19T20:16:01.574061Z",
     "shell.execute_reply.started": "2022-04-07T04:53:54.66917Z"
    },
    "papermill": {
     "duration": 197.998003,
     "end_time": "2022-04-19T20:16:01.574297",
     "exception": false,
     "start_time": "2022-04-19T20:12:43.576294",
     "status": "completed"
    },
    "tags": []
   },
   "outputs": [
    {
     "name": "stdout",
     "output_type": "stream",
     "text": [
      "Test set shape: X_test=(6393, 54331), y_test=6393\n",
      "Original training set shape: X_train=(25569, 54331), y_train=25569\n",
      "Resampled training set shape: X_train_res=(49362, 54331), y_train_res=49362\n",
      "\n",
      "*** RandomForestClassifier ***\n",
      "\n",
      "*** RandomForestClassifier ***\n",
      "Accuracy:  0.7514468950414516\n",
      "Precision: 0.7452361827906173\n",
      "Recall:    0.7514468950414516\n",
      "F1:        0.7410343007589106\n",
      "\n",
      "\n",
      "\n",
      "Accuracy:  0.7514468950414516\n",
      "Precision: 0.7452361827906173\n",
      "Recall:    0.7514468950414516\n",
      "F1:        0.7410343007589106\n",
      "\n",
      "\n",
      "\n",
      "[[ 330  169  267]\n",
      " [  61  780  639]\n",
      " [  40  413 3694]]\n",
      "[[ 330  169  267]\n",
      " [  61  780  639]\n",
      " [  40  413 3694]]\n"
     ]
    },
    {
     "data": {
      "image/png": "[encoded data removed]",
      "text/plain": [
       "<Figure size 400x400 with 2 Axes>"
      ]
     },
     "metadata": {},
     "output_type": "display_data"
    }
   ],
   "source": [
    "X_test, y_test, y_predicted, rfScoreDict = modelAndPredict(\n",
    "    vectorizedTweets, df[\"sentiment\"], model\n",
    ")\n",
    "showFormattedConfusionMatrix(y_test, y_predicted)"
   ]
  },
  {
   "cell_type": "markdown",
   "id": "3e0dd619",
   "metadata": {
    "papermill": {
     "duration": 0.193936,
     "end_time": "2022-04-19T20:22:41.947714",
     "exception": false,
     "start_time": "2022-04-19T20:22:41.753778",
     "status": "completed"
    },
    "tags": []
   },
   "source": [
    "## 3. Multinomial Naive Bayes\n"
   ]
  },
  {
   "cell_type": "code",
   "execution_count": 274,
   "id": "85272339",
   "metadata": {
    "execution": {
     "iopub.execute_input": "2022-04-19T20:22:42.344697Z",
     "iopub.status.busy": "2022-04-19T20:22:42.343884Z",
     "iopub.status.idle": "2022-04-19T20:22:42.360338Z",
     "shell.execute_reply": "2022-04-19T20:22:42.360983Z",
     "shell.execute_reply.started": "2022-04-07T05:05:15.190148Z"
    },
    "papermill": {
     "duration": 0.2257,
     "end_time": "2022-04-19T20:22:42.361215",
     "exception": false,
     "start_time": "2022-04-19T20:22:42.135515",
     "status": "completed"
    },
    "tags": []
   },
   "outputs": [],
   "source": [
    "model = MultinomialNB()"
   ]
  },
  {
   "cell_type": "code",
   "execution_count": 275,
   "id": "5b663017",
   "metadata": {
    "execution": {
     "iopub.execute_input": "2022-04-19T20:22:42.766345Z",
     "iopub.status.busy": "2022-04-19T20:22:42.765632Z",
     "iopub.status.idle": "2022-04-19T20:23:18.188310Z",
     "shell.execute_reply": "2022-04-19T20:23:18.187594Z",
     "shell.execute_reply.started": "2022-04-07T05:05:15.20251Z"
    },
    "papermill": {
     "duration": 35.616263,
     "end_time": "2022-04-19T20:23:18.188567",
     "exception": false,
     "start_time": "2022-04-19T20:22:42.572304",
     "status": "completed"
    },
    "tags": []
   },
   "outputs": [
    {
     "name": "stdout",
     "output_type": "stream",
     "text": [
      "Test set shape: X_test=(6393, 54331), y_test=6393\n",
      "Original training set shape: X_train=(25569, 54331), y_train=25569\n",
      "Resampled training set shape: X_train_res=(49362, 54331), y_train_res=49362\n",
      "\n",
      "*** MultinomialNB ***\n",
      "Accuracy:  0.7193805725011732\n",
      "Precision: 0.7339457465532707\n",
      "Recall:    0.7193805725011732\n",
      "F1:        0.7206508719551667\n",
      "\n",
      "\n",
      "\n",
      "[[ 575   91  100]\n",
      " [ 308  654  518]\n",
      " [ 361  416 3370]]\n"
     ]
    },
    {
     "data": {
      "image/png": "[encoded data removed]",
      "text/plain": [
       "<Figure size 400x400 with 2 Axes>"
      ]
     },
     "metadata": {},
     "output_type": "display_data"
    }
   ],
   "source": [
    "X_test, y_test, y_predicted, nbScoreDict = modelAndPredict(\n",
    "    vectorizedTweets, df[\"sentiment\"], model\n",
    ")\n",
    "showFormattedConfusionMatrix(y_test, y_predicted)"
   ]
  },
  {
   "cell_type": "markdown",
   "id": "80692672",
   "metadata": {},
   "source": [
    "### Unigram & Bigram Combined Multinomial Naive Bayes\n"
   ]
  },
  {
   "cell_type": "code",
   "execution_count": 276,
   "id": "f43b7eca",
   "metadata": {},
   "outputs": [
    {
     "name": "stdout",
     "output_type": "stream",
     "text": [
      "Test set shape: X_test=(6393, 263499), y_test=6393\n",
      "Original training set shape: X_train=(25569, 263499), y_train=25569\n",
      "Resampled training set shape: X_train_res=(49362, 263499), y_train_res=49362\n",
      "\n",
      "*** MultinomialNB ***\n",
      "Accuracy:  0.7439386829344595\n",
      "Precision: 0.7476699197782319\n",
      "Recall:    0.7439386829344595\n",
      "F1:        0.7423579268818761\n",
      "\n",
      "\n",
      "\n",
      "[[ 559   87  120]\n",
      " [ 260  703  517]\n",
      " [ 249  404 3494]]\n"
     ]
    },
    {
     "data": {
      "image/png": "[encoded data removed]",
      "text/plain": [
       "<Figure size 400x400 with 2 Axes>"
      ]
     },
     "metadata": {},
     "output_type": "display_data"
    }
   ],
   "source": [
    "X_test, y_test, y_predicted, nbScoreDict12 = modelAndPredict(\n",
    "    vectorizedTweets12, df[\"sentiment\"], model\n",
    ")\n",
    "showFormattedConfusionMatrix(y_test, y_predicted)"
   ]
  },
  {
   "cell_type": "markdown",
   "id": "89dde506",
   "metadata": {
    "papermill": {
     "duration": 0.136456,
     "end_time": "2022-04-19T20:29:40.418831",
     "exception": false,
     "start_time": "2022-04-19T20:29:40.282375",
     "status": "completed"
    },
    "tags": []
   },
   "source": [
    "## 4. Ridge Classifier\n"
   ]
  },
  {
   "cell_type": "code",
   "execution_count": 277,
   "id": "30fa4d2a",
   "metadata": {
    "execution": {
     "iopub.execute_input": "2022-04-19T20:29:40.760108Z",
     "iopub.status.busy": "2022-04-19T20:29:40.759261Z",
     "iopub.status.idle": "2022-04-19T20:29:40.763169Z",
     "shell.execute_reply": "2022-04-19T20:29:40.762424Z",
     "shell.execute_reply.started": "2022-04-07T05:14:14.987735Z"
    },
    "papermill": {
     "duration": 0.216278,
     "end_time": "2022-04-19T20:29:40.763395",
     "exception": false,
     "start_time": "2022-04-19T20:29:40.547117",
     "status": "completed"
    },
    "tags": []
   },
   "outputs": [],
   "source": [
    "model = RidgeClassifier(random_state=42)"
   ]
  },
  {
   "cell_type": "code",
   "execution_count": 278,
   "id": "d4b5d30a",
   "metadata": {
    "execution": {
     "iopub.execute_input": "2022-04-19T20:29:41.153720Z",
     "iopub.status.busy": "2022-04-19T20:29:41.152835Z",
     "iopub.status.idle": "2022-04-19T20:29:47.265249Z",
     "shell.execute_reply": "2022-04-19T20:29:47.265654Z",
     "shell.execute_reply.started": "2022-04-07T05:14:14.993418Z"
    },
    "papermill": {
     "duration": 6.310919,
     "end_time": "2022-04-19T20:29:47.265808",
     "exception": false,
     "start_time": "2022-04-19T20:29:40.954889",
     "status": "completed"
    },
    "tags": []
   },
   "outputs": [
    {
     "name": "stdout",
     "output_type": "stream",
     "text": [
      "Test set shape: X_test=(6393, 54331), y_test=6393\n",
      "Original training set shape: X_train=(25569, 54331), y_train=25569\n",
      "Resampled training set shape: X_train_res=(49362, 54331), y_train_res=49362\n",
      "\n",
      "*** RidgeClassifier ***\n",
      "Accuracy:  0.7387767871109026\n",
      "Precision: 0.7342718852996116\n",
      "Recall:    0.7387767871109026\n",
      "F1:        0.7356158576750703\n",
      "\n",
      "\n",
      "\n",
      "[[ 417  160  189]\n",
      " [ 113  776  591]\n",
      " [  99  518 3530]]\n",
      "\n",
      "*** RidgeClassifier ***\n",
      "Accuracy:  0.7387767871109026\n",
      "Precision: 0.7342718852996116\n",
      "Recall:    0.7387767871109026\n",
      "F1:        0.7356158576750703\n",
      "\n",
      "\n",
      "\n",
      "[[ 417  160  189]\n",
      " [ 113  776  591]\n",
      " [  99  518 3530]]\n"
     ]
    },
    {
     "data": {
      "image/png": "[encoded data removed]",
      "text/plain": [
       "<Figure size 400x400 with 2 Axes>"
      ]
     },
     "metadata": {},
     "output_type": "display_data"
    }
   ],
   "source": [
    "X_test, y_test, y_predicted, ridgeScoreDict = modelAndPredict(\n",
    "    vectorizedTweets, df[\"sentiment\"], model\n",
    ")\n",
    "showFormattedConfusionMatrix(y_test, y_predicted)"
   ]
  },
  {
   "cell_type": "markdown",
   "id": "5d2ccf76",
   "metadata": {},
   "source": [
    "### Unigram & Bigram Combined Ridge Classifier\n"
   ]
  },
  {
   "cell_type": "code",
   "execution_count": 279,
   "id": "25192ce3",
   "metadata": {},
   "outputs": [
    {
     "name": "stdout",
     "output_type": "stream",
     "text": [
      "Test set shape: X_test=(6393, 263499), y_test=6393\n",
      "Original training set shape: X_train=(25569, 263499), y_train=25569\n",
      "Resampled training set shape: X_train_res=(49362, 263499), y_train_res=49362\n",
      "\n",
      "*** RidgeClassifier ***\n",
      "Accuracy:  0.7803847958704834\n",
      "Precision: 0.7741396074681536\n",
      "Recall:    0.7803847958704834\n",
      "F1:        0.7729450334821516\n",
      "\n",
      "\n",
      "\n",
      "[[ 426  152  188]\n",
      " [  65  810  605]\n",
      " [  40  354 3753]]\n",
      "\n",
      "*** RidgeClassifier ***\n",
      "Accuracy:  0.7803847958704834\n",
      "Precision: 0.7741396074681536\n",
      "Recall:    0.7803847958704834\n",
      "F1:        0.7729450334821516\n",
      "\n",
      "\n",
      "\n",
      "[[ 426  152  188]\n",
      " [  65  810  605]\n",
      " [  40  354 3753]]\n"
     ]
    },
    {
     "data": {
      "image/png": "[encoded data removed]",
      "text/plain": [
       "<Figure size 400x400 with 2 Axes>"
      ]
     },
     "metadata": {},
     "output_type": "display_data"
    }
   ],
   "source": [
    "X_test, y_test, y_predicted, ridgeScoreDict12 = modelAndPredict(\n",
    "    vectorizedTweets12, df[\"sentiment\"], model\n",
    ")\n",
    "showFormattedConfusionMatrix(y_test, y_predicted)"
   ]
  },
  {
   "cell_type": "markdown",
   "id": "c7ce88e9",
   "metadata": {
    "papermill": {
     "duration": 0.127326,
     "end_time": "2022-04-19T20:29:47.523495",
     "exception": false,
     "start_time": "2022-04-19T20:29:47.396169",
     "status": "completed"
    },
    "tags": []
   },
   "source": [
    "# Model Comparisons\n"
   ]
  },
  {
   "cell_type": "code",
   "execution_count": 280,
   "id": "d722dfe4",
   "metadata": {
    "execution": {
     "iopub.execute_input": "2022-04-19T20:29:47.784003Z",
     "iopub.status.busy": "2022-04-19T20:29:47.783102Z",
     "iopub.status.idle": "2022-04-19T20:29:47.813041Z",
     "shell.execute_reply": "2022-04-19T20:29:47.813484Z",
     "shell.execute_reply.started": "2022-04-07T05:46:53.577731Z"
    },
    "papermill": {
     "duration": 0.160375,
     "end_time": "2022-04-19T20:29:47.813639",
     "exception": false,
     "start_time": "2022-04-19T20:29:47.653264",
     "status": "completed"
    },
    "tags": []
   },
   "outputs": [
    {
     "data": {
      "text/html": [
       "<div>\n",
       "<style scoped>\n",
       "    .dataframe tbody tr th:only-of-type {\n",
       "        vertical-align: middle;\n",
       "    }\n",
       "\n",
       "    .dataframe tbody tr th {\n",
       "        vertical-align: top;\n",
       "    }\n",
       "\n",
       "    .dataframe thead th {\n",
       "        text-align: right;\n",
       "    }\n",
       "</style>\n",
       "<table border=\"1\" class=\"dataframe\">\n",
       "  <thead>\n",
       "    <tr style=\"text-align: right;\">\n",
       "      <th></th>\n",
       "      <th>accuracy</th>\n",
       "      <th>recall</th>\n",
       "      <th>precision</th>\n",
       "      <th>f1</th>\n",
       "    </tr>\n",
       "  </thead>\n",
       "  <tbody>\n",
       "    <tr>\n",
       "      <th>Ridge Classifier (Unigram &amp; Bi-gram)</th>\n",
       "      <td>0.780385</td>\n",
       "      <td>0.780385</td>\n",
       "      <td>0.774140</td>\n",
       "      <td>0.772945</td>\n",
       "    </tr>\n",
       "    <tr>\n",
       "      <th>Logistic Regression (Unigram &amp; Bi-gram)</th>\n",
       "      <td>0.778664</td>\n",
       "      <td>0.778664</td>\n",
       "      <td>0.773052</td>\n",
       "      <td>0.774863</td>\n",
       "    </tr>\n",
       "    <tr>\n",
       "      <th>Logistic Regression (Unigram)</th>\n",
       "      <td>0.754106</td>\n",
       "      <td>0.754106</td>\n",
       "      <td>0.757676</td>\n",
       "      <td>0.755706</td>\n",
       "    </tr>\n",
       "    <tr>\n",
       "      <th>Random Forest (Unigram)</th>\n",
       "      <td>0.751447</td>\n",
       "      <td>0.751447</td>\n",
       "      <td>0.745236</td>\n",
       "      <td>0.741034</td>\n",
       "    </tr>\n",
       "    <tr>\n",
       "      <th>Multinomial Naive Bayes (Unigram &amp; Bi-gram)</th>\n",
       "      <td>0.743939</td>\n",
       "      <td>0.743939</td>\n",
       "      <td>0.747670</td>\n",
       "      <td>0.742358</td>\n",
       "    </tr>\n",
       "    <tr>\n",
       "      <th>Ridge Classifier (Unigram)</th>\n",
       "      <td>0.738777</td>\n",
       "      <td>0.738777</td>\n",
       "      <td>0.734272</td>\n",
       "      <td>0.735616</td>\n",
       "    </tr>\n",
       "    <tr>\n",
       "      <th>Multinomial Naive Bayes (Unigram)</th>\n",
       "      <td>0.719381</td>\n",
       "      <td>0.719381</td>\n",
       "      <td>0.733946</td>\n",
       "      <td>0.720651</td>\n",
       "    </tr>\n",
       "  </tbody>\n",
       "</table>\n",
       "</div>"
      ],
      "text/plain": [
       "                                             accuracy    recall  precision  \\\n",
       "Ridge Classifier (Unigram & Bi-gram)         0.780385  0.780385   0.774140   \n",
       "Logistic Regression (Unigram & Bi-gram)      0.778664  0.778664   0.773052   \n",
       "Logistic Regression (Unigram)                0.754106  0.754106   0.757676   \n",
       "Random Forest (Unigram)                      0.751447  0.751447   0.745236   \n",
       "Multinomial Naive Bayes (Unigram & Bi-gram)  0.743939  0.743939   0.747670   \n",
       "Ridge Classifier (Unigram)                   0.738777  0.738777   0.734272   \n",
       "Multinomial Naive Bayes (Unigram)            0.719381  0.719381   0.733946   \n",
       "\n",
       "                                                   f1  \n",
       "Ridge Classifier (Unigram & Bi-gram)         0.772945  \n",
       "Logistic Regression (Unigram & Bi-gram)      0.774863  \n",
       "Logistic Regression (Unigram)                0.755706  \n",
       "Random Forest (Unigram)                      0.741034  \n",
       "Multinomial Naive Bayes (Unigram & Bi-gram)  0.742358  \n",
       "Ridge Classifier (Unigram)                   0.735616  \n",
       "Multinomial Naive Bayes (Unigram)            0.720651  "
      ]
     },
     "execution_count": 280,
     "metadata": {},
     "output_type": "execute_result"
    }
   ],
   "source": [
    "# Logistic Regression scores for different N-grams  \n",
    "lrScoreDf = pd.DataFrame(lrScoreDict, index=[\"Logistic Regression (Unigram)\"])\n",
    "lrScoreDf12 = pd.DataFrame(lrScoreDict12, index=[\"Logistic Regression (Unigram & Bi-gram)\"])\n",
    "\n",
    "# Random Forest scores for different N-grams\n",
    "rfScoreDf = pd.DataFrame(rfScoreDict, index=[\"Random Forest (Unigram)\"])\n",
    "\n",
    "# Multinomial Naive Bayes scores for different N-grams\n",
    "nbScoreDf = pd.DataFrame(nbScoreDict, index=[\"Multinomial Naive Bayes (Unigram)\"])\n",
    "nbScoreDf12 = pd.DataFrame(nbScoreDict12, index=[\"Multinomial Naive Bayes (Unigram & Bi-gram)\"])\n",
    "\n",
    "# Ridge Classifier scores for different N-grams\n",
    "ridgeScoreDf = pd.DataFrame(ridgeScoreDict, index=[\"Ridge Classifier (Unigram)\"])\n",
    "ridgeScoreDf12 = pd.DataFrame(ridgeScoreDict12, index=[\"Ridge Classifier (Unigram & Bi-gram)\"])\n",
    "\n",
    "# Combine all model results - only unigram and unigram+bigram\n",
    "clsCompDf = pd.concat([\n",
    "    # Logistic Regression\n",
    "    lrScoreDf, lrScoreDf12,\n",
    "    # Random Forest\n",
    "    rfScoreDf,\n",
    "    # Multinomial Naive Bayes\n",
    "    nbScoreDf, nbScoreDf12,\n",
    "    # Ridge Classifier\n",
    "    ridgeScoreDf, ridgeScoreDf12\n",
    "])\n",
    "\n",
    "clsCompDf.sort_values(by=[\"accuracy\", \"f1\"], ascending=False)"
   ]
  },
  {
   "cell_type": "markdown",
   "id": "46e02475",
   "metadata": {
    "papermill": {
     "duration": 0.130857,
     "end_time": "2022-04-19T20:29:48.075578",
     "exception": false,
     "start_time": "2022-04-19T20:29:47.944721",
     "status": "completed"
    },
    "tags": []
   },
   "source": [
    "We can compare the performance of our four selected models: **Logistic Regression**, **Random Forest Classifier**, **Multinomial Naive Bayes**, and **Ridge Classifier** based on their accuracy, precision, recall, and F1 scores.\n"
   ]
  },
  {
   "cell_type": "markdown",
   "id": "9fd382b8",
   "metadata": {
    "papermill": {
     "duration": 0.131603,
     "end_time": "2022-04-19T20:29:48.339779",
     "exception": false,
     "start_time": "2022-04-19T20:29:48.208176",
     "status": "completed"
    },
    "tags": []
   },
   "source": [
    "# Binary File Export\n",
    "\n",
    "To reuse the built model to predict other tweets, we will be saving the model as a binary file.\n"
   ]
  },
  {
   "cell_type": "code",
   "execution_count": 281,
   "id": "1a29bc98",
   "metadata": {
    "execution": {
     "iopub.execute_input": "2022-04-19T20:29:48.601647Z",
     "iopub.status.busy": "2022-04-19T20:29:48.600939Z",
     "iopub.status.idle": "2022-04-19T20:29:48.608941Z",
     "shell.execute_reply": "2022-04-19T20:29:48.609527Z",
     "shell.execute_reply.started": "2022-04-07T06:04:27.297596Z"
    },
    "papermill": {
     "duration": 0.140833,
     "end_time": "2022-04-19T20:29:48.609703",
     "exception": false,
     "start_time": "2022-04-19T20:29:48.468870",
     "status": "completed"
    },
    "tags": []
   },
   "outputs": [],
   "source": [
    "def modelAndPredict(X, target, model):\n",
    "    \"\"\"\n",
    "    Build model and predict scores.\n",
    "\n",
    "    :param X: X contains the stemmed and vectorized sentences.\n",
    "    :param target: the sentiment rating\n",
    "    :param model: selected model\n",
    "    :return: X_test, y_test, and y_predicted values.\n",
    "    \"\"\"\n",
    "\n",
    "    modelType = model.__class__.__name__\n",
    "\n",
    "    # Create training set with 75% of data and test set with 25% of data.\n",
    "    X_train, X_test, y_train, y_test = train_test_split(X, target, train_size=0.75, random_state=42)\n",
    "\n",
    "    # Build the model with the training data.\n",
    "    clfModel = model.fit(X_train, y_train)\n",
    "\n",
    "    # save model to a pickle file\n",
    "    # create directory for models\n",
    "    if not path.exists(\"./model\"):\n",
    "        makedirs(\"./model\")\n",
    "    pickle.dump(\n",
    "        clfModel, open(f\"./model/climate_change_tweet_sentiment_{modelType}.dat\", \"wb\")\n",
    "    )\n",
    "\n",
    "    # load model\n",
    "    loadedModel = pickle.load(\n",
    "        open(f\"./model/climate_change_tweet_sentiment_{modelType}.dat\", \"rb\")\n",
    "    )\n",
    "\n",
    "    clsScoreDict = evaluateModel(loadedModel, X_test, y_test, modelType)\n",
    "\n",
    "    # Predict target values.\n",
    "    y_prediction = model.predict(X_test)\n",
    "\n",
    "    return X_test, y_test, y_prediction, clsScoreDict"
   ]
  },
  {
   "cell_type": "code",
   "execution_count": 282,
   "id": "51c8eb87",
   "metadata": {
    "execution": {
     "iopub.execute_input": "2022-04-19T20:29:48.875382Z",
     "iopub.status.busy": "2022-04-19T20:29:48.874703Z",
     "iopub.status.idle": "2022-04-19T20:29:48.878607Z",
     "shell.execute_reply": "2022-04-19T20:29:48.879153Z",
     "shell.execute_reply.started": "2022-04-07T06:10:25.426352Z"
    },
    "papermill": {
     "duration": 0.139222,
     "end_time": "2022-04-19T20:29:48.879366",
     "exception": false,
     "start_time": "2022-04-19T20:29:48.740144",
     "status": "completed"
    },
    "tags": []
   },
   "outputs": [],
   "source": [
    "model = LogisticRegression(C=1.0, max_iter=1000, solver='liblinear', class_weight='balanced', random_state=42)"
   ]
  },
  {
   "cell_type": "code",
   "execution_count": 283,
   "id": "e9252e7e",
   "metadata": {
    "execution": {
     "iopub.execute_input": "2022-04-19T20:29:49.147889Z",
     "iopub.status.busy": "2022-04-19T20:29:49.147384Z",
     "iopub.status.idle": "2022-04-19T20:29:59.117000Z",
     "shell.execute_reply": "2022-04-19T20:29:59.117579Z",
     "shell.execute_reply.started": "2022-04-07T06:10:25.792551Z"
    },
    "papermill": {
     "duration": 10.105877,
     "end_time": "2022-04-19T20:29:59.117775",
     "exception": false,
     "start_time": "2022-04-19T20:29:49.011898",
     "status": "completed"
    },
    "tags": []
   },
   "outputs": [
    {
     "name": "stderr",
     "output_type": "stream",
     "text": [
      "/Library/Frameworks/Python.framework/Versions/3.13/lib/python3.13/site-packages/sklearn/linear_model/_logistic.py:1296: FutureWarning: Using the 'liblinear' solver for multiclass classification is deprecated. An error will be raised in 1.8. Either use another solver which supports the multinomial loss or wrap the estimator in a OneVsRestClassifier to keep applying a one-versus-rest scheme.\n",
      "  warnings.warn(\n"
     ]
    },
    {
     "name": "stdout",
     "output_type": "stream",
     "text": [
      "\n",
      "*** LogisticRegression ***\n",
      "Accuracy:  0.7663621574271055\n",
      "Precision: 0.7614716099275145\n",
      "Recall:    0.7663621574271055\n",
      "F1:        0.7633766656642121\n",
      "\n",
      "\n",
      "\n",
      "[[ 569  172  198]\n",
      " [ 134 1042  681]\n",
      " [ 132  550 4513]]\n"
     ]
    },
    {
     "data": {
      "image/png": "[encoded data removed]",
      "text/plain": [
       "<Figure size 400x400 with 2 Axes>"
      ]
     },
     "metadata": {},
     "output_type": "display_data"
    }
   ],
   "source": [
    "X_test, y_test, y_predicted, lrScoreDict = modelAndPredict(\n",
    "    vectorizedTweets, df[\"sentiment\"], model\n",
    ")\n",
    "showFormattedConfusionMatrix(y_test, y_predicted)"
   ]
  },
  {
   "cell_type": "markdown",
   "id": "e27330ec",
   "metadata": {
    "papermill": {
     "duration": 0.195237,
     "end_time": "2022-04-19T20:29:59.510551",
     "exception": false,
     "start_time": "2022-04-19T20:29:59.315314",
     "status": "completed"
    },
    "tags": []
   },
   "source": [
    "We also need a reference to vectors for each word found in the dataset. The word dictionary will be exported as a JSON file. Each unique word in the dataset is associated with its vector value.\n"
   ]
  },
  {
   "cell_type": "code",
   "execution_count": 284,
   "id": "fb4c3cb0",
   "metadata": {
    "execution": {
     "iopub.execute_input": "2022-04-19T20:29:59.905946Z",
     "iopub.status.busy": "2022-04-19T20:29:59.905253Z",
     "iopub.status.idle": "2022-04-19T20:30:00.018420Z",
     "shell.execute_reply": "2022-04-19T20:30:00.017680Z",
     "shell.execute_reply.started": "2022-04-07T06:22:20.536123Z"
    },
    "papermill": {
     "duration": 0.311739,
     "end_time": "2022-04-19T20:30:00.018593",
     "exception": false,
     "start_time": "2022-04-19T20:29:59.706854",
     "status": "completed"
    },
    "tags": []
   },
   "outputs": [],
   "source": [
    "# with open(\"wordDictionary.json\", \"w\") as fp:\n",
    "#     json.dump(vectorDictionary, fp)"
   ]
  }
 ],
 "metadata": {
  "kernelspec": {
   "display_name": "Python 3",
   "language": "python",
   "name": "python3"
  },
  "language_info": {
   "codemirror_mode": {
    "name": "ipython",
    "version": 3
   },
   "file_extension": ".py",
   "mimetype": "text/x-python",
   "name": "python",
   "nbconvert_exporter": "python",
   "pygments_lexer": "ipython3",
   "version": "3.13.7"
  },
  "papermill": {
   "default_parameters": {},
   "duration": 1218.761493,
   "end_time": "2022-04-19T20:30:02.233256",
   "environment_variables": {},
   "exception": null,
   "input_path": "__notebook__.ipynb",
   "output_path": "__notebook__.ipynb",
   "parameters": {},
   "start_time": "2022-04-19T20:09:43.471763",
   "version": "2.3.3"
  }
 },
 "nbformat": 4,
 "nbformat_minor": 5
}
